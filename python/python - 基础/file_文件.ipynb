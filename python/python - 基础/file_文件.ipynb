{
 "cells": [
  {
   "cell_type": "markdown",
   "metadata": {},
   "source": [
    "# 文件\n",
    "- open函数\n",
    "- mode\n",
    "    - r\n",
    "    - w\n",
    "    - x 创建方式打开\n",
    "    - a append\n",
    "    - b 二进制\n",
    "    - t 文本\n",
    "    - \\+ 可读写"
   ]
  },
  {
   "cell_type": "code",
   "execution_count": 3,
   "metadata": {},
   "outputs": [
    {
     "name": "stdout",
     "output_type": "stream",
     "text": [
      "<_io.TextIOWrapper name='test.txt' mode='w' encoding='UTF-8'>\n"
     ]
    }
   ],
   "source": [
    "f = open(r\"test.txt\",\"w\")\n",
    "# r 后面的字符不需要转译\n",
    "print(f)\n",
    "f.close()"
   ]
  },
  {
   "cell_type": "markdown",
   "metadata": {},
   "source": [
    "# with 语句\n",
    "- 自动判断文件作用域 自动关闭不使用的文件"
   ]
  },
  {
   "cell_type": "code",
   "execution_count": 7,
   "metadata": {},
   "outputs": [
    {
     "name": "stdout",
     "output_type": "stream",
     "text": [
      "杨博宇\n",
      "\n",
      "哈哈哈\n"
     ]
    }
   ],
   "source": [
    "with open(r\"test.txt\",\"r\") as f:\n",
    "    strline = f.readline()\n",
    "    while strline:\n",
    "        print(strline)\n",
    "        strline = f.readline()"
   ]
  },
  {
   "cell_type": "markdown",
   "metadata": {},
   "source": [
    "    - f.readline() 一行一行读\n",
    "    - list(f) 一行一行读\n",
    "    - f.read() 一个字符一个字符读"
   ]
  },
  {
   "cell_type": "code",
   "execution_count": 11,
   "metadata": {},
   "outputs": [
    {
     "name": "stdout",
     "output_type": "stream",
     "text": [
      "杨\n",
      "博\n"
     ]
    }
   ],
   "source": [
    "with open(r\"test.txt\", \"r\") as f:\n",
    "    a = f.read(2)\n",
    "    for i in a:\n",
    "        print(i)"
   ]
  },
  {
   "cell_type": "markdown",
   "metadata": {},
   "source": [
    "# seek(offset,from)(跳过的意思)\n",
    "    - 移动文件的读取位置\n",
    "    - from 的取之范围\n",
    "        - 0：从文件头开始偏移\n",
    "        - 1：从当其那位置\n",
    "        - 2：从文件尾\n",
    "    - 移动的单位是字节（byte）\n",
    "# tell函数 (显示指针当前位置)\n",
    "# write(str)\n",
    "# writelines() 可以使文件也可以是字符序列\n",
    "    "
   ]
  },
  {
   "cell_type": "code",
   "execution_count": 19,
   "metadata": {},
   "outputs": [
    {
     "name": "stdout",
     "output_type": "stream",
     "text": [
      "杨博宇\n",
      "哈哈哈\n",
      "杨博宇\n",
      "哈哈哈\n",
      "杨博宇\n",
      "哈哈哈\n",
      "杨博宇\n",
      "哈哈哈\n"
     ]
    }
   ],
   "source": [
    "with open(r\"test.txt\", \"r\") as f:\n",
    "#     b = f.seek(3,0)\n",
    "    a = f.read(3)\n",
    "    i = 0\n",
    "    while a:\n",
    "        i += 3\n",
    "        print(a)\n",
    "        b = f.seek(3*i,0)\n",
    "        a = f.read(3)\n",
    "#     print(a)    \n",
    "#     print(b)"
   ]
  },
  {
   "cell_type": "code",
   "execution_count": 20,
   "metadata": {},
   "outputs": [
    {
     "name": "stdout",
     "output_type": "stream",
     "text": [
      "杨博宇\n",
      "哈哈哈\n",
      "杨博宇\n",
      "哈哈哈\n",
      "杨博宇\n",
      "哈哈哈\n",
      "杨博宇\n",
      "哈哈哈\n"
     ]
    }
   ],
   "source": [
    "import time\n",
    "\n",
    "with open(r\"test.txt\", \"r\") as f:\n",
    "    a = f.read(3)\n",
    "    while a:\n",
    "        \n",
    "        print(a)\n",
    "        time.sleep(1)\n",
    "        a = f.read(3)\n"
   ]
  },
  {
   "cell_type": "code",
   "execution_count": 21,
   "metadata": {},
   "outputs": [
    {
     "name": "stdout",
     "output_type": "stream",
     "text": [
      "杨博宇\n",
      "9\n",
      "哈哈哈\n",
      "18\n",
      "杨博宇\n",
      "27\n",
      "哈哈哈\n",
      "36\n",
      "杨博宇\n",
      "45\n",
      "哈哈哈\n",
      "54\n",
      "杨博宇\n",
      "63\n",
      "哈哈哈\n",
      "72\n"
     ]
    }
   ],
   "source": [
    "with open(r\"test.txt\", \"r\") as f:\n",
    "    a = f.read(3)\n",
    "    b = f.tell()\n",
    "    \n",
    "    while a:\n",
    "        \n",
    "        print(a)\n",
    "        print(b)\n",
    "        a = f.read(3)\n",
    "        b = f.tell()\n"
   ]
  },
  {
   "cell_type": "code",
   "execution_count": 23,
   "metadata": {},
   "outputs": [],
   "source": [
    "with open(r\"test.txt\", \"a\") as f:\n",
    "    f.write(\"huyayihao \\/n huyanihaoa\")"
   ]
  },
  {
   "cell_type": "code",
   "execution_count": 24,
   "metadata": {},
   "outputs": [],
   "source": [
    "with open(r\"test.txt\", \"a\") as f:\n",
    "    f.writelines(\"huyayihao\")\n",
    "    f.writelines(\"好友适合远方\")    "
   ]
  },
  {
   "cell_type": "code",
   "execution_count": 25,
   "metadata": {},
   "outputs": [],
   "source": [
    "l = [\"i\",\"love\",\"杨楠\"]\n",
    "with open(r\"test.txt\", \"w\") as f:\n",
    "    f.writelines(l)\n"
   ]
  },
  {
   "cell_type": "markdown",
   "metadata": {},
   "source": [
    "# pickle 持久化 (好处是可以保存结构性的东西)\n",
    "- dump 序列化 //存储\n",
    "- load 反序列化 //读取"
   ]
  },
  {
   "cell_type": "code",
   "execution_count": 33,
   "metadata": {},
   "outputs": [],
   "source": [
    "import pickle\n",
    "age = [1,2,3,[87,990]]\n",
    "\n",
    "with open(r\"test1.txt\", \"wb\") as f:\n",
    "    pickle.dump(age,f)"
   ]
  },
  {
   "cell_type": "code",
   "execution_count": 34,
   "metadata": {},
   "outputs": [
    {
     "name": "stdout",
     "output_type": "stream",
     "text": [
      "[1, 2, 3, [87, 990]]\n"
     ]
    }
   ],
   "source": [
    "with open(r\"test1.txt\", \"rb\") as f:\n",
    "    a = pickle.load(f)\n",
    "    print(a)"
   ]
  },
  {
   "cell_type": "markdown",
   "metadata": {},
   "source": [
    "# shelve 持久化工具\n",
    "- 类似字典\n",
    "- open"
   ]
  },
  {
   "cell_type": "code",
   "execution_count": 35,
   "metadata": {},
   "outputs": [],
   "source": [
    "import shelve\n",
    "shv = shelve.open(r\"she.db\")\n",
    "\n",
    "shv['one'] = 1\n",
    "shv['two'] = 1\n",
    "shv['three'] = 1\n",
    "\n",
    "shv.close()"
   ]
  },
  {
   "cell_type": "code",
   "execution_count": 52,
   "metadata": {},
   "outputs": [],
   "source": [
    "shv = shelve.open(r\"she.db\")\n",
    "try:\n",
    "    shv['one'] = {\"aaa\":1,\"bbb\":1}\n",
    "    shv['two'] = 1\n",
    "    shv['three'] = 3\n",
    "finally:\n",
    "    shv.close()"
   ]
  },
  {
   "cell_type": "code",
   "execution_count": 53,
   "metadata": {},
   "outputs": [
    {
     "name": "stdout",
     "output_type": "stream",
     "text": [
      "{'aaa': 1, 'bbb': 1}\n",
      "{'aaa': 1, 'bbb': 1}\n"
     ]
    }
   ],
   "source": [
    "# 强制写回  可以使用with管理\n",
    "shv = shelve.open(r\"she.db\")\n",
    "try:\n",
    "    k = shv[\"one\"]\n",
    "    print(k)\n",
    "    k[\"aaa\"] = 100\n",
    "finally:\n",
    "    shv.close()\n",
    "# a = shv['one']\n",
    "# print(a)\n",
    "\n",
    "shv = shelve.open(r\"she.db\")\n",
    "try:\n",
    "    k = shv[\"one\"]\n",
    "    print(k)\n",
    "finally:\n",
    "    shv.close()"
   ]
  },
  {
   "cell_type": "code",
   "execution_count": 54,
   "metadata": {},
   "outputs": [
    {
     "name": "stdout",
     "output_type": "stream",
     "text": [
      "{'aaa': 1, 'bbb': 1}\n",
      "{'aaa': 100, 'bbb': 1}\n"
     ]
    }
   ],
   "source": [
    "# 强制写回  可以使用with管理\n",
    "shv = shelve.open(r\"she.db\",writeback=True)\n",
    "try:\n",
    "    k = shv[\"one\"]\n",
    "    print(k)\n",
    "    k[\"aaa\"] = 100\n",
    "finally:\n",
    "    shv.close()\n",
    "# a = shv['one']\n",
    "# print(a)\n",
    "\n",
    "shv = shelve.open(r\"she.db\")\n",
    "try:\n",
    "    k = shv[\"one\"]\n",
    "    print(k)\n",
    "finally:\n",
    "    shv.close()"
   ]
  },
  {
   "cell_type": "code",
   "execution_count": null,
   "metadata": {},
   "outputs": [],
   "source": []
  }
 ],
 "metadata": {
  "kernelspec": {
   "display_name": "Python 3",
   "language": "python",
   "name": "python3"
  },
  "language_info": {
   "codemirror_mode": {
    "name": "ipython",
    "version": 3
   },
   "file_extension": ".py",
   "mimetype": "text/x-python",
   "name": "python",
   "nbconvert_exporter": "python",
   "pygments_lexer": "ipython3",
   "version": "3.7.6"
  }
 },
 "nbformat": 4,
 "nbformat_minor": 4
}
