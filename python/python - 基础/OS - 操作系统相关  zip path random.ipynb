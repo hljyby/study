{
 "cells": [
  {
   "cell_type": "markdown",
   "metadata": {},
   "source": [
    "# OS - 操作系统相关\n",
    "- os 系统目录相关\n",
    "- os.path 系统路径相关\n",
    "- shutil 高级文件操作，目录书的操作，文件赋值，删除，移动\n",
    "- 路径\n",
    "    - 绝对路径\n",
    "    - 相对路径"
   ]
  },
  {
   "cell_type": "markdown",
   "metadata": {},
   "source": [
    "# OS 模块\n",
    "- getcwd() 获取当前工作目录\n",
    "- chdir(路径) 改变当前目录\n",
    "- listdir() 返回当前所有目录和文件名列表\n",
    "- makedirs() 递归创建文件夹\n",
    "- system(命令) 运行系统shell命令\n",
    "- getenv(名) 获取环境变量\n",
    "- putenv() 设置环境变量\n",
    "- exit() 退出当前程序"
   ]
  },
  {
   "cell_type": "code",
   "execution_count": 1,
   "metadata": {},
   "outputs": [],
   "source": [
    "import os"
   ]
  },
  {
   "cell_type": "code",
   "execution_count": 2,
   "metadata": {},
   "outputs": [
    {
     "data": {
      "text/plain": [
       "'/home/yangboyu/工作/python - 基础'"
      ]
     },
     "execution_count": 2,
     "metadata": {},
     "output_type": "execute_result"
    }
   ],
   "source": [
    "os.getcwd()"
   ]
  },
  {
   "cell_type": "code",
   "execution_count": 3,
   "metadata": {},
   "outputs": [
    {
     "data": {
      "text/plain": [
       "['python 基础.ipynb',\n",
       " '04 - 常用模块.ipynb',\n",
       " 'oop_面向对向.ipynb',\n",
       " 'OS - 操作系统相关  .ipynb',\n",
       " '.ipynb_checkpoints',\n",
       " '03 - 异常.ipynb']"
      ]
     },
     "execution_count": 3,
     "metadata": {},
     "output_type": "execute_result"
    }
   ],
   "source": [
    "# os.chdir('')\n",
    "os.listdir()"
   ]
  },
  {
   "cell_type": "code",
   "execution_count": 5,
   "metadata": {},
   "outputs": [
    {
     "name": "stdout",
     "output_type": "stream",
     "text": [
      "0\n"
     ]
    }
   ],
   "source": [
    "rst = os.system(\"touch yby.yby\")\n",
    "print(rst) #0代表成功"
   ]
  },
  {
   "cell_type": "code",
   "execution_count": 10,
   "metadata": {},
   "outputs": [
    {
     "name": "stdout",
     "output_type": "stream",
     "text": [
      "/home/yangboyu/下载/y/bin:/home/yangboyu/下载/y/condabin:/usr/local/sbin:/usr/local/bin:/usr/sbin:/usr/bin:/sbin:/bin:/usr/games:/usr/local/games:/snap/bin\n"
     ]
    }
   ],
   "source": [
    "rst = os.getenv(\"PATH\")\n",
    "print(rst)"
   ]
  },
  {
   "cell_type": "markdown",
   "metadata": {},
   "source": [
    "# 值\n",
    "- os.curdir 当前目录\n",
    "- os.pardir 父级目录\n",
    "- os.sep 当前系统的路径分隔符 window和linux 不同\n",
    "- os.linesep 当前系统的换行符\n",
    "- os.name 当前系统名称\n"
   ]
  },
  {
   "cell_type": "code",
   "execution_count": 13,
   "metadata": {},
   "outputs": [
    {
     "name": "stdout",
     "output_type": "stream",
     "text": [
      ".\n",
      "..\n",
      "/\n",
      "\n",
      "\n",
      "posix\n"
     ]
    }
   ],
   "source": [
    "print(os.curdir)\n",
    "print(os.pardir)\n",
    "print(os.sep)\n",
    "print(os.linesep)\n",
    "print(os.name)"
   ]
  },
  {
   "cell_type": "markdown",
   "metadata": {},
   "source": [
    "# os.path模块\n",
    "- abspath() 将路径转化为绝对路径\n",
    "- basename() 获取路径中的文件名部分\n",
    "- join 将多个路径合成一个路径 join(a,b)\n",
    "- split() 将路径分隔为文件夹部分和文件部分\n",
    "- isdir() 检测是否是目录"
   ]
  },
  {
   "cell_type": "markdown",
   "metadata": {},
   "source": [
    "# shutil 模块\n",
    "- copy(来源目录，目标目录)\n",
    "- copy2() 复制文件，保留元数据\n",
    "- copyfile() 将一个文件的内容拷贝到另一个文件中去\n",
    "- move(源，目标) 移动文件/文件夹"
   ]
  },
  {
   "cell_type": "markdown",
   "metadata": {},
   "source": [
    "# 归档和压缩\n",
    "- 归档\n",
    "    - 把多个文件合并到一个文件下\n",
    "- 压缩\n",
    "    - 用算法把多个文件合并到一个文件中去\n",
    "- make_archive() 归档操作\n",
    "    - shutil.make_archive('归档之后的目录和文件名'，‘后缀’，需要归档的文件夹)    \n",
    "    - shutil.unpack_archive('归档文件地址'，解包之后的地址)"
   ]
  },
  {
   "cell_type": "code",
   "execution_count": 14,
   "metadata": {},
   "outputs": [
    {
     "data": {
      "text/plain": [
       "'/home/yangboyu/工作/python - 基础/testzip.zip'"
      ]
     },
     "execution_count": 14,
     "metadata": {},
     "output_type": "execute_result"
    }
   ],
   "source": [
    "import shutil\n",
    "\n",
    "shutil.make_archive('/home/yangboyu/工作/python - 基础/testzip','zip',\"/home/yangboyu/工作/python - 基础\")"
   ]
  },
  {
   "cell_type": "markdown",
   "metadata": {},
   "source": [
    "# zip - 压缩包\n",
    "- zipfile\n",
    "    - ZipFile(file路径)\n",
    "        - getinfo()\n",
    "        - namelist() 查看压缩文件列表\n",
    "        - extractall(path) 解压缩"
   ]
  },
  {
   "cell_type": "code",
   "execution_count": 15,
   "metadata": {},
   "outputs": [],
   "source": [
    "import zipfile"
   ]
  },
  {
   "cell_type": "code",
   "execution_count": 16,
   "metadata": {},
   "outputs": [],
   "source": [
    "zf = zipfile.ZipFile(\"/home/yangboyu/工作/python - 基础/testzip.zip\")"
   ]
  },
  {
   "cell_type": "code",
   "execution_count": 18,
   "metadata": {},
   "outputs": [
    {
     "name": "stdout",
     "output_type": "stream",
     "text": [
      "<ZipInfo filename='yby.yby' compress_type=deflate filemode='-rw-r--r--' file_size=0 compress_size=2>\n"
     ]
    }
   ],
   "source": [
    "rst = zf.getinfo(\"yby.yby\")\n",
    "print(rst)"
   ]
  },
  {
   "cell_type": "code",
   "execution_count": 19,
   "metadata": {},
   "outputs": [],
   "source": [
    "zf.extractall(\"/home/yangboyu/工作/python - 基础/newzip\")"
   ]
  },
  {
   "cell_type": "markdown",
   "metadata": {},
   "source": [
    "# random\n",
    "- 随机数\n",
    "    - random.random()\n",
    "    - random.choice(序列) 随即返回序列中的某个值\n",
    "    - shuffle(列表) 随机打乱列表\n",
    "    - randint(a,b)返回一个a到b之间"
   ]
  },
  {
   "cell_type": "code",
   "execution_count": 20,
   "metadata": {},
   "outputs": [],
   "source": [
    "import random"
   ]
  },
  {
   "cell_type": "code",
   "execution_count": null,
   "metadata": {},
   "outputs": [],
   "source": []
  }
 ],
 "metadata": {
  "kernelspec": {
   "display_name": "Python 3",
   "language": "python",
   "name": "python3"
  },
  "language_info": {
   "codemirror_mode": {
    "name": "ipython",
    "version": 3
   },
   "file_extension": ".py",
   "mimetype": "text/x-python",
   "name": "python",
   "nbconvert_exporter": "python",
   "pygments_lexer": "ipython3",
   "version": "3.7.6"
  }
 },
 "nbformat": 4,
 "nbformat_minor": 4
}
