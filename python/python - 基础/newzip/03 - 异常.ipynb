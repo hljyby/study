{
 "cells": [
  {
   "cell_type": "markdown",
   "metadata": {},
   "source": [
    "# 异常\n",
    "- exit() 退出程序\n",
    "- 越具体的错误越往前放\n",
    "- 如果错误拦截了，直接运行finally代码 \n",
    "- 所有异常都继承自Exception 类\n",
    "- Exception as e \n",
    "- 写上面那句话，所有的异常都会被拦截\n",
    "- else: 没有找到定义的异常则执行\n",
    "- finally:横竖都会执行的语句"
   ]
  },
  {
   "cell_type": "code",
   "execution_count": 2,
   "metadata": {},
   "outputs": [],
   "source": [
    "#   try:\n",
    "\n",
    "#     操作\n",
    "\n",
    "#   except 异常类型：\n",
    "  \n",
    "#   解决方案\n",
    "  \n",
    "#   except （异常类型1，异常类型2。。。）：\n",
    "  \n",
    "#   解决方案\n",
    "  \n",
    "#   else:\n",
    "  \n",
    "#   解决方案\n",
    "\n",
    "#   finally:\n",
    "    \n",
    "#   结束的代码"
   ]
  },
  {
   "cell_type": "code",
   "execution_count": 1,
   "metadata": {},
   "outputs": [
    {
     "name": "stdout",
     "output_type": "stream",
     "text": [
      "请输入数0\n",
      "出错了\n"
     ]
    }
   ],
   "source": [
    "try:\n",
    "    num = int(input(\"请输入数\"))\n",
    "    print(100/num)\n",
    "except:\n",
    "    print(\"出错了\")\n",
    "#     exit()"
   ]
  },
  {
   "cell_type": "code",
   "execution_count": 2,
   "metadata": {},
   "outputs": [
    {
     "name": "stdout",
     "output_type": "stream",
     "text": [
      "请输入数0\n",
      "division by zero\n",
      "出错了\n"
     ]
    }
   ],
   "source": [
    "try:\n",
    "    num = int(input(\"请输入数\"))\n",
    "    print(100/num)\n",
    "except ZeroDivisionError as e:\n",
    "    print(e)\n",
    "    print(\"出错了\")\n",
    "#     exit()"
   ]
  },
  {
   "cell_type": "markdown",
   "metadata": {},
   "source": [
    "# 手动异常\n",
    "- raise 关键字引发异常\n",
    "- 自定义异常\n",
    "    - 自定义异常的代码\n",
    "    - 自定义异常的问题提示\n",
    "    - 自定义异常的行数\n",
    "- 作用是方便程序员找到错误代码\n"
   ]
  },
  {
   "cell_type": "code",
   "execution_count": 6,
   "metadata": {},
   "outputs": [
    {
     "name": "stdout",
     "output_type": "stream",
     "text": [
      "手动引发异常\n",
      "cuole34434\n",
      "\n"
     ]
    }
   ],
   "source": [
    "class ybbyError(ValueError):\n",
    "    __init__()\n",
    "# 自定义异常一定要是系统异常的子类\n",
    "try:\n",
    "    print('手动引发异常')\n",
    "    raise ybbyError\n",
    "except ybbyError as e:\n",
    "    print(\"cuole34434\")\n",
    "    print(e)\n",
    "except Exception as e:\n",
    "    print(\"cuole\")\n",
    "    print(e)\n",
    "else:\n",
    "    print(\"没有这个异常则执行\")\n",
    "finally:\n",
    "    print(\"横竖都会执行的语句\")"
   ]
  },
  {
   "cell_type": "code",
   "execution_count": null,
   "metadata": {},
   "outputs": [],
   "source": []
  }
 ],
 "metadata": {
  "kernelspec": {
   "display_name": "Python 3",
   "language": "python",
   "name": "python3"
  },
  "language_info": {
   "codemirror_mode": {
    "name": "ipython",
    "version": 3
   },
   "file_extension": ".py",
   "mimetype": "text/x-python",
   "name": "python",
   "nbconvert_exporter": "python",
   "pygments_lexer": "ipython3",
   "version": "3.7.6"
  }
 },
 "nbformat": 4,
 "nbformat_minor": 4
}
