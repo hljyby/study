{
 "cells": [
  {
   "cell_type": "markdown",
   "metadata": {},
   "source": [
    "# 常用模块\n",
    "- calendar\n",
    "- time\n",
    "- datetime\n",
    "- timeit\n",
    "- os\n",
    "- shutil\n",
    "- zip\n",
    "- math\n",
    "- string\n",
    "- 上述模块都得先导入 string 特例"
   ]
  },
  {
   "cell_type": "markdown",
   "metadata": {},
   "source": [
    "# calendar \n",
    "- 跟日历相关\n",
    "- isleap(2000) 判断是否是闰年\n",
    "- leapdays(2000,2018) 判断两个年份闰年的个数\n",
    "- monthrange(2017,3) 判断一个月周几开始 和总天数\n",
    "- monthcalendar(2017,3) 返回一个月每天的矩阵列表\n",
    "- prcal(年) 直接打印日历\n",
    "- prmonth(月) 直接打印月\n",
    "- weekday(年，月，日) 获取周几"
   ]
  },
  {
   "cell_type": "code",
   "execution_count": 7,
   "metadata": {},
   "outputs": [
    {
     "name": "stdout",
     "output_type": "stream",
     "text": [
      "                                  2017\n",
      "\n",
      "      January                   February                   March\n",
      "Mo Tu We Th Fr Sa Su      Mo Tu We Th Fr Sa Su      Mo Tu We Th Fr Sa Su\n",
      "                   1             1  2  3  4  5             1  2  3  4  5\n",
      " 2  3  4  5  6  7  8       6  7  8  9 10 11 12       6  7  8  9 10 11 12\n",
      " 9 10 11 12 13 14 15      13 14 15 16 17 18 19      13 14 15 16 17 18 19\n",
      "16 17 18 19 20 21 22      20 21 22 23 24 25 26      20 21 22 23 24 25 26\n",
      "23 24 25 26 27 28 29      27 28                     27 28 29 30 31\n",
      "30 31\n",
      "\n",
      "       April                      May                       June\n",
      "Mo Tu We Th Fr Sa Su      Mo Tu We Th Fr Sa Su      Mo Tu We Th Fr Sa Su\n",
      "                1  2       1  2  3  4  5  6  7                1  2  3  4\n",
      " 3  4  5  6  7  8  9       8  9 10 11 12 13 14       5  6  7  8  9 10 11\n",
      "10 11 12 13 14 15 16      15 16 17 18 19 20 21      12 13 14 15 16 17 18\n",
      "17 18 19 20 21 22 23      22 23 24 25 26 27 28      19 20 21 22 23 24 25\n",
      "24 25 26 27 28 29 30      29 30 31                  26 27 28 29 30\n",
      "\n",
      "        July                     August                  September\n",
      "Mo Tu We Th Fr Sa Su      Mo Tu We Th Fr Sa Su      Mo Tu We Th Fr Sa Su\n",
      "                1  2          1  2  3  4  5  6                   1  2  3\n",
      " 3  4  5  6  7  8  9       7  8  9 10 11 12 13       4  5  6  7  8  9 10\n",
      "10 11 12 13 14 15 16      14 15 16 17 18 19 20      11 12 13 14 15 16 17\n",
      "17 18 19 20 21 22 23      21 22 23 24 25 26 27      18 19 20 21 22 23 24\n",
      "24 25 26 27 28 29 30      28 29 30 31               25 26 27 28 29 30\n",
      "31\n",
      "\n",
      "      October                   November                  December\n",
      "Mo Tu We Th Fr Sa Su      Mo Tu We Th Fr Sa Su      Mo Tu We Th Fr Sa Su\n",
      "                   1             1  2  3  4  5                   1  2  3\n",
      " 2  3  4  5  6  7  8       6  7  8  9 10 11 12       4  5  6  7  8  9 10\n",
      " 9 10 11 12 13 14 15      13 14 15 16 17 18 19      11 12 13 14 15 16 17\n",
      "16 17 18 19 20 21 22      20 21 22 23 24 25 26      18 19 20 21 22 23 24\n",
      "23 24 25 26 27 28 29      27 28 29 30               25 26 27 28 29 30 31\n",
      "30 31\n",
      "\n"
     ]
    }
   ],
   "source": [
    "import calendar\n",
    "\n",
    "cal = calendar.calendar(2017,1,1)\n",
    "print(cal)\n",
    "\n"
   ]
  },
  {
   "cell_type": "markdown",
   "metadata": {},
   "source": [
    "# time 模块\n",
    "\n",
    "## 时间戳\n",
    "    - 一个时间串\n",
    "## UTC时间\n",
    "    - 世界协调时间 也叫世界标准时间\n",
    "## 夏令时\n",
    "    - 将时间调快一个小时，没啥用\n",
    "## 时间元祖\n",
    "    - 一个时间内容的普通元祖\n",
    "    - tm_year,tm_mon,tm_mday,tm_hour,tm_min，tm_sec,tm_wday(周几)，tm_yday(第几天)，tm_isdst(夏令时)"
   ]
  },
  {
   "cell_type": "markdown",
   "metadata": {},
   "source": [
    "- timezone 当前时区与UTC时间相差的毫秒\n",
    "- altzone 当前时区与UTC时间相差的毫秒, 在有夏令时的情况下\n",
    "- daylight 测当前是否有夏令时状态 0 表示是\n",
    "- time.time() 获取时间戳\n",
    "- time.localtime() 获取当前时间\n",
    "- time.asctime(时间元祖) 返回元祖正常字符串后的时间格式\n",
    "- time.mktime(时间元祖) 返回元祖正常字符串后的时间戳\n",
    "- time.ctime() 直接得到字符串化的当前时间\n",
    "- time.clock（） 获取cpu时间\n",
    "- time.sleep() 睡眠"
   ]
  },
  {
   "cell_type": "code",
   "execution_count": 35,
   "metadata": {},
   "outputs": [
    {
     "name": "stdout",
     "output_type": "stream",
     "text": [
      "1594212911.323658\n",
      "1.374352\n"
     ]
    },
    {
     "name": "stderr",
     "output_type": "stream",
     "text": [
      "/home/yangboyu/下载/y/lib/python3.7/site-packages/ipykernel_launcher.py:4: DeprecationWarning: time.clock has been deprecated in Python 3.3 and will be removed from Python 3.8: use time.perf_counter or time.process_time instead\n",
      "  after removing the cwd from sys.path.\n"
     ]
    }
   ],
   "source": [
    "import time\n",
    "\n",
    "print(time.time())\n",
    "print(time.clock())"
   ]
  },
  {
   "cell_type": "markdown",
   "metadata": {},
   "source": [
    "# python中时间日期格式化符号：\n",
    "\n",
    "- %y 两位数的年份表示（00-99）\n",
    "- %Y 四位数的年份表示（000-9999）\n",
    "- %m 月份（01-12）\n",
    "- %d 月内中的一天（0-31）\n",
    "- %H 24小时制小时数（0-23）\n",
    "- %I 12小时制小时数（01-12）\n",
    "- %M 分钟数（00=59）\n",
    "- %S 秒（00-59）\n",
    "- %a 本地简化星期名称\n",
    "- %A 本地完整星期名称\n",
    "- %b 本地简化的月份名称\n",
    "- %B 本地完整的月份名称\n",
    "- %c 本地相应的日期表示和时间表示\n",
    "- %j 年内的一天（001-366）\n",
    "- %p 本地A.M.或P.M.的等价符\n",
    "- %U 一年中的星期数（00-53）星期天为星期的开始\n",
    "- %w 星期（0-6），星期天为星期的开始\n",
    "- %W 一年中的星期数（00-53）星期一为星期的开始\n",
    "- %x 本地相应的日期表示\n",
    "- %X 本地相应的时间表示\n",
    "- %Z 当前时区的名称\n",
    "- %% %号本身"
   ]
  },
  {
   "cell_type": "code",
   "execution_count": 11,
   "metadata": {},
   "outputs": [
    {
     "name": "stdout",
     "output_type": "stream",
     "text": [
      "2020年07月08日\n"
     ]
    }
   ],
   "source": [
    "t = time.localtime()\n",
    "ft = time.strftime(\"%Y年%m月%d日\",t)\n",
    "print(ft)"
   ]
  },
  {
   "cell_type": "markdown",
   "metadata": {},
   "source": [
    "# datetime 模块\n",
    "- 提供日期和时间的运算和表示\n",
    "- datetime.date(2018,12,23)\n",
    "- datetime.time() 小时 分钟 秒\n",
    "- datetime.datetime() 提供日期和时间的组合\n",
    "- datetime.timedelta() 提供一个时间差"
   ]
  },
  {
   "cell_type": "code",
   "execution_count": 28,
   "metadata": {},
   "outputs": [
    {
     "name": "stdout",
     "output_type": "stream",
     "text": [
      "2018-12-23\n",
      "23\n",
      "12\n",
      "2018\n",
      "12:23:17\n",
      "2018-12-23 00:00:00\n"
     ]
    }
   ],
   "source": [
    "import datetime\n",
    "dt = datetime.date(2018,12,23)\n",
    "print(dt)\n",
    "print(dt.day)\n",
    "print(dt.month)\n",
    "print(dt.year)\n",
    "ddt = datetime.time(12,23,17)\n",
    "\n",
    "dddt = datetime.datetime(2018,12,23)\n",
    "\n",
    "print(ddt)\n",
    "print(dddt)"
   ]
  },
  {
   "cell_type": "code",
   "execution_count": 38,
   "metadata": {},
   "outputs": [
    {
     "name": "stdout",
     "output_type": "stream",
     "text": [
      "2020-07-08 20:55:58.121348\n",
      "2020-07-08 20:55:58.122882\n",
      "2020-07-08 20:55:58.123529\n"
     ]
    }
   ],
   "source": [
    "from datetime import datetime\n",
    "\n",
    "dddt = datetime(2018,12,23)\n",
    "\n",
    "# 常用类方法\n",
    "# today\n",
    "# now\n",
    "# utcnow\n",
    "# fromtimestamp 从时间戳中返回本地时间\n",
    "print(dddt.now())\n",
    "print(dddt.today())\n",
    "\n",
    "print(dddt.fromtimestamp(time.time()))"
   ]
  },
  {
   "cell_type": "code",
   "execution_count": 41,
   "metadata": {},
   "outputs": [
    {
     "name": "stdout",
     "output_type": "stream",
     "text": [
      "2020-07-08 21-00-48\n",
      "2020-07-08 22-00-48\n"
     ]
    }
   ],
   "source": [
    "from datetime import datetime,timedelta\n",
    "\n",
    "dt = datetime.now()\n",
    "\n",
    "print(dt.strftime(\"%Y-%m-%d %H-%M-%S\"))\n",
    "\n",
    "dh = timedelta(hours = 1)\n",
    "\n",
    "print((dt+dh).strftime(\"%Y-%m-%d %H-%M-%S\"))"
   ]
  },
  {
   "cell_type": "code",
   "execution_count": 51,
   "metadata": {},
   "outputs": [
    {
     "name": "stdout",
     "output_type": "stream",
     "text": [
      "3.8801038609999523\n",
      "7.643674756999644\n"
     ]
    }
   ],
   "source": [
    "# timeit 测量时间工具\n",
    " \n",
    "import timeit\n",
    "\n",
    "# number 执行多少次\n",
    "# repeat 重复执行几次 返回数组 timeit.repeat(stmt=\"[i for i in range(1000)]\",repeat =2 ,number = 100000)\n",
    "\n",
    "c = \"\"\"\n",
    "sum = []\n",
    "\n",
    "for i in range(1000):\n",
    "    sum.append(i)\n",
    "\n",
    "\"\"\"\n",
    "\n",
    "\n",
    "t1 = timeit.timeit(stmt=\"[i for i in range(1000)]\",number = 100000)\n",
    "\n",
    "t2 = timeit.timeit(stmt=c,number = 100000)\n",
    "\n",
    "print(t1)\n",
    "print(t2)\n",
    "     \n"
   ]
  },
  {
   "cell_type": "code",
   "execution_count": null,
   "metadata": {},
   "outputs": [],
   "source": [
    "\"\"\"　　\n",
    "    stmt: 这个参数就是statement,可以把要进行计算时间的代码放在里面。他可以直接接受字符串的表达式，也可以接受单个变量，也可以接受函数。\n",
    "\n",
    "　　setup:  这个参数可以将stmt的环境传进去。比如各种import和参数什么的。\n",
    "\n",
    "　　timer: 这个参数一般使用不到，具体使用可以参看文档。\n",
    "\n",
    "　　Timer类下面还有repeat和timeit方法 使用也非常方便就是 timeit.timeit 和  timeit.repeat。\n",
    "\n",
    "　　一个就是上面例子的timeit，一个就是repeat 其实repeat就比timeit多了一个执行Timer次数的参数。这个执行次数会以数组的形式返回.\n",
    "  \"\"\""
   ]
  },
  {
   "cell_type": "code",
   "execution_count": 56,
   "metadata": {},
   "outputs": [
    {
     "name": "stdout",
     "output_type": "stream",
     "text": [
      "0\n",
      "1\n",
      "2\n",
      "0\n",
      "1\n",
      "2\n",
      "0\n",
      "1\n",
      "2\n",
      "0\n",
      "1\n",
      "2\n",
      "0\n",
      "1\n",
      "2\n",
      "0\n",
      "1\n",
      "2\n",
      "0\n",
      "1\n",
      "2\n",
      "0\n",
      "1\n",
      "2\n",
      "0\n",
      "1\n",
      "2\n",
      "0\n",
      "1\n",
      "2\n",
      "0\n",
      "1\n",
      "2\n",
      "0\n",
      "1\n",
      "2\n",
      "0\n",
      "1\n",
      "2\n",
      "0\n",
      "1\n",
      "2\n",
      "0\n",
      "1\n",
      "2\n",
      "0\n",
      "1\n",
      "2\n",
      "0\n",
      "1\n",
      "2\n",
      "0\n",
      "1\n",
      "2\n",
      "0\n",
      "1\n",
      "2\n",
      "0\n",
      "1\n",
      "2\n",
      "[0.003009152999766229, 0.006913825999617984]\n"
     ]
    }
   ],
   "source": [
    "s = \"\"\"\n",
    "def doIt(num):\n",
    "    for i in range(num):\n",
    "        print(i)\n",
    "\"\"\"\n",
    "#\n",
    "# 执行doIt(num)\n",
    "# setup负责把环境变量准备好\n",
    "# 世纪用timeit 创建了一个小环境\n",
    "# 在小环境中执行代码的顺序是\n",
    "\"\"\"\n",
    "def doIt(num):\n",
    "    for i in range(num):\n",
    "        print(i)\n",
    "\n",
    "num = 3\n",
    "\n",
    "doIt(num)\n",
    "\n",
    "\"\"\"\n",
    "# t = timeit.timeit(\"doIt(num)\",setup=s+\"num=3\",repeat = 2,number = 10)\n",
    "\n",
    "t = timeit.repeat(\"doIt(num)\",setup=s+\"num=3\",repeat = 2,number = 10)\n",
    "print(t)"
   ]
  },
  {
   "cell_type": "code",
   "execution_count": null,
   "metadata": {},
   "outputs": [],
   "source": []
  }
 ],
 "metadata": {
  "kernelspec": {
   "display_name": "Python 3",
   "language": "python",
   "name": "python3"
  },
  "language_info": {
   "codemirror_mode": {
    "name": "ipython",
    "version": 3
   },
   "file_extension": ".py",
   "mimetype": "text/x-python",
   "name": "python",
   "nbconvert_exporter": "python",
   "pygments_lexer": "ipython3",
   "version": "3.7.6"
  }
 },
 "nbformat": 4,
 "nbformat_minor": 4
}
