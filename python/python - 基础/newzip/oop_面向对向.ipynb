{
 "cells": [
  {
   "cell_type": "code",
   "execution_count": 4,
   "metadata": {},
   "outputs": [
    {
     "name": "stdout",
     "output_type": "stream",
     "text": [
      "1\n",
      "2\n",
      "94426729108224\n",
      "94426729108256\n",
      "1\n",
      "2\n",
      "94426729108224\n",
      "94426729108256\n",
      "{'__module__': '__main__', 'name': 1, 'age': 2, 'say': <function S.say at 0x7fc2a8355950>, '__dict__': <attribute '__dict__' of 'S' objects>, '__weakref__': <attribute '__weakref__' of 'S' objects>, '__doc__': None}\n"
     ]
    }
   ],
   "source": [
    "class S():\n",
    "    name = 1\n",
    "    age = 2\n",
    "    def say(self):\n",
    "        self.name = \"aaa\"\n",
    "        self.age = 18\n",
    "print(S.name)\n",
    "print(S.age)\n",
    "\n",
    "print(id(S.name))\n",
    "print(id(S.age))\n",
    "\n",
    "s = S()\n",
    "\n",
    "print(s.name)\n",
    "print(s.age)\n",
    "\n",
    "print(id(s.name))\n",
    "print(id(s.age))\n",
    "\n",
    "print(S.__dict__)"
   ]
  },
  {
   "cell_type": "markdown",
   "metadata": {},
   "source": [
    "# 类和对象\n",
    "- class A(): 是类\n",
    "- a = A() 是对象\n",
    "- 类和对象都可以存储成员\n",
    "- 当访问一个成员的时候 会先访问对象 然后在访问 类 \n",
    "- 当创建一个新对象的时候 ，类中的成员不会放到对象中 而是创建一个空的对象，没有成员\n",
    "- 通过对象对类成员的重新赋值 或通过对象添加成员时，对应成员会保存在对象中，而不是改变类成员"
   ]
  },
  {
   "cell_type": "markdown",
   "metadata": {},
   "source": [
    "# self\n",
    "- self 代表对象本身 例 t.say() 调用这个函数 就是把t这个对象传入到say函数中\n",
    "- 在类中传了self 的函数是非绑定类 就是说他和这个类没绑定了 没传self 的是绑定类无法被t对象调用 得用类名调用 例 Teacher.sayhellow()\n",
    "- "
   ]
  },
  {
   "cell_type": "code",
   "execution_count": 9,
   "metadata": {},
   "outputs": [
    {
     "name": "stdout",
     "output_type": "stream",
     "text": [
      "1\n",
      "hellow\n",
      "1\n",
      "2\n"
     ]
    }
   ],
   "source": [
    "class Teacher():\n",
    "    name = 5\n",
    "    age = 6\n",
    "    def say(self):\n",
    "        self.name = 1\n",
    "        self.age = 2\n",
    "        print(self.name)\n",
    "    def sayhellow():\n",
    "        print(\"hellow\")\n",
    "t = Teacher()\n",
    "t.say()\n",
    "\n",
    "Teacher.sayhellow()\n",
    "print(t.name)\n",
    "print(t.age)"
   ]
  },
  {
   "cell_type": "code",
   "execution_count": 16,
   "metadata": {},
   "outputs": [
    {
     "name": "stdout",
     "output_type": "stream",
     "text": [
      "ccc\n",
      "ddd\n",
      "ccc\n",
      "ddd\n",
      "aaa\n",
      "bbb\n",
      "eee\n",
      "fff\n",
      "ccc\n",
      "ddd\n"
     ]
    }
   ],
   "source": [
    "class A():\n",
    "    name = \"aaa\"\n",
    "    age = \"bbb\"\n",
    "    def __init__(self):\n",
    "        self.name = \"ccc\"\n",
    "        self.age = \"ddd\"\n",
    "    \n",
    "    def say(self):\n",
    "        print(self.name)\n",
    "        print(self.age)\n",
    "class B():\n",
    "    name = \"eee\"\n",
    "    age = \"fff\"\n",
    "a = A()\n",
    "# 此时系统会把a 当作参数传入函数\n",
    "a.say()\n",
    "# 此时self 被a 替换\n",
    "A.say(a)\n",
    "\n",
    "# 同样 A也可以当作参数\n",
    "A.say(A)\n",
    "\n",
    "# 同理 B也可以当作参数\n",
    "A.say(B)\n",
    "\n",
    "# 以上代码叫鸭子模型 在c++这么写不行 python 可以"
   ]
  },
  {
   "cell_type": "markdown",
   "metadata": {},
   "source": [
    "# 面向对象三大特性\n",
    "- 封装\n",
    "- 多态\n",
    "- 继承\n",
    "## 封装就是对对象的成员进行访问限制\n",
    "- 封装的三个级别\n",
    "       - 公开 public\n",
    "       - 受保护的 protected\n",
    "       - 私有的 private\n",
    "       - public private protected 不是关键字\n",
    "- 判别的对象的位置\n",
    "       - 对象内部\n",
    "       - 对象外部\n",
    "       - 子类中\n",
    "- 私有\n",
    "       - 私有成员是最高级别的封装，只能在当前类或对象中访问\n",
    "       - 在成员前面加两个下划线即可 __\n",
    "       - class Persion():\n",
    "       -       __age = 12 # 私有成员\n",
    "       - python 的私有不是真私有 ，是改了名字\n",
    "       - 可以使用对象._classname__attributename访问\n",
    "- 受保护的封装\n",
    "       - 自己，和子类可以访问在外部不可以\n",
    "       - 在成员前加下划线 _\n",
    "- 公开的\n",
    "       - 任何地方都可以访问\n",
    "## 继承\n",
    "- 一个类可以获得另一个类的成员属性和方法\n",
    "- 作用:减少代码\n",
    "- 继承与被继承的概念\n",
    "    - 被继承的类是父类 叫基类 也叫超类\n",
    "    - 用于继承的类叫派生类，也叫子类\n",
    "    - 继承与被继承存在一个is 关系 （人 是 动物的一种）\n",
    "- 继承的特征\n",
    "    - 所有类都继承与object\n",
    "    - 子类一旦继承父类，可以使用出类私有成员外的所有内容\n",
    "    - 子类继承父类后并没有将父类成员完全赋值到子类上而是通过引用关系访问\n",
    "    - 子类中可以定义独有的属性和方法\n",
    "    - 子类定义的成员和父类的成员相同，优先使用子类\n",
    "    - 子类如果想扩充父类的方法，可以定义新方法的同时，访问父类的成员进行代码重用，可以使用父类名.父类成员的格式来调用，或者用super().父类成员的格式来调用。super()不是父类 ，他代表得到父类。可以当父类去理解\n",
    "- 继承变量函数的查找顺序问题\n",
    "    - 优先查找自己的变量\n",
    "    - 没有则查父类\n",
    "    - 构造函数如果本类没有定义，则自动查找调用父类的构造函数\n",
    "    - 如果本类有定义，就不再向上查找\n",
    "- 构造函数\n",
    "    - 构造函数 是一类特殊的函数 ，在类进行实例化之前进行调用\n",
    "    - 如果定义了构造函数，则实例化的时候使用构造函数，不查找父类的构造函数\n",
    "    - 如果没定义则自动查找父类的构造函数\n",
    "    - 如果子类美定义，父类的构造函数带参数，则构造函数队形应按父类参数构造\n",
    "- super\n",
    "    - super 不是关键子 ，而是一个类\n",
    "    - super 的作用是 获取MRO (MethodResolustionOrder)方法解析顺序 列表中的第一个类  A.__mro__ 获取族谱\n",
    "    - super 于父类没有直接关系，但通过super可以直接调用到父类\n",
    "    - super(Teacher,self) 查Teacher 的父类 啥也不传就是调用父类\n",
    "- 继承\n",
    "    - 单继承，每个类只能继承一个类\n",
    "    - 多继承，每个类允许继承多个类\n",
    "- 单继承和多继承的优缺点\n",
    "    - 单继承\n",
    "        - 传承有序，逻辑清晰，语法简单，隐患少\n",
    "        - 功能不能无限拓展\n",
    "    - 多继承\n",
    "        - 优点：类的功能拓展方便\n",
    "        - 缺点：继承关系混乱\n",
    "- 菱形继承问题\n",
    "    - 多个子类继承自同一个父类，这些子类又被同一个类继承，于是继承关系图形成一个菱形图谱\n",
    "    - MRO 就是多继承中，用于保存继承顺序的一个列表\n",
    "    - 所有父类的MRO列表并遵循如下三条准则:\n",
    "        - 1.子类会先于父类被检查\n",
    "        - 2.多个父类会根据它们在列表中的顺序被检查\n",
    "        - 3.如果对下一个类存在两个合法的选择,选择第一个父类\n",
    "        - https://zhuanlan.zhihu.com/p/106963767\n",
    "    - super\n",
    "        - 1. super()函数是用来调用父类的一个方法，是为了解决多重继承的问题的\n",
    "        - 2. 使用super()函数调用的是在mro顺序中的直接父类\n",
    "        - 3. super()的主要作用是不需要使用父类名来调用父类的方法，单子类改为继承其他父类的时候，不需要对子类\n",
    "        - 内部的调用父类的函数做任何修改就可以调用新父类的方法。增强了代码的可维护性。不需要在所有调用的地方进行修改。\n",
    "        - 4. super()函数返回一个代理对象作为代表来调用父类的方法。对于访问已经在类中重写的继承方法是十分有用的\n",
    "## 多态 （在C C++ JAVA 中多态是函数）\n",
    "- 多态就是同一个对象在不同情况下有不同的状态出现\n",
    "- 多态不是语法，是一种设计思想\n",
    "- 多态性：一种调用方式，不同的执行结果\n",
    "- 多态：同一事物的多种形态，动物分为 人，狗，猪等\n",
    "- https://www.cnblogs.com/shadowtux/p/8960640.html\n",
    "\n",
    "- Mixin 设计模式\n",
    "    - 主要采用多继承的方式对类的功能进行扩展\n",
    "    - https://www.cnblogs.com/aademeng/articles/7262510.html#top\n",
    "    - https://www.liaoxuefeng.com/wiki/897692888725344/923030524000032 (廖雪峰)\n",
    "- 我们使用多继承语法来实现Mixin\n",
    "    - 使用Mixin实现多继承的时候非常小心\n",
    "    - 首先他必须表示某一单一功能，而不是某个物品\n",
    "    - 职责必须单一，如果多个功能，则写多个Mixin\n",
    "    - Mixin不能依赖于子类实现\n",
    "    - 子类没有继承这个Mixin,也照样能工作，只是缺少了某个功能\n",
    "- 优点\n",
    "    - 使用Mixin可以在不对类进行任何修改的情况下，扩张功能\n",
    "    - 可以方便的组织不同功能组件的划分\n",
    "    - 可以根据需要任意调整功能类的组合\n",
    "    - 可以避免创建很多新的类，导致类的继承混乱\n",
    "# 类相关函数\n",
    "    - issubclass(A,B) 检测一个类是否是另一个类的子类\n",
    "    - isinstance(a,A) 检测一个对象是否是一个类的实例\n",
    "    - hasattr(a,”name“) 检测一个对象时候含有成员xxxx\n",
    "    - getattr\n",
    "    - setattr()\n",
    "    - delattr()\n",
    "    - dir() 获取对象的成员列表\n",
    "# 类的成员描述符\n",
    "- 类的成员描述符是为了在类中对类的成员属性进行相关操作而创建的一种方式\n",
    "    - get:获取属性的操作\n",
    "    - set:修改或添加属性的操作\n",
    "    - delete:删除书信个操作\n",
    "- 如果想使用类的成员描述符，大概有三种方法\n",
    "    - 使用类实现描述器\n",
    "    - 使用属性修饰符\n",
    "    - 使用property函数\n",
    "        - property(fget,fset,fdel,doc)\n",
    "- 无论那种修饰符都是对成员属性进行相应控制\n",
    "    - 类的方式：适合多个类中的多个属性共用一个描述符\n",
    "    - property:适用当前类中，可以控制一个类中的多个属性\n",
    "    - 属性修饰符：适用于当前类中，控制一个类中的一个属性\n",
    "# 类的魔术方法\n",
    "    - 不需要人为调用 到时机自动调用\n",
    "    - 操作类\n",
    "        - __init__\n",
    "        - __new__ 对象实例化方法\n",
    "        - __call__ 对象当函数用时调用 a = A() a()\n",
    "        - __str__ 对象（实例）被当作字符串调用的时候\n",
    "        - __repr__ 返回字符串，和__str__有区别\n",
    "            - __str__ 的返回结果可读性强。也就是说，__str__ 的意义是得到便于人们阅读的信息，就像上面的 '2018-04-03' 一样。\n",
    "            - __repr__ 的返回结果应更准确。怎么说，__repr__ 存在的目的在于调试，便于开发者使用。细心的读者会发现将 __repr__ 返回的方式直接复制到命令行上，是可以直接执行的。\n",
    "    - 描述符\n",
    "        - __set__\n",
    "        - __get__\n",
    "        - __delete__\n",
    "    - 属性操作相关\n",
    "        - __getattr__ 访问一个不存在的属性时触发\n",
    "        - __setattr__ 设置属性时触发 __setattr__(self,\"name\",value)\n",
    "            - 参数\n",
    "                - self \n",
    "                - 被设置属性的名称，字符串形式出现\n",
    "                - 要设置的值\n",
    "            - 作用\n",
    "                - 进行属性设置的时候进行验证或修改\n",
    "                - 如果在函数中直接为属性赋值，会造成死循环\n",
    "                - 在该函数中不能对属性直接赋值，要在父类中赋值，spuer().__setattr__(name,value)\n",
    "        - __del__ 类似上面的设置\n",
    "    - 运算相关的\n",
    "        - __gt__ 进行大于判断时触发\n",
    "            - 参数\n",
    "                - self\n",
    "                - 第二个参数是第二个对象\n",
    "                - 返回值可以是任意值，推荐返回布尔值\n",
    "# 类和对象的三种方法\n",
    "    - 实例方法\n",
    "        - 必须实例化才能访问 self\n",
    "    - 静态方法\n",
    "        - 不需要实例化，通过类直接访问 ，没有self @staticmethod ，不加说明不会报错（@staticmethod）\n",
    "    - 类方法\n",
    "        - 不需要实例化 cls @classmethod 不加说明会报错（@classmethod）第一个参数可以换别的但是推荐用cls"
   ]
  },
  {
   "cell_type": "code",
   "execution_count": 27,
   "metadata": {},
   "outputs": [
    {
     "name": "stdout",
     "output_type": "stream",
     "text": [
      "<class '__main__.A'>\n"
     ]
    }
   ],
   "source": [
    "class A():\n",
    "    def eat(self):\n",
    "        print(\"eat\")\n",
    "    \n",
    "    @classmethod\n",
    "    def eet(cls):\n",
    "        print(cls)\n",
    "    @staticmethod\n",
    "    def aaa():\n",
    "        pass\n",
    "    \n",
    "A.eet()"
   ]
  },
  {
   "cell_type": "code",
   "execution_count": 23,
   "metadata": {},
   "outputs": [
    {
     "name": "stdout",
     "output_type": "stream",
     "text": [
      "<__main__.A object at 0x7f61983a5610> <__main__.A object at 0x7f61983a5510>\n",
      "False\n"
     ]
    }
   ],
   "source": [
    "class A():\n",
    "    def __init__(self,name):\n",
    "        self.name = name\n",
    "    def __gt__(self,value):\n",
    "        print(self,value)\n",
    "        return self.name > value.name\n",
    "a1 = A(\"one\")\n",
    "a2 = A(\"two\")\n",
    "# 字符串比大小 比英文字母 顺序 越往后越大\n",
    "print(a1>a2)"
   ]
  },
  {
   "cell_type": "code",
   "execution_count": 6,
   "metadata": {},
   "outputs": [
    {
     "name": "stdout",
     "output_type": "stream",
     "text": [
      "{'__module__': '__main__', '_Persion__age': 13, 'name': 'aaa', '__dict__': <attribute '__dict__' of 'Persion' objects>, '__weakref__': <attribute '__weakref__' of 'Persion' objects>, '__doc__': None}\n",
      "aaa\n",
      "13\n",
      "13\n"
     ]
    }
   ],
   "source": [
    "class Persion():\n",
    "    __age = 13\n",
    "    name = \"aaa\"\n",
    "    \n",
    "p = Persion\n",
    "print(p.__dict__)\n",
    "print(Persion.name)\n",
    "print(Persion._Persion__age)\n",
    "print(p._Persion__age)"
   ]
  },
  {
   "cell_type": "code",
   "execution_count": 75,
   "metadata": {},
   "outputs": [
    {
     "name": "stdout",
     "output_type": "stream",
     "text": [
      "jkl\n",
      "jkl\n",
      "sleep ppp\n",
      "jkl\n",
      "Teacher,sleep\n",
      "jkl\n",
      "sleep ppp\n",
      "ghfd\n",
      "None\n"
     ]
    }
   ],
   "source": [
    "# 在python中任何类都有共同的父类 object 空的可以为空 Persion 不用加括号 但是建议加\n",
    "\n",
    "class Persion(object):\n",
    "    name = \"aaa\"\n",
    "    age = 0\n",
    "    hobby = 0\n",
    "    def sleep(self,name):\n",
    "        print(\"sleep\",name)\n",
    "        print(self.name)\n",
    "\n",
    "class Teacher(Persion):\n",
    "#     name = Persion.name\n",
    "#     name = super(Teacher,self).name\n",
    "#     hobby = \"sss\"\n",
    "    name = \"jkl\"\n",
    "    hobby = 1\n",
    "    def sleep(self,name):\n",
    "        super().sleep(name)\n",
    "        print(\"Teacher,sleep\")\n",
    "\n",
    "class Student(Teacher):\n",
    "        def __init__(self):\n",
    "            self.name = \"ghfd\"\n",
    "            self.hobby = super(Teacher,self).sleep(\"ppp\")\n",
    "        \n",
    "\n",
    "# s = Student()\n",
    "\n",
    "# print(Student.hobby)\n",
    "        \n",
    "print(Teacher.name)\n",
    "\n",
    "# Teacher.name = \"bbb\"\n",
    "\n",
    "print(Teacher.name)\n",
    "\n",
    "# print(Persion.name)\n",
    "\n",
    "t = Teacher()\n",
    "t.sleep(\"ppp\")\n",
    "\n",
    "print(t.name)\n",
    "\n",
    "\n",
    "s = Student()\n",
    "print(s.hobby)"
   ]
  },
  {
   "cell_type": "code",
   "execution_count": 1,
   "metadata": {},
   "outputs": [],
   "source": [
    "class Dog():\n",
    "    def __init__(self):\n",
    "        #每次实例化的时候第一个被调用\n",
    "        print(\"my dog is good\")"
   ]
  },
  {
   "cell_type": "markdown",
   "metadata": {},
   "source": [
    "# __mro__ 查看类的族谱\n",
    "\n",
    "- issubclass(B,A) B是不是A的子类"
   ]
  },
  {
   "cell_type": "code",
   "execution_count": 15,
   "metadata": {},
   "outputs": [
    {
     "name": "stdout",
     "output_type": "stream",
     "text": [
      "(<class '__main__.A'>, <class 'object'>)\n",
      "(<class '__main__.B'>, <class '__main__.A'>, <class 'object'>)\n",
      "['__module__', '__dict__', '__weakref__', '__doc__', '__repr__', '__hash__', '__str__', '__getattribute__', '__setattr__', '__delattr__', '__lt__', '__le__', '__eq__', '__ne__', '__gt__', '__ge__', '__init__', '__new__', '__reduce_ex__', '__reduce__', '__subclasshook__', '__init_subclass__', '__format__', '__sizeof__', '__dir__', '__class__']\n"
     ]
    }
   ],
   "source": [
    "class A():\n",
    "    pass\n",
    "class B(A):\n",
    "    pass\n",
    "print(A.__mro__)\n",
    "print(B.__mro__)\n",
    "\n",
    "# help(setattr)\n",
    "\n",
    "# dir(A)\n",
    "a = A()\n",
    "print(a.__dir__())"
   ]
  },
  {
   "cell_type": "code",
   "execution_count": 9,
   "metadata": {},
   "outputs": [
    {
     "name": "stdout",
     "output_type": "stream",
     "text": [
      "LALALALLALALAL\n"
     ]
    }
   ],
   "source": [
    "class Persion():\n",
    "    def gets(self):\n",
    "        return self._names * 2\n",
    "    def sets(self,name):\n",
    "        self._names = name.upper()\n",
    "    def dels(self):\n",
    "        self._names = \"NoneName\"\n",
    "    name = property(gets,sets,dels,'nicai')\n",
    "p = Persion()\n",
    "p.name = \"lalalal\"\n",
    "print(p.name)\n"
   ]
  },
  {
   "cell_type": "markdown",
   "metadata": {},
   "source": [
    "# 抽象类\n",
    "- 包含抽象方法的类 通常称为ABC类\n",
    "- 意义是规范子类的行为和接口\n",
    "- 抽象类不允许直接实例化 ，必须继承才能使用，而且继承他的子类必须实现所继承来的抽象方法\n",
    "- 抽象方法就是没有具体实现内容的方法\n",
    "- 假定子类没有实现继承来的抽象方法，则子类也不能实例化"
   ]
  },
  {
   "cell_type": "code",
   "execution_count": 1,
   "metadata": {},
   "outputs": [
    {
     "ename": "AttributeError",
     "evalue": "module 'abc' has no attribute 'abcstractmethod'",
     "output_type": "error",
     "traceback": [
      "\u001b[0;31m---------------------------------------------------------------------------\u001b[0m",
      "\u001b[0;31mAttributeError\u001b[0m                            Traceback (most recent call last)",
      "\u001b[0;32m<ipython-input-1-11e5b81bbb54>\u001b[0m in \u001b[0;36m<module>\u001b[0;34m\u001b[0m\n\u001b[1;32m      1\u001b[0m \u001b[0;32mimport\u001b[0m \u001b[0mabc\u001b[0m\u001b[0;34m\u001b[0m\u001b[0;34m\u001b[0m\u001b[0m\n\u001b[1;32m      2\u001b[0m \u001b[0;34m\u001b[0m\u001b[0m\n\u001b[0;32m----> 3\u001b[0;31m \u001b[0;32mclass\u001b[0m \u001b[0mHuman\u001b[0m\u001b[0;34m(\u001b[0m\u001b[0mmetaclass\u001b[0m\u001b[0;34m=\u001b[0m\u001b[0mabc\u001b[0m\u001b[0;34m.\u001b[0m\u001b[0mABCMeta\u001b[0m\u001b[0;34m)\u001b[0m\u001b[0;34m:\u001b[0m\u001b[0;34m\u001b[0m\u001b[0;34m\u001b[0m\u001b[0m\n\u001b[0m\u001b[1;32m      4\u001b[0m     \u001b[0;31m# 定义一个抽象方法\u001b[0m\u001b[0;34m\u001b[0m\u001b[0;34m\u001b[0m\u001b[0;34m\u001b[0m\u001b[0m\n\u001b[1;32m      5\u001b[0m     \u001b[0;34m@\u001b[0m\u001b[0mabc\u001b[0m\u001b[0;34m.\u001b[0m\u001b[0mabcstractmethod\u001b[0m\u001b[0;34m\u001b[0m\u001b[0;34m\u001b[0m\u001b[0m\n",
      "\u001b[0;32m<ipython-input-1-11e5b81bbb54>\u001b[0m in \u001b[0;36mHuman\u001b[0;34m()\u001b[0m\n\u001b[1;32m      3\u001b[0m \u001b[0;32mclass\u001b[0m \u001b[0mHuman\u001b[0m\u001b[0;34m(\u001b[0m\u001b[0mmetaclass\u001b[0m\u001b[0;34m=\u001b[0m\u001b[0mabc\u001b[0m\u001b[0;34m.\u001b[0m\u001b[0mABCMeta\u001b[0m\u001b[0;34m)\u001b[0m\u001b[0;34m:\u001b[0m\u001b[0;34m\u001b[0m\u001b[0;34m\u001b[0m\u001b[0m\n\u001b[1;32m      4\u001b[0m     \u001b[0;31m# 定义一个抽象方法\u001b[0m\u001b[0;34m\u001b[0m\u001b[0;34m\u001b[0m\u001b[0;34m\u001b[0m\u001b[0m\n\u001b[0;32m----> 5\u001b[0;31m     \u001b[0;34m@\u001b[0m\u001b[0mabc\u001b[0m\u001b[0;34m.\u001b[0m\u001b[0mabcstractmethod\u001b[0m\u001b[0;34m\u001b[0m\u001b[0;34m\u001b[0m\u001b[0m\n\u001b[0m\u001b[1;32m      6\u001b[0m     \u001b[0;32mdef\u001b[0m \u001b[0msmoking\u001b[0m\u001b[0;34m(\u001b[0m\u001b[0mself\u001b[0m\u001b[0;34m)\u001b[0m\u001b[0;34m:\u001b[0m\u001b[0;34m\u001b[0m\u001b[0;34m\u001b[0m\u001b[0m\n\u001b[1;32m      7\u001b[0m         \u001b[0;32mpass\u001b[0m\u001b[0;34m\u001b[0m\u001b[0;34m\u001b[0m\u001b[0m\n",
      "\u001b[0;31mAttributeError\u001b[0m: module 'abc' has no attribute 'abcstractmethod'"
     ]
    }
   ],
   "source": [
    "import abc\n",
    "\n",
    "class Human(metaclass=abc.ABCMeta):\n",
    "    # 定义一个抽象方法\n",
    "    @abc.abcstractmethod\n",
    "    def smoking(self):\n",
    "        pass\n",
    "    # 定义一个类抽象方法\n",
    "    @abc.abstractclassmethod\n",
    "    def drink():\n",
    "        pass\n",
    "    # 定义一个静态抽象方法\n",
    "    @abc.abstractstaticmethod\n",
    "    def play():\n",
    "        pass"
   ]
  },
  {
   "cell_type": "markdown",
   "metadata": {},
   "source": [
    "# 自定义类\n",
    "- 可以定义类和函数，然后通过类直接赋值\n",
    "- 可以借助于MethodType from types\n",
    "- type 创建一个类\n",
    "- MetaClass 元类\n",
    "    - 被用来创建别的类\n"
   ]
  },
  {
   "cell_type": "code",
   "execution_count": 20,
   "metadata": {},
   "outputs": [
    {
     "name": "stdout",
     "output_type": "stream",
     "text": [
      "aaa\n"
     ]
    }
   ],
   "source": [
    "from types import MethodType\n",
    "\n",
    "class A():\n",
    "    pass\n",
    "def say(self):\n",
    "    print(\"aaa\")\n",
    "\"\"\"\n",
    "A.say = say\n",
    "a = A()\n",
    "a.say()\n",
    "\"\"\"\n",
    "a = A()\n",
    "a.say = MethodType(say,A) \n",
    "a.say()"
   ]
  },
  {
   "cell_type": "code",
   "execution_count": 11,
   "metadata": {},
   "outputs": [
    {
     "name": "stdout",
     "output_type": "stream",
     "text": [
      "aaa\n"
     ]
    }
   ],
   "source": [
    "def say(self):\n",
    "    print(\"aaa\")\n",
    "def talk(self):\n",
    "    print(\"bbb\")\n",
    "A = type(\"Aname\",(object,),{\"class_say\":say,\"class_talk\":talk})\n",
    "\n",
    "a = A()\n",
    "\n",
    "a.class_say()\n",
    "# say(\"self\")"
   ]
  },
  {
   "cell_type": "code",
   "execution_count": 25,
   "metadata": {},
   "outputs": [
    {
     "name": "stdout",
     "output_type": "stream",
     "text": [
      "aaaa\n"
     ]
    },
    {
     "data": {
      "text/plain": [
       "{}"
      ]
     },
     "execution_count": 25,
     "metadata": {},
     "output_type": "execute_result"
    }
   ],
   "source": [
    "# 元类\n",
    "\n",
    "# 元类写法是固定的 必须继承type\n",
    "# 元类一般以MetaClass 结尾\n",
    "class YbyMetaClass(type):\n",
    "    def __new__(cls,name,bases,attrs):\n",
    "        print(\"aaaa\")\n",
    "        attrs[\"id\"] = \"00000\"\n",
    "        attrs[\"addr\"] = \"尼采\"\n",
    "        return type.__new__(cls,name,bases,attrs)\n",
    "\n",
    "class Coder(object,metaclass=YbyMetaClass):\n",
    "    \n",
    "    \n",
    "    pass\n",
    "\n",
    "c = Coder()\n",
    "\n",
    "c.__dict__"
   ]
  },
  {
   "cell_type": "code",
   "execution_count": null,
   "metadata": {},
   "outputs": [],
   "source": []
  }
 ],
 "metadata": {
  "kernelspec": {
   "display_name": "Python 3",
   "language": "python",
   "name": "python3"
  },
  "language_info": {
   "codemirror_mode": {
    "name": "ipython",
    "version": 3
   },
   "file_extension": ".py",
   "mimetype": "text/x-python",
   "name": "python",
   "nbconvert_exporter": "python",
   "pygments_lexer": "ipython3",
   "version": "3.7.6"
  }
 },
 "nbformat": 4,
 "nbformat_minor": 4
}
