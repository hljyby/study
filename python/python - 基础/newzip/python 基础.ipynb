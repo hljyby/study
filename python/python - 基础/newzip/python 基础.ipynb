{
 "cells": [
  {
   "cell_type": "markdown",
   "metadata": {},
   "source": [
    "# 变量\n",
    "- 二进制\n",
    "    - 以0b开头为二进制（二进制的英文是:binary）(bin)\n",
    "- 八进制\n",
    "    - 以0o开头为八进制(Octal number system) (oct)\n",
    "- 十六进制\n",
    "    - 以0x开头为十六进制 (Hexadecimal) （hex）"
   ]
  },
  {
   "cell_type": "markdown",
   "metadata": {},
   "source": [
    "# 变量类型\n",
    "   - Number (数字)\n",
    "   - str （字符串）\n",
    "   - 列表 （list）\n",
    "   - 元组 （tuple）\n",
    "   - dict (字典)\n",
    "   - set (集合)"
   ]
  },
  {
   "cell_type": "code",
   "execution_count": 4,
   "metadata": {},
   "outputs": [
    {
     "name": "stdout",
     "output_type": "stream",
     "text": [
      "31\n",
      "119\n",
      "65535\n"
     ]
    }
   ],
   "source": [
    "a1 = 0b11111 #二进制数\n",
    "\n",
    "print(a1)\n",
    "\n",
    "a2 = 0o167 #八进制数\n",
    "\n",
    "print(a2)\n",
    "\n",
    "a3 = 0xffff #十六进制数\n",
    "\n",
    "print(a3) "
   ]
  },
  {
   "cell_type": "markdown",
   "metadata": {},
   "source": [
    "# 变量\n",
    "- None\n",
    "    - \n",
    "- False\n",
    "    - 0=False,1=True\n",
    "- True\n",
    "    - False = 0,True = 其他整数"
   ]
  },
  {
   "cell_type": "code",
   "execution_count": 3,
   "metadata": {},
   "outputs": [
    {
     "name": "stdout",
     "output_type": "stream",
     "text": [
      "字符串等于True\n",
      "None == False\n"
     ]
    }
   ],
   "source": [
    "if 'app':\n",
    "    print('字符串等于True')\n",
    "else:\n",
    "    print('字符串等于False')\n",
    "if None:\n",
    "    print('None == True')\n",
    "else:\n",
    "    print('None == False')"
   ]
  },
  {
   "cell_type": "markdown",
   "metadata": {},
   "source": [
    "## 浮点数\n",
    "- 3.11\n",
    "- .3\n",
    "- 3.\n"
   ]
  },
  {
   "cell_type": "code",
   "execution_count": 4,
   "metadata": {},
   "outputs": [
    {
     "name": "stdout",
     "output_type": "stream",
     "text": [
      "3.11\n",
      "0.311\n",
      "3.0\n"
     ]
    }
   ],
   "source": [
    "print(3.11)\n",
    "print(.311)\n",
    "print(3.)"
   ]
  },
  {
   "cell_type": "markdown",
   "metadata": {},
   "source": [
    "## 科学计数法\n",
    "- e\n"
   ]
  },
  {
   "cell_type": "code",
   "execution_count": 5,
   "metadata": {},
   "outputs": [
    {
     "name": "stdout",
     "output_type": "stream",
     "text": [
      "311.111\n"
     ]
    }
   ],
   "source": [
    "print(3.11111e2)"
   ]
  },
  {
   "cell_type": "markdown",
   "metadata": {},
   "source": [
    "## 复数 complex\n",
    "- 复数的虚部用j/J表示"
   ]
  },
  {
   "cell_type": "code",
   "execution_count": 6,
   "metadata": {},
   "outputs": [
    {
     "name": "stdout",
     "output_type": "stream",
     "text": [
      "(5+4j)\n"
     ]
    }
   ],
   "source": [
    "print(5 + 4j)"
   ]
  },
  {
   "cell_type": "markdown",
   "metadata": {},
   "source": [
    "# 赋值运算符\n",
    "    - =\n",
    "    - +=\n",
    "    - -=\n",
    "    - *=\n",
    "    - /=\n",
    "    - //=  ## // 平除 （向下取整）\n",
    "    - %=\n",
    "    - **="
   ]
  },
  {
   "cell_type": "code",
   "execution_count": 102,
   "metadata": {},
   "outputs": [
    {
     "name": "stdout",
     "output_type": "stream",
     "text": [
      "x\n",
      "y\n",
      "(1, 2, 3)\n",
      "(1, 2, 3)\n",
      "(1, 2, 3)\n"
     ]
    }
   ],
   "source": [
    "#  a = c = b = 2\n",
    "\n",
    "# a,b,c = 1,2,3\n",
    "\n",
    "x,y = {'x':1,'y':2}\n",
    "\n",
    "\n",
    "print(x)\n",
    "print(y)\n",
    "\n",
    "\n",
    "print(a)\n",
    "print(b)    \n",
    "print(c)    "
   ]
  },
  {
   "cell_type": "markdown",
   "metadata": {},
   "source": [
    "# 比较运算符\n",
    "-  \\>=\n",
    "-  <=\n",
    "-  !=\n",
    "-  \\>\n",
    "-  <\n",
    "\n"
   ]
  },
  {
   "cell_type": "markdown",
   "metadata": {},
   "source": [
    "# 逻辑运算符\n",
    " - and  && 与\n",
    " - or || 或\n",
    " - not  ! 非"
   ]
  },
  {
   "cell_type": "markdown",
   "metadata": {},
   "source": [
    "# 成员运算符\n",
    "- in\n",
    "- not in\n"
   ]
  },
  {
   "cell_type": "code",
   "execution_count": 2,
   "metadata": {},
   "outputs": [
    {
     "name": "stdout",
     "output_type": "stream",
     "text": [
      "True\n",
      "True\n"
     ]
    }
   ],
   "source": [
    "arr = [1,2,3,4,5]\n",
    "a = 1 in arr\n",
    "print(a)\n",
    "b = 7 not in arr\n",
    "print(b)"
   ]
  },
  {
   "cell_type": "markdown",
   "metadata": {},
   "source": [
    "# 身份运算符\n",
    "- is \n",
    "- not is"
   ]
  },
  {
   "cell_type": "code",
   "execution_count": 4,
   "metadata": {},
   "outputs": [
    {
     "name": "stdout",
     "output_type": "stream",
     "text": [
      "True\n",
      "False\n"
     ]
    }
   ],
   "source": [
    "a = 1\n",
    "b = 1\n",
    "c = a is b\n",
    "print(c)  ## 小的数字python给你准备好了内存地址，不用在创建了（小一点的数字是指 【-5 ～ 256】闭包 ）\n",
    "\n",
    "a = 10002020\n",
    "b = 10002020\n",
    "c = a is b\n",
    "print(c)"
   ]
  },
  {
   "cell_type": "markdown",
   "metadata": {},
   "source": [
    "# 运算符优先级\n",
    "- 小括号最高\n",
    "- 指数运算符 **\n",
    "- ～ + - 一元加号减号\n",
    "- \\* /\n",
    "- \\+ -\n",
    "- \\>> << 左移右移\n",
    "- & 位 AND\n",
    "- ^ | 位运算符\n",
    "- <= >=\n",
    "-  == !=\n",
    "- = %= /=\n",
    "- is is not\n",
    "- in not in \n",
    "- not or and"
   ]
  },
  {
   "cell_type": "markdown",
   "metadata": {},
   "source": [
    "# 分支结构\n",
    "- 只有空字符串为False 其余的为True\n",
    "- if 判断:\n",
    "    ...\n",
    "- if 判断:\n",
    "    ...\n",
    "  elif:\n",
    "    ...\n",
    "  else:\n",
    "    ..."
   ]
  },
  {
   "cell_type": "markdown",
   "metadata": {},
   "source": [
    "# break continue pass\n",
    " - break 直接打断 不进行循环了 \n",
    " - continue 跳过这次循环进行下一次循环\n",
    " - pass 占位符\n",
    " - for .. in .. :\n",
    "     print(...)\n",
    "   else:\n",
    "     print('完整执行完for循环之后之执行')"
   ]
  },
  {
   "cell_type": "code",
   "execution_count": 6,
   "metadata": {},
   "outputs": [
    {
     "name": "stdout",
     "output_type": "stream",
     "text": [
      "1\n"
     ]
    }
   ],
   "source": [
    "for i in range(10):\n",
    "    pass\n",
    "else:\n",
    "    print('1')"
   ]
  },
  {
   "cell_type": "markdown",
   "metadata": {},
   "source": [
    "# range函数\n",
    "- range(100) 0~99 100个数字\n",
    "- list(range(100)) 100个数的队列\n",
    "- 一般都是左包 右不包"
   ]
  },
  {
   "cell_type": "code",
   "execution_count": 14,
   "metadata": {},
   "outputs": [
    {
     "name": "stdout",
     "output_type": "stream",
     "text": [
      "12\n"
     ]
    }
   ],
   "source": [
    "basic = 10000\n",
    "year = 1\n",
    "while basic <= 20000:\n",
    "    year += 1\n",
    "    basic = basic*(1 + 0.067)\n",
    "else:\n",
    "    print(year)"
   ]
  },
  {
   "cell_type": "markdown",
   "metadata": {},
   "source": [
    "# 函数\n",
    "- def 函数名(参数):\n",
    "- 没有retun python 默认返回None\n",
    "- 推荐return None"
   ]
  },
  {
   "cell_type": "code",
   "execution_count": 16,
   "metadata": {},
   "outputs": [],
   "source": [
    "def fun():\n",
    "    print('我是一个函数')\n",
    "fun()"
   ]
  },
  {
   "cell_type": "code",
   "execution_count": 24,
   "metadata": {},
   "outputs": [
    {
     "name": "stdout",
     "output_type": "stream",
     "text": [
      "1  \n",
      "2  4  \n",
      "3  6  9  \n",
      "4  8  12  16  \n",
      "5  10  15  20  25  \n",
      "6  12  18  24  30  36  \n",
      "7  14  21  28  35  42  49  \n",
      "8  16  24  32  40  48  56  64  \n",
      "9  18  27  36  45  54  63  72  81  \n"
     ]
    }
   ],
   "source": [
    "# 九九乘法表 一版\n",
    "for i in range(1,10):\n",
    "    for j in range(1,i+1):\n",
    "        print(i*j,end=\"  \")\n",
    "    else:\n",
    "        print()"
   ]
  },
  {
   "cell_type": "markdown",
   "metadata": {},
   "source": [
    "# 函数参数\n",
    "- 默认参数 (def fun(a,b,c = 1)) c就是默认参数\n",
    "- 关键字参数 就是传参顺序可以变化，带上关键字就行\n",
    "- 收集参数 *params **params\n",
    " - - 收集参数一个*收集普通参数 **两个💫收集关键字参数 ，默认参数必须放在这两个参数之前，放在普通参数之后\n",
    " - -优先级 普通参数 关键字参数 收集参数 tuple 收集参数 dict\n",
    " - -把匿名函数的位置可以和收集参数 tuple 互换 互换之后普通参数会被收集到 tuple 里 如 下fuun函数"
   ]
  },
  {
   "cell_type": "code",
   "execution_count": 49,
   "metadata": {},
   "outputs": [
    {
     "name": "stdout",
     "output_type": "stream",
     "text": [
      "31\n",
      "31\n",
      "('app', 1213, 1213)\n",
      "{'f': 123, 'b': 353}\n",
      "sadad 3\n"
     ]
    }
   ],
   "source": [
    "# 关键字参数\n",
    "def fun(one,two,three):\n",
    "    print(one + three)\n",
    "\n",
    "fun(1,2,30)\n",
    "\n",
    "fun(three = 30,two = 2, one = 1)\n",
    "\n",
    "def fuun(a,*tuples,g = 1,**dicked):\n",
    "    print(tuples)\n",
    "    print(dicked)\n",
    "    print(a,g)\n",
    "fuun(\"sadad\",\"app\",1213,1213,g = 3,f = 123, b = 353)"
   ]
  },
  {
   "cell_type": "code",
   "execution_count": 33,
   "metadata": {},
   "outputs": [
    {
     "name": "stdout",
     "output_type": "stream",
     "text": [
      "(2, 3, 4, 5)\n",
      "{'a': 1, 'b': 2, 'c': 3, 'd': 4}\n",
      "1\n"
     ]
    }
   ],
   "source": [
    "# 收集参数\n",
    "def fun(J = 1,*params,**params_p):\n",
    "    print(params)    \n",
    "    print(params_p)\n",
    "    print(J)\n",
    "    \n",
    "fun(1,2,3,4,5,a = 1,b=2,c=3,d=4)"
   ]
  },
  {
   "cell_type": "markdown",
   "metadata": {},
   "source": [
    "# 转义字符 \\ (反斜杠)\n",
    "- 换行符\n",
    "  - Window : \\n\n",
    "  - Linux : \\r\\n\n",
    "- 单个反斜杠表示此行未结束 \\\n",
    "\n",
    "# %占位符 (一个语句里有多个占位符用括号阔起来) (%-10.2f C语言 数值在最左边，10满10个少的用空格添，2为留下几位小数(f为浮点数，所以是留下两位小数)【%-m.nf】如果n>m则m自动和n相等)\n",
    "- %s 表示字符串\n",
    "- %d int\n",
    "- %f 浮点数\n",
    "- %e 科学计数法"
   ]
  },
  {
   "cell_type": "code",
   "execution_count": 39,
   "metadata": {},
   "outputs": [
    {
     "name": "stdout",
     "output_type": "stream",
     "text": [
      "let‘s Go\n",
      "Let's Go\n"
     ]
    }
   ],
   "source": [
    "print(\"let‘s Go\")\n",
    "print('Let\\'s Go')"
   ]
  },
  {
   "cell_type": "code",
   "execution_count": 67,
   "metadata": {},
   "outputs": [
    {
     "name": "stdout",
     "output_type": "stream",
     "text": [
      "let\n",
      "go\n",
      "let\r\n",
      "go\n",
      " s is wangxiangjing\n",
      " XXX 034 岁 24年生的 lalla aaalalla bbbb\n"
     ]
    }
   ],
   "source": [
    "s = \"let\\ngo\"\n",
    "ss = \"let\\r\\ngo\"\n",
    "sss = \" s is %s\"\n",
    "ssss = \" XXX %.3d 岁 %d年生的 lalla %slalla %s\"\n",
    "\n",
    "\n",
    "print(s)\n",
    "print(ss)\n",
    "print(sss%\"wangxiangjing\")\n",
    "print(ssss%(34.13,24,\"aaa\",\"bbbb\"))"
   ]
  },
  {
   "cell_type": "markdown",
   "metadata": {},
   "source": [
    "# str格式化 format(类占位符)"
   ]
  },
  {
   "cell_type": "code",
   "execution_count": 22,
   "metadata": {},
   "outputs": [
    {
     "name": "stdout",
     "output_type": "stream",
     "text": [
      "hellow word\n",
      "hellow world\n",
      "hellow world\n",
      "world hellow\n",
      "world world\n",
      "app100 很好用 yby是好人\n"
     ]
    }
   ],
   "source": [
    "# 方式一\n",
    "s = \"{} {}\"\n",
    "print(s.format(\"hellow\",\"word\"))\n",
    "\n",
    "# 方式二\n",
    "s = \"{} {}\".format(\"hellow\",\"world\")\n",
    "print(s)\n",
    "\n",
    "# 方式3 设定位置\n",
    "s = \"{0} {1}\".format(\"hellow\",\"world\")\n",
    "print(s)\n",
    "\n",
    "s = \"{1} {0}\".format(\"hellow\",\"world\")\n",
    "print(s)\n",
    "\n",
    "s = \"{1} {1}\".format(\"hellow\",\"world\")\n",
    "print(s)\n",
    "\n",
    "#方式4 命名参数\n",
    "\n",
    "s = \"app{a} 很好用 {b}是好人\"\n",
    "s.format(a = 100 ,b = \"yby\")\n",
    "\n",
    "s = \"app{a} 很好用 {b}是好人\"\n",
    "a = \"a\"\n",
    "s_dict = {a:\"100\",\\\n",
    "          \"b\":\"yby\"}\n",
    "# **两个星号是解包\n",
    "s = s.format(**s_dict)\n",
    "print(s)"
   ]
  },
  {
   "cell_type": "code",
   "execution_count": 40,
   "metadata": {},
   "outputs": [
    {
     "name": "stdout",
     "output_type": "stream",
     "text": [
      "aaaaaaa1.22bbbbbbbbbb2.2200\n",
      "aaaaaaa2.120000bbbbbbbbbb{:.4f}\n"
     ]
    }
   ],
   "source": [
    " # 数字格式化\n",
    "s = \"aaaaaaa{:.2f}bbbbbbbbbb{:.4f}\"\n",
    "print(s.format(1.22,2.22))\n",
    "\n",
    "s = \"aaaaaaa%fbbbbbbbbbb{:.4f}\"\n",
    "print(s%(2.12))"
   ]
  },
  {
   "cell_type": "markdown",
   "metadata": {},
   "source": [
    "# str 内置函数\n",
    " - help(str)"
   ]
  },
  {
   "cell_type": "code",
   "execution_count": 1,
   "metadata": {},
   "outputs": [
    {
     "data": {
      "text/plain": [
       "6"
      ]
     },
     "execution_count": 1,
     "metadata": {},
     "output_type": "execute_result"
    }
   ],
   "source": [
    "# help(str)\n",
    "\n",
    "s = \"aaaaaababaa\"\n",
    "s.find(\"b\")"
   ]
  },
  {
   "cell_type": "markdown",
   "metadata": {},
   "source": [
    "# 元祖 （tuple）\n",
    "- 不可改编的list\n",
    "- 和list 基本一致\n",
    "- 元祖可以不用括号阔起来 如 ： 100，200，300"
   ]
  },
  {
   "cell_type": "code",
   "execution_count": 89,
   "metadata": {},
   "outputs": [
    {
     "name": "stdout",
     "output_type": "stream",
     "text": [
      "<class 'tuple'>\n",
      "<class 'tuple'>\n",
      "<class 'int'>\n",
      "<class 'tuple'>\n",
      "<class 'tuple'>\n",
      "<class 'str'>\n",
      "<class 'tuple'>\n",
      "<class 'list'>\n",
      "<class 'tuple'>\n",
      "([1, 2, 3, 4],)\n",
      "(1, 2, 3, 4, 5)\n",
      "<class 'tuple'>\n"
     ]
    }
   ],
   "source": [
    "a = tuple()\n",
    "print(type(a))\n",
    "\n",
    "b = ()\n",
    "print(type(b))\n",
    "\n",
    "c = (100)\n",
    "print(type(c))\n",
    "\n",
    "d = (100,)\n",
    "print(type(d))\n",
    "\n",
    "e = (100,100)\n",
    "print(type(e))\n",
    "\n",
    "f = (\"sadaa\")\n",
    "print(type(f))\n",
    "\n",
    "g = (\"sadaa\",)\n",
    "print(type(g))\n",
    "\n",
    "h = ([1,2,3,4])\n",
    "print(type(h))\n",
    "\n",
    "h = ([1,2,3,4],)\n",
    "print(type(h))\n",
    "print(h)\n",
    "\n",
    "aa = [1,2,3,4,5]\n",
    "bb = tuple(aa) #这么使用必须是可迭代的参数\n",
    "print(bb)\n",
    "\n",
    "ff = 1,2,3,4\n",
    "\n",
    "print(type(ff))\n"
   ]
  },
  {
   "cell_type": "code",
   "execution_count": 23,
   "metadata": {},
   "outputs": [
    {
     "name": "stdout",
     "output_type": "stream",
     "text": [
      "(1, 2)\n",
      "(4, 3, 2, 1)\n"
     ]
    }
   ],
   "source": [
    "div = tuple([1,2,3,4])\n",
    "print(div[:2])\n",
    "print(div[-1::-1]) #反转"
   ]
  },
  {
   "cell_type": "code",
   "execution_count": 24,
   "metadata": {},
   "outputs": [
    {
     "name": "stdout",
     "output_type": "stream",
     "text": [
      "(100, 200, 300, 'i', 'love', 'you')\n"
     ]
    }
   ],
   "source": [
    "# 元祖的加法\n",
    "a = 100,200,300\n",
    "b = (\"i\",'love',\"you\")\n",
    "print(a + b)"
   ]
  },
  {
   "cell_type": "code",
   "execution_count": 26,
   "metadata": {},
   "outputs": [
    {
     "name": "stdout",
     "output_type": "stream",
     "text": [
      "(100, 200, 300, 100, 200, 300)\n"
     ]
    }
   ],
   "source": [
    "# 元祖的乘法\n",
    "a = 100,200,300\n",
    "b = (\"i\",'love',\"you\")\n",
    "print(a * 2)"
   ]
  },
  {
   "cell_type": "code",
   "execution_count": 28,
   "metadata": {},
   "outputs": [
    {
     "ename": "SyntaxError",
     "evalue": "invalid syntax (<ipython-input-28-fdf39c35d8eb>, line 5)",
     "output_type": "error",
     "traceback": [
      "\u001b[0;36m  File \u001b[0;32m\"<ipython-input-28-fdf39c35d8eb>\"\u001b[0;36m, line \u001b[0;32m5\u001b[0m\n\u001b[0;31m    print(b has \"i\")\u001b[0m\n\u001b[0m              ^\u001b[0m\n\u001b[0;31mSyntaxError\u001b[0m\u001b[0;31m:\u001b[0m invalid syntax\n"
     ]
    }
   ],
   "source": [
    "# 元祖的成员检测\n",
    "a = 100,200,300\n",
    "b = (\"i\",'love',\"you\")\n",
    "print(\"i\" in b)\n"
   ]
  },
  {
   "cell_type": "code",
   "execution_count": 78,
   "metadata": {},
   "outputs": [
    {
     "name": "stdout",
     "output_type": "stream",
     "text": [
      "(100, 200, 300)\n",
      "('1', '234', '456')\n",
      "('lalal', 'laaa', 'asdad')\n",
      "100 200 300\n",
      "1 234 456\n",
      "lalal laaa asdad\n"
     ]
    }
   ],
   "source": [
    "# 元祖的循环 （可以嵌套） (i,j,k)对应与内层元祖(100 == i,200 == j,300 == k)\n",
    "\n",
    "a = ((100,200,300),(\"1\",\"234\",\"456\"),(\"lalal\",\"laaa\",\"asdad\"))\n",
    "\n",
    "for i in a:\n",
    "    print(i)\n",
    "\n",
    "for i,j,k in a:\n",
    "    print(i,j,k)\n"
   ]
  },
  {
   "cell_type": "code",
   "execution_count": 58,
   "metadata": {},
   "outputs": [
    {
     "name": "stdout",
     "output_type": "stream",
     "text": [
      "5\n",
      "10\n",
      "2\n",
      "1\n"
     ]
    }
   ],
   "source": [
    "# 常用函数\n",
    "# len()\n",
    "a = (1,2,3,4,10)\n",
    "print(len(a))\n",
    "# max()\n",
    "print(max(a))\n",
    "\n",
    "# index() 查索引\n",
    "print(a.index(3))\n",
    "\n",
    "# count() 计数\n",
    "print(a.count(3))"
   ]
  },
  {
   "cell_type": "code",
   "execution_count": 65,
   "metadata": {},
   "outputs": [
    {
     "name": "stdout",
     "output_type": "stream",
     "text": [
      "<class 'tuple'>\n",
      "(100,) ajdajdaladla\n",
      "ajdajdaladla (100,)\n"
     ]
    }
   ],
   "source": [
    "# tuple的特殊用法 (python 独门)\n",
    "a = (100,)\n",
    "b = \"ajdajdaladla\"\n",
    "print(type(a))\n",
    "print(a,b)\n",
    "\n",
    "a,b = b,a\n",
    "\n",
    "print(a,b)"
   ]
  },
  {
   "cell_type": "markdown",
   "metadata": {},
   "source": [
    "# 集合 set()\n",
    "- 无序 不重复"
   ]
  },
  {
   "cell_type": "code",
   "execution_count": 69,
   "metadata": {},
   "outputs": [
    {
     "name": "stdout",
     "output_type": "stream",
     "text": [
      "set()\n",
      "{1, 2, 3, 4, 13131, 5435}\n"
     ]
    }
   ],
   "source": [
    "sa = set()\n",
    "print(sa)\n",
    "\n",
    "li = [1,2,3,3,3,2,3,3,4,4,5435,2,13131]\n",
    "\n",
    "ssa = set(li)\n",
    "print(ssa)"
   ]
  },
  {
   "cell_type": "code",
   "execution_count": 76,
   "metadata": {},
   "outputs": [
    {
     "name": "stdout",
     "output_type": "stream",
     "text": [
      "True\n",
      "1\n",
      "2\n",
      "3\n",
      "4\n",
      "13131\n",
      "5435\n",
      "1 2\n",
      "234 2342\n",
      "sjdada sdjsalsl\n"
     ]
    }
   ],
   "source": [
    "# in 操作\n",
    "\n",
    "print(2 in ssa)\n",
    "\n",
    "# 遍历 \n",
    "\n",
    "for i in ssa:\n",
    "    print(i)\n",
    "\n",
    "sssa = {(1,2),(234,2342),(\"sjdada\",\"sdjsalsl\")}\n",
    "for i,j in sssa:\n",
    "    print(i,j)"
   ]
  },
  {
   "cell_type": "code",
   "execution_count": 91,
   "metadata": {},
   "outputs": [
    {
     "name": "stdout",
     "output_type": "stream",
     "text": [
      "{1, 2, 3, 4, 5, 6, 7, 56}\n",
      "{56, 2, 4, 6}\n",
      "{6}\n",
      "{3136, 1, 4, 36, 9, 16, 49, 25}\n",
      "{1, 2, 3, 4, 5, 6, 7, 8, 9, 10, 392, 12, 14, 15, 16, 18, 20, 21, 24, 25, 280, 28, 30, 35, 36, 168, 42, 49, 56, 3136, 336, 224, 112}\n"
     ]
    }
   ],
   "source": [
    "# 生成式(集合 ， 队列)\n",
    "\n",
    "sa = {1,2,3,4,5,56,6,7,7}\n",
    "\n",
    "sb = {i for i in sa}\n",
    "\n",
    "sc = {i for i in sa if i % 2 == 0}\n",
    "\n",
    "sd = {i for i in sa if i % 2 == 0 if i % 3 == 0}\n",
    "\n",
    "se = {i**2 for i in sa }\n",
    "\n",
    "sf = {m*n for n in sa for m in sa}\n",
    "\n",
    "print(sb)\n",
    "print(sc)\n",
    "print(sd)\n",
    "print(se)\n",
    "print(sf)"
   ]
  },
  {
   "cell_type": "code",
   "execution_count": 92,
   "metadata": {},
   "outputs": [],
   "source": [
    "# 内置函数\n",
    "#len()\n",
    "#max()/min()\n",
    "#add:向集合中加元素\n",
    "#clear()\n"
   ]
  },
  {
   "cell_type": "code",
   "execution_count": 93,
   "metadata": {},
   "outputs": [],
   "source": [
    "# 删除\n",
    "# remove 和 discard\n",
    "# remove 删除一个不存在的数 报错\n",
    "# discard 删除一个不存在的数 不报错"
   ]
  },
  {
   "cell_type": "code",
   "execution_count": 97,
   "metadata": {},
   "outputs": [
    {
     "name": "stdout",
     "output_type": "stream",
     "text": [
      "1\n",
      "{2, 3, 4}\n"
     ]
    }
   ],
   "source": [
    "# pop\n",
    "# 删除的内容随即的\n",
    "sa = {1,2,3,3,4,3}\n",
    "\n",
    "print(sa.pop())\n",
    "print(sa)\n"
   ]
  },
  {
   "cell_type": "code",
   "execution_count": 107,
   "metadata": {},
   "outputs": [
    {
     "name": "stdout",
     "output_type": "stream",
     "text": [
      "{1, 2, 3}\n",
      "[1, 23, 4, 1, 23, 4]\n",
      "4\n",
      "[1, 0, 23]\n"
     ]
    }
   ],
   "source": [
    "# 集合的数学操作\n",
    "# intersection: 交集 a.intersection(b)\n",
    "# difference: 差集 a.difference(b) or a - b\n",
    "# union: 并集 a.union(b)\n",
    "sa = {1,2,3}\n",
    "sb = {4,5,6}\n",
    "print(sa - sb)\n",
    "\n",
    "aa = [1,23,4]\n",
    "bb = [1,23,4]\n",
    "print(aa + bb)\n",
    "print(aa.pop())\n",
    "aa.insert(1,0)\n",
    "print(aa)"
   ]
  },
  {
   "cell_type": "markdown",
   "metadata": {},
   "source": [
    "# frozenset 冰冻集合\n",
    "- 不允许修改的集合"
   ]
  },
  {
   "cell_type": "code",
   "execution_count": 109,
   "metadata": {},
   "outputs": [
    {
     "name": "stdout",
     "output_type": "stream",
     "text": [
      "{1, 2, 3, 4, 5}\n",
      "frozenset({1, 2, 3, 4, 5})\n"
     ]
    }
   ],
   "source": [
    "sa = {1,2,3,4,5}\n",
    "sb = frozenset(sa)\n",
    "print(sa)\n",
    "print(sb) #除了没有写操作其他的和普通集合都一样"
   ]
  },
  {
   "cell_type": "markdown",
   "metadata": {},
   "source": [
    "# 递归\n",
    "- python 对递归有限制 （1965次）"
   ]
  },
  {
   "cell_type": "code",
   "execution_count": 8,
   "metadata": {},
   "outputs": [
    {
     "name": "stdout",
     "output_type": "stream",
     "text": [
      "end\n",
      "4\n",
      "3\n",
      "2\n",
      "1\n",
      "0\n"
     ]
    }
   ],
   "source": [
    "def fn(n):\n",
    "    if n == 5:\n",
    "        print(\"end\")\n",
    "        return 1\n",
    "    \n",
    "    fn(n + 1)\n",
    "    print(n)\n",
    "fn(0)"
   ]
  },
  {
   "cell_type": "code",
   "execution_count": 13,
   "metadata": {},
   "outputs": [
    {
     "name": "stdout",
     "output_type": "stream",
     "text": [
      "2\n"
     ]
    }
   ],
   "source": [
    "# 斐波那契数列 \n",
    "\n",
    "# 1，1，2，3，5，8，13，21\n",
    "\n",
    "def fn(n): #求第几位斐波那契数列的数值\n",
    "    if n==1 or n == 2:\n",
    "        return 1\n",
    "    return fn(n-1) + fn(n - 2)\n",
    "res = fn(3)\n",
    "print(res)"
   ]
  },
  {
   "cell_type": "code",
   "execution_count": 23,
   "metadata": {},
   "outputs": [
    {
     "name": "stdout",
     "output_type": "stream",
     "text": [
      "A——>C\n",
      "A——>B\n",
      "C——>B\n",
      "A——>C\n",
      "B——>A\n",
      "B——>C\n",
      "A——>C\n"
     ]
    }
   ],
   "source": [
    "# 汉诺塔阿\n",
    "\n",
    "a = \"A\"\n",
    "b = \"B\"\n",
    "c = \"C\"\n",
    "\n",
    "def hanno(a,b,c,n):# A塔接着B塔挪到C塔上去\n",
    "    if n == 1:\n",
    "        print(\"{}——>{}\".format(a,c))\n",
    "        return None\n",
    "    if n == 2:\n",
    "        print(\"{}——>{}\".format(a,b))\n",
    "        print(\"{}——>{}\".format(a,c))\n",
    "        print(\"{}——>{}\".format(b,c))\n",
    "        \n",
    "        return None\n",
    "    hanno(a,c,b,n-1) # A塔接着c塔挪到B塔上去\n",
    "    print(\"{}——>{}\".format(a,c))\n",
    "    hanno(b,a,c,n-1) # B塔接着A塔挪到C塔上去\n",
    "    \n",
    "hanno(a,b,c,3)\n"
   ]
  },
  {
   "cell_type": "markdown",
   "metadata": {},
   "source": [
    "# 面向对象\n",
    "- 继承\n",
    "- 封装\n",
    "- 多态\n",
    "# 继承\n",
    "- 子类可以使用父类的行为或者内容\n",
    "- 所有类都必须有父类\n",
    "- 如果没有父类那他的父类就是Object\n",
    "- python 允许多继承 但不推荐\n",
    "- 通过扩展一个已有的类，并继承该类的属性和行为，来创建一个新的类。\n",
    "# 封装\n",
    "- 隐藏对象的属性和实现细节，对外提供公共的访问方式，以防止数据的随意访问和修改。\n",
    " \n",
    "\n",
    "# 多态：\n",
    " - 3个条件：\n",
    "   - 1.满足继承关系\n",
    "   - 2.父类引用变量指向子类对象\n",
    "   - 3.子类重写父类的方法"
   ]
  },
  {
   "cell_type": "code",
   "execution_count": 2,
   "metadata": {},
   "outputs": [],
   "source": [
    "class Persion():\n",
    "    pass\n",
    "class Persion2(object):\n",
    "    pass"
   ]
  },
  {
   "cell_type": "code",
   "execution_count": 5,
   "metadata": {},
   "outputs": [
    {
     "name": "stdout",
     "output_type": "stream",
     "text": [
      "aa\n"
     ]
    }
   ],
   "source": [
    "class Persion():\n",
    "    name=\"aa\"\n",
    "    age=18\n",
    "class Teacher(Persion):\n",
    "    pass\n",
    "t = Teacher()\n",
    "print(t.name)"
   ]
  },
  {
   "cell_type": "code",
   "execution_count": 8,
   "metadata": {},
   "outputs": [
    {
     "name": "stdout",
     "output_type": "stream",
     "text": [
      "aa\n",
      "飞呀飞呀我的骄傲放纵\n"
     ]
    }
   ],
   "source": [
    "class Bird():\n",
    "    fly = \"飞呀飞呀我的骄傲放纵\"\n",
    "class BirdMen(Persion,Bird):\n",
    "    pass\n",
    "bm = BirdMen()\n",
    "print(bm.name)\n",
    "print(bm.fly)"
   ]
  },
  {
   "cell_type": "markdown",
   "metadata": {},
   "source": [
    "# issubclass 是否是子类\n",
    "- 可以检测两个类的父子关系\n"
   ]
  },
  {
   "cell_type": "code",
   "execution_count": 14,
   "metadata": {},
   "outputs": [
    {
     "name": "stdout",
     "output_type": "stream",
     "text": [
      "True\n",
      "True\n",
      "False\n"
     ]
    }
   ],
   "source": [
    "print(issubclass(BirdMen,Bird))\n",
    "print(issubclass(BirdMen,Persion))\n",
    "print(issubclass(BirdMen,Teacher))"
   ]
  },
  {
   "cell_type": "markdown",
   "metadata": {},
   "source": [
    "# 构造函数\n",
    "- 在函数实例化的时候调用的一个函数\n",
    "- 自动调用\n",
    "- 要求第一个参数必须有，一般推荐self\n",
    "- 一般在实例化的时候第一个被调用"
   ]
  },
  {
   "cell_type": "code",
   "execution_count": 26,
   "metadata": {},
   "outputs": [
    {
     "name": "stdout",
     "output_type": "stream",
     "text": [
      "a,b\n"
     ]
    }
   ],
   "source": [
    "class Bird():\n",
    "    def __init__(self, name, age):\n",
    "        print(\"我被调用了{}{}\".format(name,age))\n",
    "class BirdMen(Bird):\n",
    "    def __init__(self):\n",
    "        print(\"a,b\")\n",
    "b = BirdMen()"
   ]
  },
  {
   "cell_type": "markdown",
   "metadata": {},
   "source": [
    "### 构造函数的继承\n",
    "- 构造函数默认继承\n",
    "- 一旦子类定义了构造函数，则不再自动调用父类的构造函数"
   ]
  },
  {
   "cell_type": "code",
   "execution_count": 18,
   "metadata": {},
   "outputs": [],
   "source": [
    "class Persion():\n",
    "    def __init__(self,name,age):\n",
    "        print(\"{},{}\".format(name,age))\n",
    "class Teacher(Persion):\n",
    "    pass\n",
    "t = Teacher()"
   ]
  },
  {
   "cell_type": "code",
   "execution_count": 45,
   "metadata": {},
   "outputs": [
    {
     "name": "stdout",
     "output_type": "stream",
     "text": [
      "True\n",
      "True\n",
      "False\n",
      "True\n",
      "100000000\n",
      "200000000\n"
     ]
    }
   ],
   "source": [
    "a = True\n",
    "b = False\n",
    "c = True\n",
    "d = 100000000\n",
    "f = 100000000\n",
    "print(b and a or c)\n",
    "print(b if b else c if a else b) # 类似js  >>  b?b:a?c:b  \n",
    "print(not a)\n",
    "print(a or d+f)\n",
    "print(a and ++d)"
   ]
  },
  {
   "cell_type": "markdown",
   "metadata": {},
   "source": [
    "# 对python条件表达式的四种实现方法小结"
   ]
  },
  {
   "cell_type": "code",
   "execution_count": 9,
   "metadata": {},
   "outputs": [],
   "source": [
    "# a = 1, b = 2, c = 3\n",
    "\n",
    "# 1.常规\n",
    "\n",
    "# if a > b:\n",
    "#     c = a\n",
    "# else:\n",
    "#     c = b\n",
    "\n",
    "# 2.表达式\n",
    "# c = a if a>b else b \n",
    "# 先执行中间的if，如果返回True，就是左边，False是右边。\n",
    "\n",
    "# 3.二维列表\n",
    "# c = [b,a][a>b] \n",
    "#实际是[b,a][False]，因为False被转换为0，所以是[1,2][0]，也就是[1]\n",
    "# False返回第一个，True 返回第二个。\n",
    "# 4\n",
    "# c = (a>b and [a] or [b])[0]\n",
    "# 这个比较好玩，False and [1] or [2]，因为and的优先级高于or，先算and\n",
    "# False和[1] and之后还是False，和[2]or之后却成了[2]\n",
    "# True 和[1] and之后是[1]，[1]和[2]or结果是[1]\n",
    "# 也就是False和True在和别人做boolean运算的时候，根据and还是or，F和T在前在后有不一样的数据转换规则。\n"
   ]
  },
  {
   "cell_type": "code",
   "execution_count": 13,
   "metadata": {},
   "outputs": [
    {
     "name": "stdout",
     "output_type": "stream",
     "text": [
      "a ----- 1\n",
      "b ----- 2\n",
      "c ----- 3\n",
      "dict_items([('a', 1), ('b', 2), ('c', 3)])\n"
     ]
    }
   ],
   "source": [
    "def fun(**item):\n",
    "    for k,v in item.items(): #items 函数 把字典对象 变成一个（k,v）的元祖对象\n",
    "        print(k,\"-----\",v)\n",
    "fun(a = 1,b = 2,c = 3)\n",
    "aaa = {\"a\" : 1,\"b\" : 2,\"c\" : 3}\n",
    "print(aaa.items())"
   ]
  },
  {
   "cell_type": "markdown",
   "metadata": {},
   "source": [
    "# 函数文档\n",
    "- 对当前函数提供使用相关的参考信息\n",
    "- 在函数开始的第一行使用三字符串定义\n",
    "- 一般那具有特定格式\n",
    "- 参考案例\n",
    "- 文档查看\n",
    " - 使用help函数\n",
    " - 使用__doc__,参考案例\n"
   ]
  },
  {
   "cell_type": "code",
   "execution_count": 2,
   "metadata": {},
   "outputs": [],
   "source": [
    "def stu():\n",
    "    '''\n",
    "    参考文档(标准格式)\n",
    "    :params a: ....\n",
    "    :params a:....\n",
    "    :params a: ....\n",
    "    :return : ....\n",
    "    '''"
   ]
  },
  {
   "cell_type": "code",
   "execution_count": 3,
   "metadata": {},
   "outputs": [
    {
     "name": "stdout",
     "output_type": "stream",
     "text": [
      "Help on function stu in module __main__:\n",
      "\n",
      "stu()\n",
      "    参考文档(标准格式)\n",
      "    :params a: ....\n",
      "    :params a:....\n",
      "    :params a: ....\n",
      "    :return : ....\n",
      "\n"
     ]
    },
    {
     "data": {
      "text/plain": [
       "'\\n    参考文档(标准格式)\\n    :params a: ....\\n    :params a:....\\n    :params a: ....\\n    :return : ....\\n    '"
      ]
     },
     "execution_count": 3,
     "metadata": {},
     "output_type": "execute_result"
    }
   ],
   "source": [
    "help(stu)\n",
    "stu.__doc__"
   ]
  },
  {
   "cell_type": "markdown",
   "metadata": {},
   "source": [
    "# globals , locals 函数\n",
    "- 可以通过globals ,和 locals 来查看全局变量或，局部变量 "
   ]
  },
  {
   "cell_type": "code",
   "execution_count": 6,
   "metadata": {},
   "outputs": [
    {
     "name": "stdout",
     "output_type": "stream",
     "text": [
      "locals={}\n",
      "globals={'__name__': '__main__', '__doc__': 'Automatically created module for IPython interactive environment', '__package__': None, '__loader__': None, '__spec__': None, '__builtin__': <module 'builtins' (built-in)>, '__builtins__': <module 'builtins' (built-in)>, '_ih': ['', 'help(stu)\\nstu.__doc__', \"def stu():\\n    '''\\n    参考文档(标准格式)\\n    :params a: ....\\n    :params a:....\\n    :params a: ....\\n    :return : ....\\n    '''\", 'help(stu)\\nstu.__doc__', 'a = 1\\nb = 2\\ndef fun():\\n    print(\"locals={}\".format(locals()))\\n    print(\"globals={}\".format(globals()))    ', 'a = 1\\nb = 2\\ndef fun():\\n    print(\"locals={}\".format(locals()))\\n    print(\"globals={}\".format(globals()))    \\nfun()', 'a = 1\\nb = 2\\ndef fun():\\n    print(\"locals={}\".format(locals()))\\n    print(\"globals={}\".format(globals()))    \\nfun()\\nprint(__name__)'], '_oh': {3: '\\n    参考文档(标准格式)\\n    :params a: ....\\n    :params a:....\\n    :params a: ....\\n    :return : ....\\n    '}, '_dh': ['/home/yangboyu/工作/python - 基础'], 'In': ['', 'help(stu)\\nstu.__doc__', \"def stu():\\n    '''\\n    参考文档(标准格式)\\n    :params a: ....\\n    :params a:....\\n    :params a: ....\\n    :return : ....\\n    '''\", 'help(stu)\\nstu.__doc__', 'a = 1\\nb = 2\\ndef fun():\\n    print(\"locals={}\".format(locals()))\\n    print(\"globals={}\".format(globals()))    ', 'a = 1\\nb = 2\\ndef fun():\\n    print(\"locals={}\".format(locals()))\\n    print(\"globals={}\".format(globals()))    \\nfun()', 'a = 1\\nb = 2\\ndef fun():\\n    print(\"locals={}\".format(locals()))\\n    print(\"globals={}\".format(globals()))    \\nfun()\\nprint(__name__)'], 'Out': {3: '\\n    参考文档(标准格式)\\n    :params a: ....\\n    :params a:....\\n    :params a: ....\\n    :return : ....\\n    '}, 'get_ipython': <bound method InteractiveShell.get_ipython of <ipykernel.zmqshell.ZMQInteractiveShell object at 0x7fb172926cd0>>, 'exit': <IPython.core.autocall.ZMQExitAutocall object at 0x7fb16dbbb4d0>, 'quit': <IPython.core.autocall.ZMQExitAutocall object at 0x7fb16dbbb4d0>, '_': '\\n    参考文档(标准格式)\\n    :params a: ....\\n    :params a:....\\n    :params a: ....\\n    :return : ....\\n    ', '__': '', '___': '', '_i': 'a = 1\\nb = 2\\ndef fun():\\n    print(\"locals={}\".format(locals()))\\n    print(\"globals={}\".format(globals()))    \\nfun()', '_ii': 'a = 1\\nb = 2\\ndef fun():\\n    print(\"locals={}\".format(locals()))\\n    print(\"globals={}\".format(globals()))    ', '_iii': 'help(stu)\\nstu.__doc__', '_i1': 'help(stu)\\nstu.__doc__', '_i2': \"def stu():\\n    '''\\n    参考文档(标准格式)\\n    :params a: ....\\n    :params a:....\\n    :params a: ....\\n    :return : ....\\n    '''\", 'stu': <function stu at 0x7fb16caf58c0>, '_i3': 'help(stu)\\nstu.__doc__', '_3': '\\n    参考文档(标准格式)\\n    :params a: ....\\n    :params a:....\\n    :params a: ....\\n    :return : ....\\n    ', '_i4': 'a = 1\\nb = 2\\ndef fun():\\n    print(\"locals={}\".format(locals()))\\n    print(\"globals={}\".format(globals()))    ', 'a': 1, 'b': 2, 'fun': <function fun at 0x7fb16caf5b00>, '_i5': 'a = 1\\nb = 2\\ndef fun():\\n    print(\"locals={}\".format(locals()))\\n    print(\"globals={}\".format(globals()))    \\nfun()', '_i6': 'a = 1\\nb = 2\\ndef fun():\\n    print(\"locals={}\".format(locals()))\\n    print(\"globals={}\".format(globals()))    \\nfun()\\nprint(__name__)'}\n",
      "__main__\n"
     ]
    }
   ],
   "source": [
    "a = 1\n",
    "b = 2\n",
    "def fun():\n",
    "    print(\"locals={}\".format(locals()))\n",
    "    print(\"globals={}\".format(globals()))    \n",
    "fun()\n",
    "print(__name__)"
   ]
  },
  {
   "cell_type": "markdown",
   "metadata": {},
   "source": [
    "# eval()函数\n",
    "- 把一个字符串当作代码去执行\n",
    "- 语法 \n",
    "    - eval(string_code,globals = None , locals = None)\n",
    "# exec()函数 语法与eval 一样 不返回结果"
   ]
  },
  {
   "cell_type": "code",
   "execution_count": 9,
   "metadata": {},
   "outputs": [
    {
     "name": "stdout",
     "output_type": "stream",
     "text": [
      "200\n",
      "None\n"
     ]
    }
   ],
   "source": [
    "x = 100\n",
    "y = 100\n",
    "z = eval(\"x+y\")\n",
    "y = exec(\"x+y\")\n",
    "print(z)\n",
    "print(y)"
   ]
  },
  {
   "cell_type": "markdown",
   "metadata": {},
   "source": [
    " # str\n",
    " - string.strip() 去空格\n",
    " - lstrip 去左空格\n",
    " - rstrip 去右空格\n",
    " - string.replace( ' ' , '' )\n",
    " - .upper()    # 全部大写\n",
    " - .lower()    # 全部小写\n",
    " - .swapcase()    # 大小写互换\n",
    " - .capitalize()    # 首字母大写，其余小写\n",
    " - .title()    # 首字母大写\n",
    " - .ljust(width)     # 获取固定长度，左对齐，右边不够用空格补齐\n",
    " - .rjust(width)     # 获取固定长度，右对齐，左边不够用空格补齐\n",
    " - .center(width)  # 获取固定长度，中间对齐，两边不够用空格补齐\n",
    " - .zfill(width)      # 获取固定长度，右对齐，左边不足用0补齐\n",
    " - .find()    # 搜索指定字符串，没有返回-1\n",
    " - .index()    # 同上，但是找不到会报错\n",
    " - .rfind()    # 从右边开始查找\n",
    " - .count()    # 统计指定的字符串出现的次数\n",
    " - .startswith('start')    # 是否以start开头\n",
    " - .endswith('end')    # 是否以end结尾\n",
    " - .isalnum()    # 是否全为字母或数字\n",
    " - .isalpha()    # 是否全字母\n",
    " - .isdigit()    # 是否全数字\n",
    " - .islower()    # 是否全小写\n",
    " - .isupper()    # 是否全大写\n",
    " - .istitle()    # 判断首字母是否为大写\n",
    " - .isspace()    # 判断字符是否为空格\n",
    "\n",
    "### 补充\n",
    " - bin()    # 十进制数转八进制\n",
    " - hex()    # 十进制数转十六进制\n",
    " - range()    # 函数：可以生成一个整数序列\n",
    " - type()    # 查看数据类型\n",
    " - len()    # 计算字符串长度\n",
    " - format()    # 格式化字符串，类似%s，传递值能多不能少"
   ]
  },
  {
   "cell_type": "markdown",
   "metadata": {},
   "source": [
    "# 列表\n",
    "- list（分片）\n",
    "    - [0:10:4] 从0位开始到10位结束 步长为4（每次增长4位） ，下标可以超出范围，超出后不显示\n",
    "    - 左边的值一定要小于右边的值 [-2:-3] 不可以 [-2:-1] 可以\n",
    "    - 或者 [-2:-4:-2] 这么也可以 步长为负 左边可以小于右边\n",
    "    - del \n",
    "    - 列表相加 [1] + [2] = [1,2]\n",
    "    - 列表相乘  [1] * 3 = [1,1,1]\n",
    "    - 布尔值是不可迭代的\n",
    "    - a in b True False\n",
    "    - extent()\n",
    "    - append()\n",
    "    - remove()\n",
    "    - del()\n",
    "    - pop()\n",
    "    - insert()\n",
    "    - [i for i in list(range(10)) if i >1] (列表生成式)\n",
    "    - len()\n",
    "    - max()\n",
    "    - min()\n",
    "    - list() 可以把字符串转成数组\n",
    "    - split() 字符串转数组\n",
    "    - ‘’.join(arr)  数组转字符串\n",
    "    - clear(l) #清空l列表 但是他的地址还在\n",
    "    - l = [] #重新指向新的地址，原来的l可能在也可能不再\n",
    "    - reverse 反转\n",
    "    - count() 指定值 重复的个数\n",
    "    - sorted(参数，key,reverse) 不改变原数组 生成一个新的数组 key = 按什么排序 reverse = 正序倒序\n",
    "    - a.sort() sort() 只是数组对象 而sorted()可以接受任何可迭代的东西\n",
    "    - copy  赋值可以用copy 来赋值 a = b.copy() 防止互相影响  类似 js 的结构赋值 a = {...a} b = [...b]\n",
    "    - a[1:0:1] = a[1::1] 切片可以超标 索引不行"
   ]
  },
  {
   "cell_type": "code",
   "execution_count": 86,
   "metadata": {},
   "outputs": [
    {
     "name": "stdout",
     "output_type": "stream",
     "text": [
      "[('john', 'A', 15), ('jane', 'B', 12), ('dave', 'B', 10)]\n",
      "[('dave', 'B', 10), ('jane', 'B', 12), ('john', 'A', 15)]\n",
      "[('dave', 'B', 10), ('jane', 'B', 12), ('john', 'A', 15)]\n",
      "内容写入文件成功\n",
      " ,i, ,l,o,v,e, ,y,o,u\n",
      " i love you\n",
      "<class 'str'>\n",
      "<class 'str'>\n",
      "<class 'list'>\n"
     ]
    }
   ],
   "source": [
    "a =\" i love you\"\n",
    "b = list(a)\n",
    "c = str(b)\n",
    "d = type(str(123))\n",
    "\n",
    "e = [str(i) for i in b]\n",
    "\n",
    "g = ','.join(str(i) for i in b) \n",
    "\n",
    "f = ''.join(e)\n",
    "\n",
    "sorted(\"This is a test string from Andrew\".split(), key=str.lower)\n",
    "# ['a', 'Andrew', 'from', 'is', 'string', 'test', 'This']\n",
    "\n",
    "# key 形参的值应该是一个函数，它接受一个参数并并返回一个用于排序的键。这种技巧速度很快，因为对于每个输入记录只会调用一次 key 函数。\n",
    "\n",
    "# 一种常见的模式是使用对象的一些索引作为键对复杂对象进行排序。例如：\n",
    "student_tuples = [\n",
    "    ('john', 'A', 15),\n",
    "    ('jane', 'B', 12),\n",
    "    ('dave', 'B', 10),\n",
    "]\n",
    "\n",
    "gg = sorted(student_tuples, key=lambda student: student[2],reverse=True)\n",
    "zz = sorted(student_tuples, key=lambda student: student[2],reverse=False)\n",
    "xx = sorted(student_tuples, key=lambda student: student[2])\n",
    "print(gg)\n",
    "print(zz)\n",
    "print(xx)\n",
    "ff = list(range(100))\n",
    "\n",
    "try:\n",
    "    fh = open(\"testfile\", \"w\")\n",
    "    fh.write(\"这是一个测试文件，用于测试异常!!\")\n",
    "except IOError:\n",
    "    print(\"Error: 没有找到文件或读取文件失败\")\n",
    "else:\n",
    "    print(\"内容写入文件成功\")\n",
    "    fh.close()\n",
    "    \n",
    "\n",
    "print(g)\n",
    "print(f)\n",
    "print(type(c))\n",
    "print(d)\n",
    "print(type(b))"
   ]
  },
  {
   "cell_type": "code",
   "execution_count": 31,
   "metadata": {},
   "outputs": [
    {
     "name": "stdout",
     "output_type": "stream",
     "text": [
      "[0, 1, 2, 3, 4, 5, 6, 7, 8, 9]\n",
      "[0, 4, 8]\n",
      "[0, 1, 2, 3, 4, 5, 6, 7, 8, 9]\n",
      "[8, 6, 4, 2]\n",
      "[9, 8, 7, 6, 5, 4, 3, 2, 1]\n"
     ]
    }
   ],
   "source": [
    "a = list(range(10))\n",
    "print(a)\n",
    "print(a[0:10:4])\n",
    "print(a[-13:10])\n",
    "print(a[8:-10:-2])\n",
    "print(a[-1:0:-1])"
   ]
  },
  {
   "cell_type": "markdown",
   "metadata": {},
   "source": [
    "## 分片操作是 生成新的list\n",
    "- 内置函数id() 返回唯一地址 （不确定是不是内存地址）"
   ]
  },
  {
   "cell_type": "code",
   "execution_count": 34,
   "metadata": {},
   "outputs": [
    {
     "name": "stdout",
     "output_type": "stream",
     "text": [
      "140400009172944\n",
      "140400018243904\n",
      "140400018354896\n"
     ]
    }
   ],
   "source": [
    "a = list(range(10))\n",
    "\n",
    "b = [a]\n",
    "print(id(a))\n",
    "print(id(a[0:5]))\n",
    "print(id(b))"
   ]
  },
  {
   "cell_type": "code",
   "execution_count": 37,
   "metadata": {},
   "outputs": [
    {
     "name": "stdout",
     "output_type": "stream",
     "text": [
      "140400009151536\n",
      "140400009154992\n"
     ]
    }
   ],
   "source": [
    "str1 = \"1111\"\n",
    "\n",
    "str2 = str1\n",
    "\n",
    "str1 = \"22222\"\n",
    "\n",
    "print(id(str1))\n",
    "print(id(str2))"
   ]
  },
  {
   "cell_type": "markdown",
   "metadata": {},
   "source": [
    "# python 和 js 类似\n",
    "- 基本数据类型 指针 不会变 （str number 如果 a = \"1111\" b = a a = \"222\" b不会变）\n",
    "- 引用数据类型 指针 会变  （dict list tuple 会跟着 变）\n",
    "- 字符串是不可变对象 tuple set dict list 是可变对象"
   ]
  },
  {
   "cell_type": "code",
   "execution_count": 40,
   "metadata": {},
   "outputs": [
    {
     "name": "stdout",
     "output_type": "stream",
     "text": [
      "['2', '2']\n",
      "1\n",
      "140400117887152\n",
      "140400117870512\n"
     ]
    }
   ],
   "source": [
    "a = [\"1\",\"2\"]\n",
    "b = a[0]\n",
    "a[0] = \"2\"\n",
    "print(a)\n",
    "print(b)"
   ]
  },
  {
   "cell_type": "markdown",
   "metadata": {},
   "source": [
    "# 链表的遍历\n",
    "- for\n",
    "- while\n",
    "- range()"
   ]
  },
  {
   "cell_type": "code",
   "execution_count": 3,
   "metadata": {},
   "outputs": [
    {
     "name": "stdout",
     "output_type": "stream",
     "text": [
      "[['one', 1], ['two', 2], ['three', 3]]\n",
      "one ---- 1\n",
      "two ---- 2\n",
      "three ---- 3\n"
     ]
    }
   ],
   "source": [
    "a = list([[\"one\",1],[\"two\",2],[\"three\",3]])\n",
    "print(a)\n",
    "\n",
    "for k,v in a:\n",
    "    print(k,\"----\",v)"
   ]
  },
  {
   "cell_type": "code",
   "execution_count": 14,
   "metadata": {},
   "outputs": [
    {
     "name": "stdout",
     "output_type": "stream",
     "text": [
      "one\n",
      "two\n",
      "three\n"
     ]
    }
   ],
   "source": [
    "b = {\"one\":1,\"two\":2,\"three\":3}\n",
    "\n",
    "for k,v in b.items():\n",
    "    print(k,v)"
   ]
  },
  {
   "cell_type": "markdown",
   "metadata": {},
   "source": [
    "# 列表内涵 (列表生成式) "
   ]
  },
  {
   "cell_type": "code",
   "execution_count": 24,
   "metadata": {},
   "outputs": [
    {
     "name": "stdout",
     "output_type": "stream",
     "text": [
      "[0, 2, 4, 6, 8]\n",
      "[0, 2, 4, 6, 8, 1, 3, 5, 7, 9, 2, 4, 6, 8, 10, 3, 5, 7, 9, 11, 4, 6, 8, 10, 12, 5, 7, 9, 11, 13, 6, 8, 10, 12, 14, 7, 9, 11, 13, 15, 8, 10, 12, 14, 16, 9, 11, 13, 15, 17]\n"
     ]
    }
   ],
   "source": [
    "a = [i for i in range(10)]\n",
    "\n",
    "d = [i  for i in a if i%2 == 0] #过滤\n",
    "c = []\n",
    "b = [m+n for m in a for n in d ]\n",
    "print(d)\n",
    "print(b)"
   ]
  },
  {
   "cell_type": "markdown",
   "metadata": {},
   "source": [
    "#  内置函数\n",
    "   - 数学运算(7个)\n",
    "   - 类型转换(24个)\n",
    "   - 序列操作(8个)\n",
    "   - 对象操作(7个)\n",
    "   - 反射操作(8个)\n",
    "   - 变量操作(2个)\n",
    "   - 交互操作(2个)\n",
    "   - 文件操作(1个)\n",
    "   - 编译执行(4个)\n",
    "   - 装饰器(3个)"
   ]
  },
  {
   "cell_type": "markdown",
   "metadata": {},
   "source": [
    "# 装饰器"
   ]
  },
  {
   "cell_type": "code",
   "execution_count": 60,
   "metadata": {},
   "outputs": [
    {
     "name": "stdout",
     "output_type": "stream",
     "text": [
      "1111111111\n",
      "None\n",
      "<class '__main__.B'>\n",
      "None\n",
      "<class '__main__.B'>\n",
      "None\n",
      "hahahha\n",
      "None\n",
      "hahahha\n",
      "None\n"
     ]
    }
   ],
   "source": [
    "#property：#标示属性的装饰器\n",
    "class A:\n",
    "    def __init__(self):\n",
    "        pass\n",
    "    @property\n",
    "    def foo(self):\n",
    "        print('1111111111')\n",
    "a=A()\n",
    "print(a.foo)    # 访问属性，不需要加()执行foo\n",
    " \n",
    "#classmethod：#标示方法为类方法的装饰器\n",
    "class B(object):\n",
    "    def __init__(self):\n",
    "        pass\n",
    " \n",
    "    @classmethod\n",
    "    def foo(cls):\n",
    "        print(cls)\n",
    "         \n",
    "print(B.foo())  # 类对象调用类方法\n",
    "# <class '__main__.B'>\n",
    "b=B()\n",
    "print(b.foo())  # 类实例对象调用类方法\n",
    "# <class '__main__.B'>\n",
    " \n",
    "#staticmethod：标示方法为静态方法的装饰器\n",
    "class C(object):\n",
    "    def __init__(self):\n",
    "        pass\n",
    "    @staticmethod\n",
    "    def f1():\n",
    "        print('hahahha')\n",
    "         \n",
    "print(C.f1())   # 类调用\n",
    "c=C()\n",
    "print(c.f1())   # 类实例对象调用"
   ]
  },
  {
   "cell_type": "code",
   "execution_count": 48,
   "metadata": {},
   "outputs": [
    {
     "name": "stdout",
     "output_type": "stream",
     "text": [
      "var1\n",
      "var2\n"
     ]
    },
    {
     "data": {
      "text/plain": [
       "'\\n注意，对于Python新式类（new-style class），如果将上面的 “@var.setter” 装饰器所装饰的成员函数去掉，\\n则Foo.var 属性为只读属性，使用 “foo.var = ‘var 2′” 进行赋值时会抛出异常。\\n但是，对于Python classic class，所声明的属性不是 read-only的，所以即使去掉”@var.setter”装饰器也不会报错。\\n'"
      ]
     },
     "execution_count": 48,
     "metadata": {},
     "output_type": "execute_result"
    }
   ],
   "source": [
    "\"\"\"\n",
    "python内置装饰器\n",
    "在python中有三个内置的装饰器，都是跟class相关的：staticmethod、classmethod、property.\n",
    "    @staticmethod 是类的静态方法，其跟成员方法的区别是没有self参数，并且可以在类不进行实例化的情况下调用\n",
    "    @classmethod 与成员方法的区别在于所接收的第一个参数不是self（类实例的指针），而是cls（当前类的具体类型）\n",
    "    @property 是属性的意思，表示可以通过类实例直接访问的信息\n",
    "\"\"\"\n",
    "\n",
    "class Foo(object):\n",
    "    def __init__(self,var):\n",
    "        super(Foo,self).__init__()\n",
    "        self._var=var\n",
    "\n",
    "    @property\n",
    "    def var(self):\n",
    "        return self._var\n",
    "\n",
    "    @var.setter\n",
    "    def var(self,var):\n",
    "        self._var=var\n",
    "\n",
    "f=Foo('var1')\n",
    "print(f.var)\n",
    "f.var='var2'\n",
    "print(f.var)\n",
    "\n",
    "\"\"\"\n",
    "注意，对于Python新式类（new-style class），如果将上面的 “@var.setter” 装饰器所装饰的成员函数去掉，\n",
    "则Foo.var 属性为只读属性，使用 “foo.var = ‘var 2′” 进行赋值时会抛出异常。\n",
    "但是，对于Python classic class，所声明的属性不是 read-only的，所以即使去掉”@var.setter”装饰器也不会报错。\n",
    "\"\"\""
   ]
  },
  {
   "cell_type": "markdown",
   "metadata": {},
   "source": [
    "# 编译执行"
   ]
  },
  {
   "cell_type": "code",
   "execution_count": 51,
   "metadata": {},
   "outputs": [
    {
     "name": "stdout",
     "output_type": "stream",
     "text": [
      "0\n",
      "1\n",
      "2\n",
      "3\n",
      "4\n",
      "10\n",
      "10\n",
      "8\n",
      "9.0\n",
      "3\n",
      "5.0\n",
      "hello world\n",
      "'hello world'\n"
     ]
    }
   ],
   "source": [
    "#compile：将字符串编译为代码或者AST对象，使之能够通过exec语句来执行或者eval进行求值\n",
    "# 流程语句使用exec\n",
    "code1='for i in range(5):print(i)'\n",
    "compile1=compile(code1,'','exec')\n",
    "exec (compile1)\n",
    "# 0\n",
    "# 1\n",
    "# 2\n",
    "# 3\n",
    "# 4\n",
    " \n",
    "# 简单求值表达式用eval\n",
    "code2='1+2+3+4'\n",
    "compile2=compile(code2,'','eval')\n",
    "print(eval(compile2))   # 10\n",
    " \n",
    "#eval：执行动态表达式求值\n",
    "print(eval('1+2+3+4'))  # 10\n",
    "print(eval('2*2*2'))    # 8\n",
    "print(eval('10/2+2*2')) # 9.0\n",
    " \n",
    "#exec：执行动态语句块\n",
    "exec ('a=1+2')\n",
    "print(a)    # 3\n",
    "exec ('b=4*3/2-1')\n",
    "print(b)    # 5.0\n",
    " \n",
    "#repr：返回一个对象的字符串表现形式(给解释器)\n",
    "a='hello world'\n",
    "print(str(a))   # hello world\n",
    "print(repr(a))  # 'hello world'"
   ]
  },
  {
   "cell_type": "markdown",
   "metadata": {},
   "source": [
    "# 文件操作"
   ]
  },
  {
   "cell_type": "code",
   "execution_count": 52,
   "metadata": {},
   "outputs": [
    {
     "name": "stdout",
     "output_type": "stream",
     "text": [
      "124sdgadgahg ggadh\n"
     ]
    }
   ],
   "source": [
    "#open：使用指定的模式和编码打开文件，返回文件读写对象\n",
    "# 写入文件\n",
    "a= open('a.text','w')\n",
    "a.write('124sdgadgahg ggadh')\n",
    " \n",
    "# 读取文件\n",
    "a= open('a.text','rt')\n",
    "print(a.read())\n",
    "a.close()"
   ]
  },
  {
   "cell_type": "markdown",
   "metadata": {},
   "source": [
    "# 交互操作"
   ]
  },
  {
   "cell_type": "code",
   "execution_count": 53,
   "metadata": {},
   "outputs": [
    {
     "ename": "SyntaxError",
     "evalue": "invalid character in identifier (<ipython-input-53-de8ebd327f93>, line 1)",
     "output_type": "error",
     "traceback": [
      "\u001b[0;36m  File \u001b[0;32m\"<ipython-input-53-de8ebd327f93>\"\u001b[0;36m, line \u001b[0;32m1\u001b[0m\n\u001b[0;31m    print：向标准输出对象打印输出\u001b[0m\n\u001b[0m                    ^\u001b[0m\n\u001b[0;31mSyntaxError\u001b[0m\u001b[0;31m:\u001b[0m invalid character in identifier\n"
     ]
    }
   ],
   "source": [
    "#print：向标准输出对象打印输出\n",
    "#nput：读取用户输入值\n",
    "user=input('please input your name:')"
   ]
  },
  {
   "cell_type": "markdown",
   "metadata": {},
   "source": [
    "# 反射操作"
   ]
  },
  {
   "cell_type": "code",
   "execution_count": 57,
   "metadata": {},
   "outputs": [
    {
     "name": "stdout",
     "output_type": "stream",
     "text": [
      "<module 'os' from '/home/yangboyu/下载/y/lib/python3.7/os.py'>\n",
      "<module 'time' (built-in)>\n",
      "True\n",
      "False\n",
      "Ethan\n",
      "20\n",
      "Ethan\n",
      "Tom\n",
      "18\n",
      "Ethan\n",
      "hello Ethan\n",
      "None\n",
      "None\n",
      "True\n",
      "True\n",
      "instances are callable now\n",
      "None\n"
     ]
    }
   ],
   "source": [
    "#__import__：动态导入模块\n",
    "print(__import__('os'))\n",
    "print(__import__('time'))\n",
    " \n",
    "# <module 'os' from 'D:\\\\Python36\\\\lib\\\\os.py'>\n",
    "# <module 'time' (built-in)>\n",
    " \n",
    "#isinstance：判断对象是否是类或者类型元组中任意类元素的实例\n",
    "#issubclass：判断类是否是另外一个类或者类型元组中任意类元素的子类\n",
    " \n",
    "#hasattr：检查对象是否含有属性\n",
    "class Student:\n",
    "    def __init__(self,name):\n",
    "        self.name=name\n",
    " \n",
    "s=Student('Ethan')\n",
    "print(hasattr(s,'name'))    # 含有name属性为True\n",
    "print(hasattr(s,'age'))     # 不含有age属性为False\n",
    " \n",
    "#getattr：获取对象的属性值\n",
    "print(getattr(s,'name'))    # 存在属性name，Ethan\n",
    "print(getattr(s,'age',20))  # 不存在属性age，但提供了默认值，返回默认值\n",
    "# print(getattr(s,'age'))     # 不存在属性age，未提供默认值，调用报错\n",
    "#报错如下：\n",
    "#Traceback (most recent call last):\n",
    "#  File \"D:/test.py\", line 30, in <module>\n",
    "#    print(getattr(s,'age'))\n",
    "#AttributeError: 'Student' object has no attribute 'age'\n",
    " \n",
    "#setattr：设置对象的属性值\n",
    "print(s.name)   # Ethan\n",
    "setattr(s,'name','Tom')   # name属性存在，做赋值操作\n",
    "setattr(s,'age',18)     # age属性不存在，创建这个属性\n",
    "print(s.name)   # Tom\n",
    "print(s.age)    # 18\n",
    " \n",
    "#delattr：删除对象的属性\n",
    "class Student:\n",
    "    def __init__(self,name):\n",
    "        self.name=name\n",
    "    def foo(self):\n",
    "        print('hello %s' % self.name)\n",
    " \n",
    "a=Student('Ethan')\n",
    " \n",
    "print(a.name)   # Ethan\n",
    "print(a.foo())  # hello Ethan\n",
    " \n",
    "print(delattr(a,'name'))    # name属性被删除\n",
    "# print(a.name)   # 调用报错\n",
    "#Traceback (most recent call last):\n",
    "# File \"D:/test.py\", line 50, in <module>\n",
    "#    print(a.name)   # 调用报错\n",
    "#AttributeError: 'Student' object has no attribute 'name'\n",
    " \n",
    "#callable：检测对象是否可被调用\n",
    "class B:\n",
    "    def __call__(self, *args, **kwargs):\n",
    "        print('instances are callable now')\n",
    " \n",
    "print(callable(B))  # 类B是可调用对象\n",
    "b=B()   # 调用类B\n",
    "print(callable(b))  # 实例b是可调用对象\n",
    "print(b())  # 调用实例b成功\n",
    "# instances are callable now"
   ]
  },
  {
   "cell_type": "markdown",
   "metadata": {},
   "source": [
    "# 对象操作"
   ]
  },
  {
   "cell_type": "code",
   "execution_count": 59,
   "metadata": {},
   "outputs": [
    {
     "name": "stdout",
     "output_type": "stream",
     "text": [
      "{}\n",
      "{}\n",
      "{'name': 'buer'}\n",
      "{'name': 'buer'}\n"
     ]
    }
   ],
   "source": [
    "'''\n",
    "help：返回对象的帮助信息\n",
    "dir：返回对象或者当前作用域内的属性列表\n",
    "id：返回对象的唯一标识符\n",
    "hash：获取对象的哈希值\n",
    "type：返回对象的类型，或者根据传入的参数创建一个新的类型\n",
    "len：返回对象的长度\n",
    "ascii：返回对象的可打印表字符串表现方式\n",
    "format：格式化显示值\n",
    "vars：返回当前作用域内的局部变量和其值组成的字典，或者返回对象的属性列表\n",
    "'''\n",
    "class A(object):\n",
    "    pass\n",
    " \n",
    "a=A()\n",
    "print(a.__dict__)   # {}\n",
    "print(vars(a))      # {}\n",
    "a.name='buer'\n",
    "print(a.__dict__)   # {'name': 'buer'}\n",
    "print(vars(a))      # {'name': 'buer'}"
   ]
  },
  {
   "cell_type": "markdown",
   "metadata": {},
   "source": [
    "# 类型转换"
   ]
  },
  {
   "cell_type": "raw",
   "metadata": {},
   "source": [
    "bool：根据传入的参数的逻辑值创建一个新的布尔值\n",
    "bool()或bool(0)     # 数值0、空值为False\n",
    " \n",
    "int：根据传入的参数创建一个新的整数\n",
    "int()     # 不传入参数时，得到结果0\n",
    " \n",
    "float：根据传入的参数创建一个新的浮点数\n",
    "float()    # 不提供参数的时候，返回0.0\n",
    " \n",
    "complex：根据传入参数创建一个新的复数\n",
    "complex()    # 当两个参数都不提供时，返回复数 0j\n",
    " \n",
    "str：返回一个对象的字符串表现形式(给用户)\n",
    " \n",
    "bytearray：根据传入的参数创建一个新的字节数组\n",
    "bytearray('中文','utf-8') \n",
    "bytearray(b'\\xe4\\xb8\\xad\\xe6\\x96\\x87')\n",
    " \n",
    "bytes：根据传入的参数创建一个新的不可变字节数组\n",
    "bytes('中文','utf-8')\n",
    "b'\\xe4\\xb8\\xad\\xe6\\x96\\x87'\n",
    " \n",
    "memoryview：根据传入的参数创建一个新的内存查看对象\n",
    "v=memoryview(b'asdf')\n",
    "print(v[0])    # 97\n",
    "print(v[-1])    # 102\n",
    " \n",
    "ord：返回Unicode字符对应的整数\n",
    "print(ord('a'))\n",
    " \n",
    "chr：返回整数所对应的Unicode字符\n",
    "print(chr(97))\n",
    " \n",
    "bin：将整数转换成2进制字符串\n",
    "oct：将整数转化成8进制数字符串\n",
    "hex：将整数转换成16进制字符串\n",
    " \n",
    "tuple：根据传入的参数创建一个新的元组\n",
    "list：根据传入的参数创建一个新的列表\n",
    "dict：根据传入的参数创建一个新的字典\n",
    "set：根据传入的参数创建一个新的集合\n",
    " \n",
    "frozenset：根据传入的参数创建一个新的不可变集合\n",
    "a=frozenset(range(10))\n",
    "print(a)\n",
    "# frozenset({0, 1, 2, 3, 4, 5, 6, 7, 8, 9})\n",
    " \n",
    "enumerate：根据可迭代对象创建枚举对象\n",
    "l1=['one','two','three','five']\n",
    "print(list(enumerate(l1)))\n",
    "# [(0, 'one'), (1, 'two'), (2, 'three'), (3, 'five')]\n",
    "print(list(enumerate(l1,start=1)))  # 指定起始值\n",
    "# [(1, 'one'), (2, 'two'), (3, 'three'), (4, 'five')]\n",
    " \n",
    "range：根据传入的参数创建一个新的range对象\n",
    "iter：根据传入的参数创建一个新的可迭代对象\n",
    "a=iter('asdf')\n",
    "print(a)    # <str_iterator object at 0x00000190B4D99668>\n",
    "print(next(a))  # a\n",
    "print(next(a))  # s\n",
    "print(next(a))  # d\n",
    "print(next(a))  # f\n",
    "print(next(a))  # 报错StopIteration\n",
    " \n",
    "slice：根据传入的参数创建一个新的切片对象\n",
    "c1=slice(5)\n",
    "print(c1)   # slice(None, 5, None)\n",
    "c1=slice(2,5)\n",
    "print(c1)   # slice(2, 5, None)\n",
    "c1=slice(1,4,7)\n",
    "print(c1)   # slice(1, 4, 7)\n",
    " \n",
    "super：根据传入的参数创建一个新的子类和父类关系的代理对象\n",
    "# 定义父类A类\n",
    "class A(object):\n",
    "    def __init__(self):\n",
    "        print(A.__init__)\n",
    " \n",
    "# 定义子类，继承A\n",
    "class B(A):\n",
    "    def __init__(self):\n",
    "        print(B.__init__)\n",
    "        super().__init__()\n",
    " \n",
    "# super调用父类方法\n",
    "b=B()\n",
    "print(b)\n",
    "<function B.__init__ at 0x0000023DB0CA76A8>\n",
    "<function A.__init__ at 0x0000023DB0CA7620>\n",
    " \n",
    "object：创建一个新的object对象\n",
    "1\n",
    "序列操作\n",
    "1\n",
    "2\n",
    "3\n",
    "4\n",
    "5\n",
    "6\n",
    "7\n",
    "8\n",
    "9\n",
    "10\n",
    "11\n",
    "12\n",
    "13\n",
    "14\n",
    "15\n",
    "16\n",
    "17\n",
    "18\n",
    "19\n",
    "20\n",
    "all：判断可迭代对象的每个元素是否都为True值\n",
    "print(all([1,2]))    # 列表中每个元素逻辑值均为True，返回True\n",
    "print(all([0,2]))     # 列表中0的逻辑值为False，返回False\n",
    " \n",
    "any：判断可迭代对象的元素是否有为True值的元素\n",
    "# 列表元素有一个为True，则返回True\n",
    "# 列表元素全部为False，则返回False\n",
    " \n",
    "filter：使用指定方法过滤可迭代对象的元素\n",
    " \n",
    "map：使用指定方法去作用传入的每个可迭代对象的元素，生成新的可迭代对象\n",
    " \n",
    "next：返回可迭代对象中的下一个元素值\n",
    "# 传入default参数后，如果可迭代对象还有元素没有返回，则依次返回其元素值，如果所有元素已经返回，则返回default指定的默认值而不抛出StopIteration 异常\n",
    "  \n",
    "reversed：反转序列生成新的可迭代对象\n",
    " \n",
    "sorted：对可迭代对象进行排序，返回一个新的列表\n",
    " \n",
    "zip：聚合传入的每个迭代器中相同位置的元素，返回一个新的元组类型迭代器"
   ]
  },
  {
   "cell_type": "markdown",
   "metadata": {},
   "source": [
    "# 数学运算"
   ]
  },
  {
   "cell_type": "code",
   "execution_count": 68,
   "metadata": {},
   "outputs": [
    {
     "data": {
      "text/plain": [
       "10"
      ]
     },
     "execution_count": 68,
     "metadata": {},
     "output_type": "execute_result"
    }
   ],
   "source": [
    "# abs：求数值的绝对值\n",
    "abs(-2)\n",
    " \n",
    "# divmod：返回两个数值的商和余数\n",
    "divmod(5,2)\n",
    "divmod(5.5,2)\n",
    " \n",
    "# max：返回迭代对象中的元素的最大值或者所有参数的最大值\n",
    "max(1,2,3)  # 传入3个参数 取3个中较大者\n",
    "max('1234')  # 传入1个可迭代对象，取其最大元素值\n",
    "max(-1,0,key=abs)  # 传入了求绝对值函数，则参数都会进行求绝对值后再取较大者\n",
    " \n",
    "# min：返回可迭代对象中的元素的最小值或者所有参数的最小值\n",
    "min(1,2,3)     # 传入3个参数 取3个中较小者\n",
    "min('1234')    # 传入1个可迭代对象，取其最小元素值\n",
    "min(-1,-2,key=abs)    # 传入了求绝对值函数，则参数都会进行求绝对值后再取较小者\n",
    " \n",
    "# pow：返回两个数值的幂运算值或其余指定整数的模值\n",
    "pow(2,3)\n",
    " \n",
    "# round：对浮点数进行四舍五入求值\n",
    "round(1.1111,1)\n",
    " \n",
    "# sum：对元素类型是数值的可迭代对象中的每个元素求和\n",
    "sum((1,2,3,4))    # 传入可迭代对象、元素类型必须是数值型"
   ]
  },
  {
   "cell_type": "markdown",
   "metadata": {},
   "source": [
    "# python中str函数isdigit、isdecimal、isnumeric的区别"
   ]
  },
  {
   "cell_type": "code",
   "execution_count": 72,
   "metadata": {},
   "outputs": [],
   "source": [
    "# isdigit()\n",
    "# True: Unicode数字，byte数字（单字节），全角数字（双字节），罗马数字\n",
    "# False: 汉字数字\n",
    "# Error: 无\n",
    " \n",
    "# isdecimal()\n",
    "# True: Unicode数字，，全角数字（双字节）\n",
    "# False: 罗马数字，汉字数字\n",
    "# Error: byte数字（单字节）\n",
    " \n",
    "# isnumeric()\n",
    "# True: Unicode数字，全角数字（双字节），罗马数字，汉字数字\n",
    "# False: 无\n",
    "# Error: byte数字（单字节）"
   ]
  },
  {
   "cell_type": "markdown",
   "metadata": {},
   "source": [
    "# 深拷贝 浅拷贝\n",
    " - copy 只能浅拷贝 （对与多层嵌套 ，copy函数只能进行 最外面 拷贝）\n",
    " - 深拷贝 得使用工具"
   ]
  },
  {
   "cell_type": "code",
   "execution_count": 88,
   "metadata": {},
   "outputs": [
    {
     "name": "stdout",
     "output_type": "stream",
     "text": [
      "140378192782512\n",
      "140378192816000\n",
      "140378192782192\n",
      "140378192782192\n"
     ]
    }
   ],
   "source": [
    "a = [1,2,3,4,[1,2],[4,5]]\n",
    "b = a.copy()\n",
    "\n",
    "print(id(a))\n",
    "print(id(b))\n",
    "\n",
    "print(id(a[4]))\n",
    "print(id(b[4]))\n",
    "\n"
   ]
  },
  {
   "cell_type": "markdown",
   "metadata": {},
   "source": [
    "# set 集合\n",
    "- 无序 即无法用索引和分片\n",
    "- 唯一 \n",
    "- 内部只能放置可哈希数据 如 str int float tuple ,冰冻集合 \n",
    "- 空集合可以 set() 创建 不能 {} 创建"
   ]
  },
  {
   "cell_type": "code",
   "execution_count": 22,
   "metadata": {},
   "outputs": [
    {
     "name": "stdout",
     "output_type": "stream",
     "text": [
      "<class 'dict'>\n",
      "<class 'set'>\n",
      "<class 'tuple'>\n",
      "<class 'tuple'>\n",
      "<class 'list'>\n",
      "<class 'list'>\n",
      "1 23 3\n",
      "5 6 7\n",
      "2 3 4\n"
     ]
    }
   ],
   "source": [
    "s = {}\n",
    "print(type(s))\n",
    "s = set()\n",
    "print(type(s))\n",
    "\n",
    "s = ()\n",
    "print(type(s))\n",
    "s = tuple()\n",
    "print(type(s))\n",
    "\n",
    "s = []\n",
    "print(type(s))\n",
    "s = list()\n",
    "print(type(s))\n",
    "\n",
    "\n",
    "s = {(1,23,3),(2,3,4),(5,6,7)}\n",
    "\n",
    "for i,j,k in s:\n",
    "    print(i,j,k)"
   ]
  },
  {
   "cell_type": "markdown",
   "metadata": {},
   "source": [
    "# 集合内涵"
   ]
  },
  {
   "cell_type": "code",
   "execution_count": 15,
   "metadata": {},
   "outputs": [
    {
     "name": "stdout",
     "output_type": "stream",
     "text": [
      "{1, 3, 5, 7, 9}\n",
      "{3, 4, 5, 6}\n",
      "[0, 1, 2, 3, 4, 5, 6, 7, 8, 9]\n",
      "[10, 11, 12, 13, 14, 15, 16, 17, 18, 19]\n"
     ]
    }
   ],
   "source": [
    "s = {i for i in set(range(10)) if i%2}\n",
    "print(s)\n",
    "\n",
    "ss = {i+j for i in set(range(0,3)) for j in set(range(3,5))}\n",
    "print(ss)\n",
    "\n",
    "print(list(range(0,10)))\n",
    "print(list(range(10,20)))"
   ]
  },
  {
   "cell_type": "markdown",
   "metadata": {},
   "source": [
    "# 集合函数 \n",
    "- add()\n",
    "- len()\n",
    "- max()\n",
    "- min()\n",
    "- clear()\n",
    "- set()\n",
    "- s.discard(value)  没有这个数不会报错\n",
    "- s.remove(value) 如果没有这个数会报错\n",
    "- pop() 随机移除  用的多"
   ]
  },
  {
   "cell_type": "markdown",
   "metadata": {},
   "source": [
    "# 交叉并补超\n",
    "- 超集就是子集的反义 A是B的字集 那么B就是A的超集"
   ]
  },
  {
   "cell_type": "markdown",
   "metadata": {},
   "source": [
    "# dict 字典\n",
    "- 创建方法\n",
    "- keys()\n",
    "- items()\n",
    "- values()\n",
    "- max()\n",
    "- min()\n",
    "- len()\n",
    "- dict()\n",
    "- str()\n",
    "- get(\"key\",default(100)) 这么获取不会报错，如果没有会返回None 如果设置了默认值则返回默认值\n",
    "- dict.fromkeys(l,\"要设置的值\")  把l数组的值当作key值，都赋值为 \"要设置的值\""
   ]
  },
  {
   "cell_type": "code",
   "execution_count": 28,
   "metadata": {},
   "outputs": [
    {
     "name": "stdout",
     "output_type": "stream",
     "text": [
      "<class 'dict'>\n",
      "<class 'dict'>\n",
      "{'a': 1, 'b': 2, 'c': 3}\n",
      "{'a': 1, 'b': 2, 'c': 3}\n",
      "{'a': 1, 'b': 2, 'c': 3}\n"
     ]
    }
   ],
   "source": [
    "d = dict()\n",
    "print(type(dict()))\n",
    "dd = {}\n",
    "print(type(dict(dd)))\n",
    "\n",
    "d = dict(a=1,b=2,c=3)    #1\n",
    "print(d)\n",
    "\n",
    "d = dict({\"a\":1,'b':2,'c':3}) #2\n",
    "print(d)\n",
    "\n",
    "d = dict([(\"a\",1),('b',2),('c',3)])  #3\n",
    "print(d)"
   ]
  },
  {
   "cell_type": "code",
   "execution_count": 39,
   "metadata": {},
   "outputs": [
    {
     "name": "stdout",
     "output_type": "stream",
     "text": [
      "a\n",
      "b\n",
      "c\n",
      "a\n",
      "b\n",
      "c\n",
      "1\n",
      "2\n",
      "3\n",
      "a 1\n",
      "b 2\n",
      "c 3\n",
      "2\n",
      "None\n"
     ]
    }
   ],
   "source": [
    "d = {\"a\":1,\"b\":2,\"c\":3}\n",
    "\n",
    "for i in d:\n",
    "    print(i)\n",
    "    \n",
    "for i in d.keys():\n",
    "    print(i)\n",
    "\n",
    "for i in d.values():\n",
    "    print(i)\n",
    "\n",
    "for i,j in d.items():\n",
    "    print(i,j)\n",
    "\n",
    "print(d['b'])\n",
    "\n",
    "# print(d['v'])\n",
    "\n",
    "print(d.get('v'))\n"
   ]
  },
  {
   "cell_type": "markdown",
   "metadata": {},
   "source": [
    "# 字典生成式\n"
   ]
  },
  {
   "cell_type": "code",
   "execution_count": 35,
   "metadata": {},
   "outputs": [
    {
     "name": "stdout",
     "output_type": "stream",
     "text": [
      "{'a': 1, 'b': 2, 'c': 3}\n",
      "{'b': 2}\n"
     ]
    }
   ],
   "source": [
    "d = {\"a\":1,\"b\":2,\"c\":3}\n",
    "f = {k:v for k,v in d.items()}\n",
    "print(f)\n",
    "\n",
    "f = {k:v for k,v in d.items() if v % 2 == 0}\n",
    "print(f)\n",
    "\n"
   ]
  },
  {
   "cell_type": "code",
   "execution_count": 41,
   "metadata": {},
   "outputs": [
    {
     "name": "stdout",
     "output_type": "stream",
     "text": [
      "{0: 'hahahhah', 1: 'hahahhah', 2: 'hahahhah', 3: 'hahahhah', 4: 'hahahhah', 5: 'hahahhah', 6: 'hahahhah', 7: 'hahahhah', 8: 'hahahhah', 9: 'hahahhah'}\n"
     ]
    }
   ],
   "source": [
    "l = list(range(10))\n",
    "\n",
    "d = dict.fromkeys(l,\"hahahhah\")\n",
    "print(d)"
   ]
  },
  {
   "cell_type": "code",
   "execution_count": null,
   "metadata": {},
   "outputs": [],
   "source": []
  }
 ],
 "metadata": {
  "kernelspec": {
   "display_name": "Python 3",
   "language": "python",
   "name": "python3"
  },
  "language_info": {
   "codemirror_mode": {
    "name": "ipython",
    "version": 3
   },
   "file_extension": ".py",
   "mimetype": "text/x-python",
   "name": "python",
   "nbconvert_exporter": "python",
   "pygments_lexer": "ipython3",
   "version": "3.7.6"
  }
 },
 "nbformat": 4,
 "nbformat_minor": 4
}
