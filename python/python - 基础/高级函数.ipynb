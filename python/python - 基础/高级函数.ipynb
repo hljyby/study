{
 "cells": [
  {
   "cell_type": "markdown",
   "metadata": {},
   "source": [
    "# 高级函数\n",
    "- zip\n",
    "- map\n",
    "- filter"
   ]
  },
  {
   "cell_type": "markdown",
   "metadata": {},
   "source": [
    "- 要创建一个generator，有很多种方法。第一种方法很简单，只要把一个列表生成式的[]改成()，就创建了一个generator：\n",
    "- 而变成generator的函数，在每次调用next()的时候执行，遇到yield语句返回，再次执行时从上次返回的yield语句处继续执行。\n",
    "- https://www.liaoxuefeng.com/wiki/1016959663602400/1017318207388128"
   ]
  },
  {
   "cell_type": "markdown",
   "metadata": {},
   "source": [
    "- 切片如果数组只有一个或者为空[1:][:-1] 为空 因为不取最后一个索引"
   ]
  },
  {
   "cell_type": "code",
   "execution_count": 13,
   "metadata": {},
   "outputs": [
    {
     "name": "stdout",
     "output_type": "stream",
     "text": [
      "[1]\n",
      "[1, 1]\n",
      "[1, 2, 1]\n",
      "[1, 3, 3, 1]\n",
      "[1, 4, 6, 4, 1]\n",
      "[1, 5, 10, 10, 5, 1]\n",
      "[1, 6, 15, 20, 15, 6, 1]\n",
      "[1, 7, 21, 35, 35, 21, 7, 1]\n",
      "[1, 8, 28, 56, 70, 56, 28, 8, 1]\n",
      "[1, 9, 36, 84, 126, 126, 84, 36, 9, 1]\n"
     ]
    }
   ],
   "source": [
    "# 杨辉三角 生成器\n",
    "def triangles():\n",
    "    L = [1]\n",
    "    while(True):\n",
    "        yield L\n",
    "        L = [1]+[x+y for x,y in zip(L[:-1],L[1:])] + [1] \n",
    "n = 0\n",
    "results = []\n",
    "for t in triangles():\n",
    "    results.append(t)\n",
    "    n = n + 1\n",
    "    if n == 10:\n",
    "        break\n",
    "\n",
    "for t in results:\n",
    "    print(t)"
   ]
  },
  {
   "cell_type": "code",
   "execution_count": 19,
   "metadata": {},
   "outputs": [
    {
     "name": "stdout",
     "output_type": "stream",
     "text": [
      "[]\n",
      "[]\n",
      "[]\n"
     ]
    }
   ],
   "source": [
    "a = [1]\n",
    "\n",
    "b = a[:-1]\n",
    "print(b)\n",
    "c = a[1:]\n",
    "print(c)\n",
    "\n",
    "d = []\n",
    "\n",
    "e = d[:-1]\n",
    "print(e)"
   ]
  },
  {
   "cell_type": "code",
   "execution_count": 23,
   "metadata": {},
   "outputs": [
    {
     "name": "stdout",
     "output_type": "stream",
     "text": [
      "[]\n",
      "[2]\n",
      "[3, 3]\n",
      "[4, 6, 4]\n",
      "[5, 10, 10, 5]\n",
      "[6, 15, 20, 15, 6]\n",
      "[7, 21, 35, 35, 21, 7]\n",
      "[8, 28, 56, 70, 56, 28, 8]\n",
      "[9, 36, 84, 126, 126, 84, 36, 9]\n"
     ]
    }
   ],
   "source": [
    "L = [1]\n",
    "while(len(L)<10):\n",
    "    print([x+y for x,y in zip(L[:-1],L[1:])])\n",
    "#     print(zip(L[:-1],L[1:]))\n",
    "    L = [1]+[x+y for x,y in zip(L[:-1],L[1:])] + [1] "
   ]
  },
  {
   "cell_type": "code",
   "execution_count": null,
   "metadata": {},
   "outputs": [],
   "source": []
  }
 ],
 "metadata": {
  "kernelspec": {
   "display_name": "Python 3",
   "language": "python",
   "name": "python3"
  },
  "language_info": {
   "codemirror_mode": {
    "name": "ipython",
    "version": 3
   },
   "file_extension": ".py",
   "mimetype": "text/x-python",
   "name": "python",
   "nbconvert_exporter": "python",
   "pygments_lexer": "ipython3",
   "version": "3.7.6"
  }
 },
 "nbformat": 4,
 "nbformat_minor": 4
}
