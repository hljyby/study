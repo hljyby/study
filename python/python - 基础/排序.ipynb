{
 "cells": [
  {
   "cell_type": "code",
   "execution_count": 3,
   "metadata": {},
   "outputs": [
    {
     "name": "stdout",
     "output_type": "stream",
     "text": [
      "[0, 1, 2, 3, 4, 5, 6, 7, 8, 9, 10, 11, 12, 13, 14, 15, 16, 17, 18, 19, 20, 21, 22, 23, 24, 25, 26, 27, 28, 29, 30, 31, 32, 33, 34, 35, 36, 37, 38, 39, 40, 41, 42, 43, 44, 45, 46, 47, 48, 49, 50, 51, 52, 53, 54, 55, 56, 57, 58, 59, 60, 61, 62, 63, 64, 65, 66, 67, 68, 69, 70, 71, 72, 73, 74, 75, 76, 77, 78, 79, 80, 81, 82, 83, 84, 85, 86, 87, 88, 89, 90, 91, 92, 93, 94, 95, 96, 97, 98, 99]\n"
     ]
    }
   ],
   "source": [
    "a = list(range(100))\n",
    "print(a)"
   ]
  },
  {
   "cell_type": "code",
   "execution_count": 32,
   "metadata": {},
   "outputs": [
    {
     "name": "stdout",
     "output_type": "stream",
     "text": [
      "[76, 1, 37, 89, 81, 84, 85, 43, 27, 8, 29, 6, 66, 21, 95, 5, 23, 17, 34, 60, 88, 9, 90, 58, 51, 71, 65, 38, 7, 74, 73, 79, 3, 96, 33, 59, 28, 16, 53, 4, 70, 36, 75, 92, 32, 2, 39, 82, 80, 77, 57, 98, 41, 40, 48, 42, 54, 62, 93, 91, 69, 22, 31, 83, 15, 12, 97, 30, 26, 87, 44, 13, 64, 61, 99, 47, 10, 50, 19, 86, 55, 46, 67, 0, 35, 68, 78, 25, 14, 56, 94, 18, 45, 24, 20, 11, 52, 49, 72, 63]\n",
      "[0, 1, 2, 3, 4, 5, 6, 7, 8, 9, 10, 11, 12, 13, 14, 15, 16, 17, 18, 19, 20, 21, 22, 23, 24, 25, 26, 27, 28, 29, 30, 31, 32, 33, 34, 35, 36, 37, 38, 39, 40, 41, 42, 43, 44, 45, 46, 47, 48, 49, 50, 51, 52, 53, 54, 55, 56, 57, 58, 59, 60, 61, 62, 63, 64, 65, 66, 67, 68, 69, 70, 71, 72, 73, 74, 75, 76, 77, 78, 79, 80, 81, 82, 83, 84, 85, 86, 87, 88, 89, 90, 91, 92, 93, 94, 95, 96, 97, 98, 99]\n"
     ]
    }
   ],
   "source": [
    "import random\n",
    "\n",
    "random.shuffle(a)\n",
    "print(a)\n",
    "\n",
    "for i in range(len(a) - 1):\n",
    "    for j in range(len(a) -1 - i):\n",
    "        if(a[j] > a[j+1]):\n",
    "            b = a[j]\n",
    "            a[j] = a[j + 1]\n",
    "            a[j+1] = b\n",
    "print(a)\n",
    "\n",
    "# a[1],a[100] = a[100],a[1]"
   ]
  },
  {
   "cell_type": "markdown",
   "metadata": {},
   "source": [
    "# 排序\n",
    "- 我感觉这个人讲的挺好的\n",
    "- https://www.cnblogs.com/ahalei/p/3568434.html\n",
    "- https://www.cnblogs.com/pythonbao/p/10768593.html#_lab2_0_0\n",
    "- 快速排序如果一定要从右边开始"
   ]
  },
  {
   "cell_type": "code",
   "execution_count": 42,
   "metadata": {},
   "outputs": [
    {
     "name": "stdout",
     "output_type": "stream",
     "text": [
      "[41, 66, 75, 99, 81, 56, 59, 35, 32, 46, 82, 20, 55, 61, 31, 1, 73, 34, 70, 29, 18, 13, 19, 98, 90, 74, 86, 42, 51, 71, 22, 83, 76, 47, 48, 12, 39, 97, 88, 28, 4, 33, 60, 91, 72, 84, 65, 11, 43, 64, 87, 67, 92, 40, 52, 89, 62, 79, 80, 9, 93, 44, 5, 85, 2, 6, 10, 16, 3, 15, 57, 26, 25, 14, 95, 36, 45, 30, 69, 24, 53, 78, 49, 94, 96, 27, 23, 38, 0, 63, 68, 8, 54, 7, 21, 37, 58, 77, 17, 50]\n",
      "[0, 1, 2, 3, 4, 5, 6, 7, 8, 9, 10, 11, 12, 13, 14, 15, 16, 17, 18, 19, 20, 21, 22, 23, 24, 25, 26, 27, 28, 29, 30, 31, 32, 33, 34, 35, 36, 37, 38, 39, 40, 41, 42, 43, 44, 45, 46, 47, 48, 49, 50, 51, 52, 53, 54, 55, 56, 57, 58, 59, 60, 61, 62, 63, 64, 65, 66, 67, 68, 69, 70, 71, 72, 73, 74, 75, 76, 77, 78, 79, 80, 81, 82, 83, 84, 85, 86, 87, 88, 89, 90, 91, 92, 93, 94, 95, 96, 97, 98, 99]\n"
     ]
    }
   ],
   "source": [
    "# 归并排序\n",
    "def sort(data):\n",
    "    if len(data) < 2:\n",
    "        return data\n",
    "    left = []\n",
    "    right = []\n",
    "    mid = data[len(data) // 2]\n",
    "    \n",
    "    data.remove(mid)\n",
    "    for i in data:\n",
    "        if i >= mid:\n",
    "            right.append(i)\n",
    "\n",
    "        else:\n",
    "            left.append(i)\n",
    "    \n",
    "    return sort(left) + [mid] + sort(right)\n",
    "\n",
    "\n",
    "b = list(range(100))\n",
    "random.shuffle(b)\n",
    "\n",
    "print(b)\n",
    "\n",
    "c = sort(b)\n",
    "print(c)"
   ]
  },
  {
   "cell_type": "code",
   "execution_count": 69,
   "metadata": {},
   "outputs": [
    {
     "name": "stdout",
     "output_type": "stream",
     "text": [
      "[12, 50, 80, 54, 93, 65, 33, 20, 96, 47, 9, 73, 84, 68, 90, 16, 34, 49, 35, 60, 44, 43, 23, 97, 4, 99, 28, 56, 71, 7, 95, 81, 82, 61, 14, 91, 52, 5, 8, 83, 2, 42, 74, 85, 79, 98, 36, 78, 88, 22, 94, 3, 17, 86, 41, 58, 13, 89, 19, 57, 72, 69, 59, 53, 70, 0, 27, 10, 76, 39, 48, 11, 15, 92, 31, 75, 51, 67, 77, 87, 1, 6, 46, 38, 29, 45, 37, 63, 25, 21, 26, 62, 40, 66, 64, 55, 18, 32, 30, 24]\n",
      "[0, 1, 2, 3, 4, 5, 6, 7, 8, 9, 10, 11, 12, 13, 14, 15, 16, 17, 18, 19, 20, 21, 22, 23, 24, 25, 26, 27, 28, 29, 30, 31, 32, 33, 34, 35, 36, 37, 38, 39, 40, 41, 42, 43, 44, 45, 46, 47, 48, 49, 50, 51, 52, 53, 54, 55, 56, 57, 58, 59, 60, 61, 62, 63, 64, 65, 66, 67, 68, 69, 70, 71, 72, 73, 74, 75, 76, 77, 78, 79, 80, 81, 82, 83, 84, 85, 86, 87, 88, 89, 90, 91, 92, 93, 94, 95, 96, 97, 98, 99]\n"
     ]
    }
   ],
   "source": [
    "# 快速排序\n",
    "def sorts(left,right):\n",
    "    if left > right:\n",
    "        return\n",
    "    mid = data[left]\n",
    "    \n",
    "    i = left\n",
    "    j = right\n",
    "    while i < j:\n",
    "        while data[j] >= mid and i<j: #找不到 就-- 向左移\n",
    "            j = j-1\n",
    "        while data[i] <= mid and i<j: #找不到就++ 向右移\n",
    "            i = i+1\n",
    "        if i<j:\n",
    "            data[i],data[j] = data[j],data[i]\n",
    "            \n",
    "    data[left] = data[i]\n",
    "    data[i] = mid\n",
    "    \n",
    "    sorts(left,i-1)\n",
    "    sorts(i+1,right)\n",
    "\n",
    "data = list(range(100))\n",
    "random.shuffle(data)\n",
    "print(data)\n",
    "# print(len(data))\n",
    "sorts(0,99)\n",
    "\n",
    "print(data)\n"
   ]
  },
  {
   "cell_type": "code",
   "execution_count": 66,
   "metadata": {},
   "outputs": [
    {
     "name": "stdout",
     "output_type": "stream",
     "text": [
      "[1, 2, 4, 5, 6, 7, 9, 11]\n"
     ]
    }
   ],
   "source": [
    "def quick_sort(L):\n",
    "    return q_sort(L, 0, len(L) - 1)\n",
    "\n",
    "def q_sort(L, left, right):\n",
    "    if left < right:\n",
    "        pivot = Partition(L, left, right)\n",
    "\n",
    "        q_sort(L, left, pivot - 1)\n",
    "        q_sort(L, pivot + 1, right)\n",
    "    return L\n",
    "\n",
    "def Partition(L, left, right):\n",
    "    pivotkey = L[left]\n",
    "\n",
    "    while left < right:\n",
    "        while left < right and L[right] >= pivotkey:\n",
    "            right -= 1\n",
    "        L[left] = L[right]\n",
    "        while left < right and L[left] <= pivotkey:\n",
    "            left += 1\n",
    "        L[right] = L[left]\n",
    "\n",
    "    L[left] = pivotkey\n",
    "    return left\n",
    "\n",
    "L = [5, 9, 1, 11, 6, 7, 2, 4]\n",
    "\n",
    "print(quick_sort(L))"
   ]
  },
  {
   "cell_type": "code",
   "execution_count": null,
   "metadata": {},
   "outputs": [],
   "source": []
  }
 ],
 "metadata": {
  "kernelspec": {
   "display_name": "Python 3",
   "language": "python",
   "name": "python3"
  },
  "language_info": {
   "codemirror_mode": {
    "name": "ipython",
    "version": 3
   },
   "file_extension": ".py",
   "mimetype": "text/x-python",
   "name": "python",
   "nbconvert_exporter": "python",
   "pygments_lexer": "ipython3",
   "version": "3.7.6"
  }
 },
 "nbformat": 4,
 "nbformat_minor": 4
}
