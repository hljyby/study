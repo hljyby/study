{
 "cells": [
  {
   "cell_type": "code",
   "execution_count": 1,
   "metadata": {},
   "outputs": [
    {
     "name": "stdout",
     "output_type": "stream",
     "text": [
      "HTTP/1.1 302 Found\r\n",
      "Server: Tengine\r\n",
      "Date: Sun, 27 Sep 2020 08:35:50 GMT\r\n",
      "Content-Type: text/html\r\n",
      "Content-Length: 258\r\n",
      "Connection: close\r\n",
      "Location: https://www.sina.com.cn/\r\n",
      "X-DSL-CHECK: 5\r\n",
      "X-Via-CDN: f=alicdn,s=cache7.cn2898,c=218.9.159.206;\r\n",
      "Via: cache7.cn2898[,0]\r\n",
      "Timing-Allow-Origin: *\r\n",
      "EagleId: 01bd2c9b16011957509296538e\n"
     ]
    }
   ],
   "source": [
    "# 导入socket库:\n",
    "import socket\n",
    "\n",
    "# 创建一个socket:\n",
    "s = socket.socket(socket.AF_INET, socket.SOCK_STREAM)\n",
    "# 建立连接:\n",
    "s.connect(('www.sina.com.cn', 80))\n",
    "\n",
    "# 发送数据:\n",
    "s.send(b'GET / HTTP/1.1\\r\\nHost: www.sina.com.cn\\r\\nConnection: close\\r\\n\\r\\n')\n",
    "\n",
    "\n",
    "# 接收数据:\n",
    "buffer = []\n",
    "while True:\n",
    "    # 每次最多接收1k字节:\n",
    "    d = s.recv(1024)\n",
    "    if d:\n",
    "        buffer.append(d)\n",
    "    else:\n",
    "        break\n",
    "data = b''.join(buffer)\n",
    "\n",
    "\n",
    "# 关闭连接:\n",
    "s.close()\n",
    "\n",
    "\n",
    "header, html = data.split(b'\\r\\n\\r\\n', 1)\n",
    "print(header.decode('utf-8'))\n",
    "# 把接收的数据写入文件:\n",
    "with open('sina.html', 'wb') as f:\n",
    "    f.write(html)"
   ]
  },
  {
   "cell_type": "code",
   "execution_count": null,
   "metadata": {},
   "outputs": [
    {
     "name": "stdout",
     "output_type": "stream",
     "text": [
      "Waiting for connection...\n"
     ]
    }
   ],
   "source": [
    "import socket\n",
    "\n",
    "s = socket.socket(socket.AF_INET, socket.SOCK_STREAM)\n",
    "# 监听端口:\n",
    "s.bind(('127.0.0.1', 9999))\n",
    "s.listen(5)\n",
    "print('Waiting for connection...')\n",
    "\n",
    "while True:\n",
    "    # 接受一个新连接:\n",
    "    sock, addr = s.accept()\n",
    "    # 创建新线程来处理TCP连接:\n",
    "    t = threading.Thread(target=tcplink, args=(sock, addr))\n",
    "    t.start()\n",
    "\n",
    "def tcplink(sock, addr):\n",
    "    print('Accept new connection from %s:%s...' % addr)\n",
    "    sock.send(b'Welcome!')\n",
    "    while True:\n",
    "        data = sock.recv(1024)\n",
    "        time.sleep(1)\n",
    "        if not data or data.decode('utf-8') == 'exit':\n",
    "            break\n",
    "        sock.send(('Hello, %s!' % data.decode('utf-8')).encode('utf-8'))\n",
    "    sock.close()\n",
    "    print('Connection from %s:%s closed.' % addr)"
   ]
  },
  {
   "cell_type": "code",
   "execution_count": null,
   "metadata": {},
   "outputs": [],
   "source": [
    "s = socket.socket(socket.AF_INET, socket.SOCK_STREAM)\n",
    "# 建立连接:\n",
    "s.connect(('127.0.0.1', 9999))\n",
    "# 接收欢迎消息:\n",
    "print(s.recv(1024).decode('utf-8'))\n",
    "for data in [b'Michael', b'Tracy', b'Sarah']:\n",
    "    # 发送数据:\n",
    "    s.send(data)\n",
    "    print(s.recv(1024).decode('utf-8'))\n",
    "s.send(b'exit')\n",
    "s.close()"
   ]
  },
  {
   "cell_type": "code",
   "execution_count": null,
   "metadata": {},
   "outputs": [],
   "source": []
  }
 ],
 "metadata": {
  "kernelspec": {
   "display_name": "Python 3",
   "language": "python",
   "name": "python3"
  },
  "language_info": {
   "codemirror_mode": {
    "name": "ipython",
    "version": 3
   },
   "file_extension": ".py",
   "mimetype": "text/x-python",
   "name": "python",
   "nbconvert_exporter": "python",
   "pygments_lexer": "ipython3",
   "version": "3.7.6"
  }
 },
 "nbformat": 4,
 "nbformat_minor": 4
}
