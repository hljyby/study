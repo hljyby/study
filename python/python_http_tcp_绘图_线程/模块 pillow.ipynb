{
 "cells": [
  {
   "cell_type": "code",
   "execution_count": 4,
   "metadata": {},
   "outputs": [
    {
     "name": "stdout",
     "output_type": "stream",
     "text": [
      "Original image size: 963x1123\n",
      "Resize image to: 481x561\n"
     ]
    }
   ],
   "source": [
    "from PIL import Image, ImageFilter\n",
    "# 打开一个jpg图像文件，注意是当前路径:\n",
    "im = Image.open('zhang.jpg')\n",
    "# 获得图像尺寸:\n",
    "w, h = im.size\n",
    "print('Original image size: %sx%s' % (w, h))\n",
    "# 缩放到50%:\n",
    "im.thumbnail((w//2, h//2))\n",
    "print('Resize image to: %sx%s' % (w//2, h//2))\n",
    "# 把缩放后的图像用jpeg格式保存:\n",
    "\n",
    "im2 = im.filter(ImageFilter.BLUR)\n",
    "\n",
    "im2.save('blur.jpg', 'jpeg')\n",
    "im.save('thumbnail.jpg', 'jpeg')"
   ]
  },
  {
   "cell_type": "code",
   "execution_count": 9,
   "metadata": {},
   "outputs": [],
   "source": [
    "from PIL import Image, ImageDraw, ImageFont, ImageFilter\n",
    "\n",
    "import random\n",
    "\n",
    "# 随机字母:\n",
    "def rndChar():\n",
    "    return chr(random.randint(65, 90))\n",
    "\n",
    "\n",
    "# 随机颜色1:\n",
    "def rndColor():\n",
    "    return (random.randint(64, 255), random.randint(64, 255), random.randint(64, 255))\n",
    "\n",
    "# 随机颜色2:\n",
    "def rndColor2():\n",
    "    return (random.randint(32, 127), random.randint(32, 127), random.randint(32, 127))\n",
    "\n",
    "# 240 x 60:\n",
    "width = 60 * 4\n",
    "height = 60\n",
    "image = Image.new('RGB', (width, height), (255, 255, 255))\n",
    "# 创建Font对象:\n",
    "font = ImageFont.truetype('Arial.ttf', 36)\n",
    "# 创建Draw对象:\n",
    "draw = ImageDraw.Draw(image)\n",
    "# 填充每个像素:\n",
    "for x in range(width):\n",
    "    for y in range(height):\n",
    "        draw.point((x, y), fill=rndColor())\n",
    "# 输出文字:\n",
    "for t in range(4):\n",
    "    draw.text((60 * t + 10, 10), rndChar(), font=font, fill=rndColor2())\n",
    "# 模糊:\n",
    "image = image.filter(ImageFilter.BLUR)\n",
    "image.save('code.jpg', 'jpeg')"
   ]
  },
  {
   "cell_type": "code",
   "execution_count": 19,
   "metadata": {},
   "outputs": [
    {
     "name": "stdout",
     "output_type": "stream",
     "text": [
      "[1, 2, 3, 'app']\n",
      "[]\n"
     ]
    }
   ],
   "source": [
    "old = [1,2,3,'app','bdd']\n",
    "new = []\n",
    "def remove(olds,news):\n",
    "    news = olds\n",
    "    olds.pop()\n",
    "    olds = [1,2,3,'app','bdd','zddd']\n",
    "    return news\n",
    "\n",
    "remove(old,new)\n",
    "print(old)\n",
    "print(new)"
   ]
  },
  {
   "cell_type": "code",
   "execution_count": null,
   "metadata": {},
   "outputs": [],
   "source": []
  }
 ],
 "metadata": {
  "kernelspec": {
   "display_name": "Python 3",
   "language": "python",
   "name": "python3"
  },
  "language_info": {
   "codemirror_mode": {
    "name": "ipython",
    "version": 3
   },
   "file_extension": ".py",
   "mimetype": "text/x-python",
   "name": "python",
   "nbconvert_exporter": "python",
   "pygments_lexer": "ipython3",
   "version": "3.7.6"
  }
 },
 "nbformat": 4,
 "nbformat_minor": 4
}
