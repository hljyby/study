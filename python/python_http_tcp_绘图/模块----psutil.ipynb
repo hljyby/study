{
 "cells": [
  {
   "cell_type": "code",
   "execution_count": 1,
   "metadata": {},
   "outputs": [
    {
     "data": {
      "text/plain": [
       "4"
      ]
     },
     "execution_count": 1,
     "metadata": {},
     "output_type": "execute_result"
    }
   ],
   "source": [
    "import psutil\n",
    "psutil.cpu_count() # CPU逻辑数量"
   ]
  },
  {
   "cell_type": "code",
   "execution_count": 2,
   "metadata": {},
   "outputs": [
    {
     "data": {
      "text/plain": [
       "2"
      ]
     },
     "execution_count": 2,
     "metadata": {},
     "output_type": "execute_result"
    }
   ],
   "source": [
    " psutil.cpu_count(logical=False) # CPU物理核心"
   ]
  },
  {
   "cell_type": "code",
   "execution_count": 3,
   "metadata": {},
   "outputs": [
    {
     "data": {
      "text/plain": [
       "scputimes(user=7280.296875, system=5785.078125, idle=167780.671875, interrupt=261.875, dpc=99.375)"
      ]
     },
     "execution_count": 3,
     "metadata": {},
     "output_type": "execute_result"
    }
   ],
   "source": [
    "psutil.cpu_times()"
   ]
  },
  {
   "cell_type": "code",
   "execution_count": 4,
   "metadata": {},
   "outputs": [
    {
     "name": "stdout",
     "output_type": "stream",
     "text": [
      "[4.7, 3.1, 3.1, 3.1]\n",
      "[10.8, 6.2, 12.1, 7.7]\n",
      "[4.7, 1.6, 7.8, 3.1]\n",
      "[4.7, 3.1, 3.1, 9.4]\n",
      "[1.6, 6.2, 6.2, 6.2]\n",
      "[6.2, 3.1, 7.8, 3.1]\n",
      "[3.1, 0.0, 3.1, 0.0]\n",
      "[4.7, 1.6, 6.2, 6.2]\n",
      "[0.0, 3.1, 1.6, 3.1]\n",
      "[3.1, 0.0, 1.5, 3.1]\n"
     ]
    }
   ],
   "source": [
    "for x in range(10):\n",
    "...     print(psutil.cpu_percent(interval=1, percpu=True))"
   ]
  },
  {
   "cell_type": "code",
   "execution_count": 8,
   "metadata": {},
   "outputs": [
    {
     "data": {
      "text/plain": [
       "svmem(total=8491282432, available=4955254784, percent=41.6, used=3536027648, free=4955254784)"
      ]
     },
     "execution_count": 8,
     "metadata": {},
     "output_type": "execute_result"
    }
   ],
   "source": [
    "psutil.virtual_memory()\n"
   ]
  },
  {
   "cell_type": "code",
   "execution_count": 7,
   "metadata": {},
   "outputs": [
    {
     "data": {
      "text/plain": [
       "sswap(total=9833459712, used=4851785728, free=4981673984, percent=49.3, sin=0, sout=0)"
      ]
     },
     "execution_count": 7,
     "metadata": {},
     "output_type": "execute_result"
    }
   ],
   "source": [
    "psutil.swap_memory()"
   ]
  },
  {
   "cell_type": "code",
   "execution_count": 9,
   "metadata": {},
   "outputs": [
    {
     "data": {
      "text/plain": [
       "[sdiskpart(device='C:\\\\', mountpoint='C:\\\\', fstype='NTFS', opts='rw,fixed'),\n",
       " sdiskpart(device='D:\\\\', mountpoint='D:\\\\', fstype='NTFS', opts='rw,fixed'),\n",
       " sdiskpart(device='E:\\\\', mountpoint='E:\\\\', fstype='NTFS', opts='rw,fixed'),\n",
       " sdiskpart(device='G:\\\\', mountpoint='G:\\\\', fstype='NTFS', opts='rw,fixed'),\n",
       " sdiskpart(device='I:\\\\', mountpoint='I:\\\\', fstype='', opts='cdrom')]"
      ]
     },
     "execution_count": 9,
     "metadata": {},
     "output_type": "execute_result"
    }
   ],
   "source": [
    "psutil.disk_partitions() # 磁盘分区信息"
   ]
  },
  {
   "cell_type": "code",
   "execution_count": 10,
   "metadata": {},
   "outputs": [
    {
     "data": {
      "text/plain": [
       "sdiskusage(total=139761545216, used=82857373696, free=56904171520, percent=59.3)"
      ]
     },
     "execution_count": 10,
     "metadata": {},
     "output_type": "execute_result"
    }
   ],
   "source": [
    " psutil.disk_usage('/') # 磁盘使用情况"
   ]
  },
  {
   "cell_type": "code",
   "execution_count": 11,
   "metadata": {},
   "outputs": [
    {
     "data": {
      "text/plain": [
       "sdiskio(read_count=497038, write_count=248568, read_bytes=40331184128, write_bytes=25083378176, read_time=190122, write_time=467860)"
      ]
     },
     "execution_count": 11,
     "metadata": {},
     "output_type": "execute_result"
    }
   ],
   "source": [
    " psutil.disk_io_counters() # 磁盘IO"
   ]
  },
  {
   "cell_type": "code",
   "execution_count": 12,
   "metadata": {},
   "outputs": [
    {
     "data": {
      "text/plain": [
       "snetio(bytes_sent=18262933, bytes_recv=282684577, packets_sent=138847, packets_recv=237298, errin=0, errout=0, dropin=0, dropout=0)"
      ]
     },
     "execution_count": 12,
     "metadata": {},
     "output_type": "execute_result"
    }
   ],
   "source": [
    "psutil.net_io_counters() # 获取网络读写字节／包的个数"
   ]
  },
  {
   "cell_type": "code",
   "execution_count": 13,
   "metadata": {},
   "outputs": [
    {
     "data": {
      "text/plain": [
       "{'以太网': [snicaddr(family=<AddressFamily.AF_LINK: -1>, address='54-EE-75-48-E0-C6', netmask=None, broadcast=None, ptp=None),\n",
       "  snicaddr(family=<AddressFamily.AF_INET: 2>, address='169.254.164.75', netmask='255.255.0.0', broadcast=None, ptp=None),\n",
       "  snicaddr(family=<AddressFamily.AF_INET6: 23>, address='fe80::e450:af9b:917c:a44b', netmask=None, broadcast=None, ptp=None)],\n",
       " '本地连接* 2': [snicaddr(family=<AddressFamily.AF_LINK: -1>, address='F4-06-69-75-13-B9', netmask=None, broadcast=None, ptp=None),\n",
       "  snicaddr(family=<AddressFamily.AF_INET: 2>, address='169.254.102.97', netmask='255.255.0.0', broadcast=None, ptp=None),\n",
       "  snicaddr(family=<AddressFamily.AF_INET6: 23>, address='fe80::5498:a6f9:2424:6661', netmask=None, broadcast=None, ptp=None)],\n",
       " '本地连接* 4': [snicaddr(family=<AddressFamily.AF_LINK: -1>, address='F6-06-69-75-13-B8', netmask=None, broadcast=None, ptp=None),\n",
       "  snicaddr(family=<AddressFamily.AF_INET: 2>, address='169.254.129.17', netmask='255.255.0.0', broadcast=None, ptp=None),\n",
       "  snicaddr(family=<AddressFamily.AF_INET6: 23>, address='fe80::29c3:a510:5b8d:8111', netmask=None, broadcast=None, ptp=None)],\n",
       " 'WLAN': [snicaddr(family=<AddressFamily.AF_LINK: -1>, address='F4-06-69-75-13-B8', netmask=None, broadcast=None, ptp=None),\n",
       "  snicaddr(family=<AddressFamily.AF_INET: 2>, address='192.168.0.110', netmask='255.255.255.0', broadcast=None, ptp=None),\n",
       "  snicaddr(family=<AddressFamily.AF_INET6: 23>, address='fe80::c851:b996:cd41:34b6', netmask=None, broadcast=None, ptp=None)],\n",
       " '以太网 2': [snicaddr(family=<AddressFamily.AF_LINK: -1>, address='00-FF-44-75-6D-56', netmask=None, broadcast=None, ptp=None),\n",
       "  snicaddr(family=<AddressFamily.AF_INET: 2>, address='169.254.204.140', netmask='255.255.0.0', broadcast=None, ptp=None),\n",
       "  snicaddr(family=<AddressFamily.AF_INET6: 23>, address='fe80::57:9ab1:ffb6:cc8c', netmask=None, broadcast=None, ptp=None)],\n",
       " 'VMware Network Adapter VMnet1': [snicaddr(family=<AddressFamily.AF_LINK: -1>, address='00-50-56-C0-00-01', netmask=None, broadcast=None, ptp=None),\n",
       "  snicaddr(family=<AddressFamily.AF_INET: 2>, address='169.254.136.33', netmask='255.255.0.0', broadcast=None, ptp=None),\n",
       "  snicaddr(family=<AddressFamily.AF_INET6: 23>, address='fe80::509:1f2:9192:8821', netmask=None, broadcast=None, ptp=None)],\n",
       " 'VMware Network Adapter VMnet8': [snicaddr(family=<AddressFamily.AF_LINK: -1>, address='00-50-56-C0-00-08', netmask=None, broadcast=None, ptp=None),\n",
       "  snicaddr(family=<AddressFamily.AF_INET: 2>, address='192.168.19.2', netmask='255.255.255.0', broadcast=None, ptp=None),\n",
       "  snicaddr(family=<AddressFamily.AF_INET6: 23>, address='fe80::3529:c9ed:4716:db39', netmask=None, broadcast=None, ptp=None)],\n",
       " '蓝牙网络连接': [snicaddr(family=<AddressFamily.AF_LINK: -1>, address='F4-06-69-75-13-BC', netmask=None, broadcast=None, ptp=None),\n",
       "  snicaddr(family=<AddressFamily.AF_INET: 2>, address='169.254.151.114', netmask='255.255.0.0', broadcast=None, ptp=None),\n",
       "  snicaddr(family=<AddressFamily.AF_INET6: 23>, address='fe80::d92e:1b31:5a20:9772', netmask=None, broadcast=None, ptp=None)],\n",
       " 'isatap.{3660C2FC-64AE-447C-91F4-350DCB6493B7}': [snicaddr(family=<AddressFamily.AF_LINK: -1>, address='00-00-00-00-00-00-00-E0', netmask=None, broadcast=None, ptp=None),\n",
       "  snicaddr(family=<AddressFamily.AF_INET6: 23>, address='fe80::5efe:169.254.136.33', netmask=None, broadcast=None, ptp=None)],\n",
       " '本地连接* 5': [snicaddr(family=<AddressFamily.AF_LINK: -1>, address='00-00-00-00-00-00-00-E0', netmask=None, broadcast=None, ptp=None),\n",
       "  snicaddr(family=<AddressFamily.AF_INET6: 23>, address='2001:0:348b:fb58:10b6:f494:2336:27d5', netmask=None, broadcast=None, ptp=None),\n",
       "  snicaddr(family=<AddressFamily.AF_INET6: 23>, address='fe80::10b6:f494:2336:27d5', netmask=None, broadcast=None, ptp=None)],\n",
       " 'isatap.{A2DB1613-4E2B-4B6B-A335-9B1A9C65360C}': [snicaddr(family=<AddressFamily.AF_LINK: -1>, address='00-00-00-00-00-00-00-E0', netmask=None, broadcast=None, ptp=None),\n",
       "  snicaddr(family=<AddressFamily.AF_INET6: 23>, address='fe80::5efe:192.168.19.2', netmask=None, broadcast=None, ptp=None)],\n",
       " 'isatap.www.tendawifi.com': [snicaddr(family=<AddressFamily.AF_LINK: -1>, address='00-00-00-00-00-00-00-E0', netmask=None, broadcast=None, ptp=None),\n",
       "  snicaddr(family=<AddressFamily.AF_INET6: 23>, address='fe80::5efe:192.168.0.110', netmask=None, broadcast=None, ptp=None)],\n",
       " 'Loopback Pseudo-Interface 1': [snicaddr(family=<AddressFamily.AF_INET: 2>, address='127.0.0.1', netmask='255.0.0.0', broadcast=None, ptp=None),\n",
       "  snicaddr(family=<AddressFamily.AF_INET6: 23>, address='::1', netmask=None, broadcast=None, ptp=None)]}"
      ]
     },
     "execution_count": 13,
     "metadata": {},
     "output_type": "execute_result"
    }
   ],
   "source": [
    "psutil.net_if_addrs() # 获取网络接口信息"
   ]
  },
  {
   "cell_type": "code",
   "execution_count": 14,
   "metadata": {},
   "outputs": [
    {
     "data": {
      "text/plain": [
       "{'以太网': snicstats(isup=False, duplex=<NicDuplex.NIC_DUPLEX_FULL: 2>, speed=0, mtu=1500),\n",
       " '蓝牙网络连接': snicstats(isup=False, duplex=<NicDuplex.NIC_DUPLEX_FULL: 2>, speed=3, mtu=1500),\n",
       " '以太网 2': snicstats(isup=False, duplex=<NicDuplex.NIC_DUPLEX_FULL: 2>, speed=100, mtu=1500),\n",
       " 'VMware Network Adapter VMnet1': snicstats(isup=True, duplex=<NicDuplex.NIC_DUPLEX_FULL: 2>, speed=100, mtu=1500),\n",
       " 'VMware Network Adapter VMnet8': snicstats(isup=True, duplex=<NicDuplex.NIC_DUPLEX_FULL: 2>, speed=100, mtu=1500),\n",
       " 'Loopback Pseudo-Interface 1': snicstats(isup=True, duplex=<NicDuplex.NIC_DUPLEX_FULL: 2>, speed=1073, mtu=1500),\n",
       " 'WLAN': snicstats(isup=True, duplex=<NicDuplex.NIC_DUPLEX_FULL: 2>, speed=433, mtu=1500),\n",
       " '本地连接* 2': snicstats(isup=False, duplex=<NicDuplex.NIC_DUPLEX_FULL: 2>, speed=0, mtu=1500),\n",
       " '本地连接* 4': snicstats(isup=False, duplex=<NicDuplex.NIC_DUPLEX_FULL: 2>, speed=0, mtu=1500),\n",
       " 'isatap.{3660C2FC-64AE-447C-91F4-350DCB6493B7}': snicstats(isup=False, duplex=<NicDuplex.NIC_DUPLEX_FULL: 2>, speed=0, mtu=1280),\n",
       " '本地连接* 5': snicstats(isup=True, duplex=<NicDuplex.NIC_DUPLEX_FULL: 2>, speed=0, mtu=1472),\n",
       " 'isatap.{A2DB1613-4E2B-4B6B-A335-9B1A9C65360C}': snicstats(isup=False, duplex=<NicDuplex.NIC_DUPLEX_FULL: 2>, speed=0, mtu=1280),\n",
       " 'isatap.www.tendawifi.com': snicstats(isup=False, duplex=<NicDuplex.NIC_DUPLEX_FULL: 2>, speed=0, mtu=1280)}"
      ]
     },
     "execution_count": 14,
     "metadata": {},
     "output_type": "execute_result"
    }
   ],
   "source": [
    " psutil.net_if_stats() # 获取网络接口状态"
   ]
  },
  {
   "cell_type": "code",
   "execution_count": 15,
   "metadata": {},
   "outputs": [
    {
     "data": {
      "text/plain": [
       "[sconn(fd=-1, family=<AddressFamily.AF_INET: 2>, type=<SocketKind.SOCK_STREAM: 1>, laddr=addr(ip='127.0.0.1', port=14062), raddr=(), status='LISTEN', pid=9100),\n",
       " sconn(fd=-1, family=<AddressFamily.AF_INET: 2>, type=<SocketKind.SOCK_STREAM: 1>, laddr=addr(ip='127.0.0.1', port=14026), raddr=addr(ip='127.0.0.1', port=14082), status='ESTABLISHED', pid=9100),\n",
       " sconn(fd=-1, family=<AddressFamily.AF_INET: 2>, type=<SocketKind.SOCK_STREAM: 1>, laddr=addr(ip='127.0.0.1', port=8549), raddr=addr(ip='127.0.0.1', port=8548), status='ESTABLISHED', pid=7268),\n",
       " sconn(fd=-1, family=<AddressFamily.AF_INET: 2>, type=<SocketKind.SOCK_STREAM: 1>, laddr=addr(ip='192.168.19.2', port=139), raddr=(), status='LISTEN', pid=4),\n",
       " sconn(fd=-1, family=<AddressFamily.AF_INET: 2>, type=<SocketKind.SOCK_STREAM: 1>, laddr=addr(ip='127.0.0.1', port=8554), raddr=(), status='LISTEN', pid=7268),\n",
       " sconn(fd=-1, family=<AddressFamily.AF_INET: 2>, type=<SocketKind.SOCK_STREAM: 1>, laddr=addr(ip='127.0.0.1', port=8889), raddr=(), status='LISTEN', pid=4752),\n",
       " sconn(fd=-1, family=<AddressFamily.AF_INET6: 23>, type=<SocketKind.SOCK_STREAM: 1>, laddr=addr(ip='::1', port=8530), raddr=addr(ip='::1', port=8889), status='ESTABLISHED', pid=8220),\n",
       " sconn(fd=-1, family=<AddressFamily.AF_INET: 2>, type=<SocketKind.SOCK_DGRAM: 2>, laddr=addr(ip='0.0.0.0', port=3389), raddr=(), status='NONE', pid=408),\n",
       " sconn(fd=-1, family=<AddressFamily.AF_INET: 2>, type=<SocketKind.SOCK_STREAM: 1>, laddr=addr(ip='127.0.0.1', port=8578), raddr=addr(ip='127.0.0.1', port=8579), status='ESTABLISHED', pid=4752),\n",
       " sconn(fd=-1, family=<AddressFamily.AF_INET: 2>, type=<SocketKind.SOCK_DGRAM: 2>, laddr=addr(ip='192.168.0.110', port=2177), raddr=(), status='NONE', pid=1164),\n",
       " sconn(fd=-1, family=<AddressFamily.AF_INET6: 23>, type=<SocketKind.SOCK_STREAM: 1>, laddr=addr(ip='::1', port=8454), raddr=addr(ip='::1', port=8889), status='ESTABLISHED', pid=8220),\n",
       " sconn(fd=-1, family=<AddressFamily.AF_INET: 2>, type=<SocketKind.SOCK_STREAM: 1>, laddr=addr(ip='127.0.0.1', port=8538), raddr=addr(ip='127.0.0.1', port=8539), status='ESTABLISHED', pid=7268),\n",
       " sconn(fd=-1, family=<AddressFamily.AF_INET: 2>, type=<SocketKind.SOCK_STREAM: 1>, laddr=addr(ip='192.168.0.110', port=139), raddr=(), status='LISTEN', pid=4),\n",
       " sconn(fd=-1, family=<AddressFamily.AF_INET6: 23>, type=<SocketKind.SOCK_STREAM: 1>, laddr=addr(ip='::', port=135), raddr=(), status='LISTEN', pid=912),\n",
       " sconn(fd=-1, family=<AddressFamily.AF_INET6: 23>, type=<SocketKind.SOCK_STREAM: 1>, laddr=addr(ip='::', port=8091), raddr=(), status='LISTEN', pid=4),\n",
       " sconn(fd=-1, family=<AddressFamily.AF_INET: 2>, type=<SocketKind.SOCK_STREAM: 1>, laddr=addr(ip='127.0.0.1', port=14071), raddr=addr(ip='127.0.0.1', port=14072), status='ESTABLISHED', pid=9100),\n",
       " sconn(fd=-1, family=<AddressFamily.AF_INET: 2>, type=<SocketKind.SOCK_STREAM: 1>, laddr=addr(ip='127.0.0.1', port=8544), raddr=addr(ip='127.0.0.1', port=8545), status='ESTABLISHED', pid=7268),\n",
       " sconn(fd=-1, family=<AddressFamily.AF_INET6: 23>, type=<SocketKind.SOCK_DGRAM: 2>, laddr=addr(ip='fe80::c851:b996:cd41:34b6', port=2177), raddr=(), status='NONE', pid=1164),\n",
       " sconn(fd=-1, family=<AddressFamily.AF_INET: 2>, type=<SocketKind.SOCK_STREAM: 1>, laddr=addr(ip='127.0.0.1', port=12881), raddr=addr(ip='127.0.0.1', port=12882), status='ESTABLISHED', pid=3580),\n",
       " sconn(fd=-1, family=<AddressFamily.AF_INET: 2>, type=<SocketKind.SOCK_DGRAM: 2>, laddr=addr(ip='0.0.0.0', port=5353), raddr=(), status='NONE', pid=8220),\n",
       " sconn(fd=-1, family=<AddressFamily.AF_INET: 2>, type=<SocketKind.SOCK_STREAM: 1>, laddr=addr(ip='127.0.0.1', port=12842), raddr=addr(ip='127.0.0.1', port=12843), status='ESTABLISHED', pid=5380),\n",
       " sconn(fd=-1, family=<AddressFamily.AF_INET: 2>, type=<SocketKind.SOCK_STREAM: 1>, laddr=addr(ip='127.0.0.1', port=14047), raddr=addr(ip='127.0.0.1', port=14046), status='ESTABLISHED', pid=9100),\n",
       " sconn(fd=-1, family=<AddressFamily.AF_INET: 2>, type=<SocketKind.SOCK_STREAM: 1>, laddr=addr(ip='127.0.0.1', port=8520), raddr=addr(ip='127.0.0.1', port=8521), status='ESTABLISHED', pid=4752),\n",
       " sconn(fd=-1, family=<AddressFamily.AF_INET: 2>, type=<SocketKind.SOCK_STREAM: 1>, laddr=addr(ip='127.0.0.1', port=8528), raddr=addr(ip='127.0.0.1', port=8527), status='ESTABLISHED', pid=4752),\n",
       " sconn(fd=-1, family=<AddressFamily.AF_INET: 2>, type=<SocketKind.SOCK_STREAM: 1>, laddr=addr(ip='127.0.0.1', port=14034), raddr=addr(ip='127.0.0.1', port=14035), status='ESTABLISHED', pid=4752),\n",
       " sconn(fd=-1, family=<AddressFamily.AF_INET: 2>, type=<SocketKind.SOCK_STREAM: 1>, laddr=addr(ip='127.0.0.1', port=8577), raddr=addr(ip='127.0.0.1', port=8513), status='ESTABLISHED', pid=4752),\n",
       " sconn(fd=-1, family=<AddressFamily.AF_INET: 2>, type=<SocketKind.SOCK_STREAM: 1>, laddr=addr(ip='127.0.0.1', port=1581), raddr=addr(ip='127.0.0.1', port=1580), status='ESTABLISHED', pid=9100),\n",
       " sconn(fd=-1, family=<AddressFamily.AF_INET: 2>, type=<SocketKind.SOCK_STREAM: 1>, laddr=addr(ip='127.0.0.1', port=8540), raddr=addr(ip='127.0.0.1', port=8541), status='ESTABLISHED', pid=7268),\n",
       " sconn(fd=-1, family=<AddressFamily.AF_INET: 2>, type=<SocketKind.SOCK_STREAM: 1>, laddr=addr(ip='127.0.0.1', port=14061), raddr=addr(ip='127.0.0.1', port=14060), status='ESTABLISHED', pid=9100),\n",
       " sconn(fd=-1, family=<AddressFamily.AF_INET6: 23>, type=<SocketKind.SOCK_STREAM: 1>, laddr=addr(ip='::', port=3389), raddr=(), status='LISTEN', pid=408),\n",
       " sconn(fd=-1, family=<AddressFamily.AF_INET: 2>, type=<SocketKind.SOCK_STREAM: 1>, laddr=addr(ip='127.0.0.1', port=14055), raddr=addr(ip='127.0.0.1', port=14054), status='ESTABLISHED', pid=9100),\n",
       " sconn(fd=-1, family=<AddressFamily.AF_INET: 2>, type=<SocketKind.SOCK_STREAM: 1>, laddr=addr(ip='127.0.0.1', port=12688), raddr=addr(ip='127.0.0.1', port=12687), status='ESTABLISHED', pid=5380),\n",
       " sconn(fd=-1, family=<AddressFamily.AF_INET: 2>, type=<SocketKind.SOCK_STREAM: 1>, laddr=addr(ip='192.168.0.110', port=9024), raddr=addr(ip='172.217.160.78', port=443), status='SYN_SENT', pid=8220),\n",
       " sconn(fd=-1, family=<AddressFamily.AF_INET: 2>, type=<SocketKind.SOCK_STREAM: 1>, laddr=addr(ip='127.0.0.1', port=14054), raddr=addr(ip='127.0.0.1', port=14055), status='ESTABLISHED', pid=9100),\n",
       " sconn(fd=-1, family=<AddressFamily.AF_INET: 2>, type=<SocketKind.SOCK_STREAM: 1>, laddr=addr(ip='0.0.0.0', port=3389), raddr=(), status='LISTEN', pid=408),\n",
       " sconn(fd=-1, family=<AddressFamily.AF_INET: 2>, type=<SocketKind.SOCK_STREAM: 1>, laddr=addr(ip='192.168.0.110', port=9027), raddr=addr(ip='172.217.160.78', port=443), status='SYN_SENT', pid=8220),\n",
       " sconn(fd=-1, family=<AddressFamily.AF_INET: 2>, type=<SocketKind.SOCK_STREAM: 1>, laddr=addr(ip='127.0.0.1', port=12892), raddr=addr(ip='127.0.0.1', port=12893), status='ESTABLISHED', pid=5380),\n",
       " sconn(fd=-1, family=<AddressFamily.AF_INET: 2>, type=<SocketKind.SOCK_STREAM: 1>, laddr=addr(ip='127.0.0.1', port=12830), raddr=addr(ip='127.0.0.1', port=12888), status='ESTABLISHED', pid=3580),\n",
       " sconn(fd=-1, family=<AddressFamily.AF_INET: 2>, type=<SocketKind.SOCK_STREAM: 1>, laddr=addr(ip='127.0.0.1', port=14030), raddr=addr(ip='127.0.0.1', port=14031), status='ESTABLISHED', pid=4752),\n",
       " sconn(fd=-1, family=<AddressFamily.AF_INET: 2>, type=<SocketKind.SOCK_STREAM: 1>, laddr=addr(ip='127.0.0.1', port=14039), raddr=addr(ip='127.0.0.1', port=14024), status='ESTABLISHED', pid=4752),\n",
       " sconn(fd=-1, family=<AddressFamily.AF_INET: 2>, type=<SocketKind.SOCK_STREAM: 1>, laddr=addr(ip='127.0.0.1', port=12853), raddr=addr(ip='127.0.0.1', port=12852), status='ESTABLISHED', pid=3580),\n",
       " sconn(fd=-1, family=<AddressFamily.AF_INET6: 23>, type=<SocketKind.SOCK_STREAM: 1>, laddr=addr(ip='::1', port=9029), raddr=addr(ip='::1', port=50053), status='SYN_SENT', pid=7432),\n",
       " sconn(fd=-1, family=<AddressFamily.AF_INET: 2>, type=<SocketKind.SOCK_DGRAM: 2>, laddr=addr(ip='192.168.19.2', port=137), raddr=(), status='NONE', pid=4),\n",
       " sconn(fd=-1, family=<AddressFamily.AF_INET: 2>, type=<SocketKind.SOCK_STREAM: 1>, laddr=addr(ip='127.0.0.1', port=8684), raddr=addr(ip='127.0.0.1', port=8685), status='ESTABLISHED', pid=7268),\n",
       " sconn(fd=-1, family=<AddressFamily.AF_INET: 2>, type=<SocketKind.SOCK_STREAM: 1>, laddr=addr(ip='127.0.0.1', port=12882), raddr=addr(ip='127.0.0.1', port=12881), status='ESTABLISHED', pid=3580),\n",
       " sconn(fd=-1, family=<AddressFamily.AF_INET: 2>, type=<SocketKind.SOCK_STREAM: 1>, laddr=addr(ip='127.0.0.1', port=14058), raddr=addr(ip='127.0.0.1', port=14059), status='ESTABLISHED', pid=9100),\n",
       " sconn(fd=-1, family=<AddressFamily.AF_INET: 2>, type=<SocketKind.SOCK_DGRAM: 2>, laddr=addr(ip='0.0.0.0', port=50836), raddr=(), status='NONE', pid=2284),\n",
       " sconn(fd=-1, family=<AddressFamily.AF_INET: 2>, type=<SocketKind.SOCK_STREAM: 1>, laddr=addr(ip='127.0.0.1', port=14037), raddr=addr(ip='127.0.0.1', port=14038), status='ESTABLISHED', pid=4752),\n",
       " sconn(fd=-1, family=<AddressFamily.AF_INET: 2>, type=<SocketKind.SOCK_STREAM: 1>, laddr=addr(ip='127.0.0.1', port=14064), raddr=addr(ip='127.0.0.1', port=14063), status='ESTABLISHED', pid=9100),\n",
       " sconn(fd=-1, family=<AddressFamily.AF_INET: 2>, type=<SocketKind.SOCK_STREAM: 1>, laddr=addr(ip='127.0.0.1', port=5663), raddr=(), status='LISTEN', pid=7432),\n",
       " sconn(fd=-1, family=<AddressFamily.AF_INET: 2>, type=<SocketKind.SOCK_STREAM: 1>, laddr=addr(ip='127.0.0.1', port=14052), raddr=addr(ip='127.0.0.1', port=14053), status='ESTABLISHED', pid=9100),\n",
       " sconn(fd=-1, family=<AddressFamily.AF_INET: 2>, type=<SocketKind.SOCK_STREAM: 1>, laddr=addr(ip='127.0.0.1', port=1545), raddr=addr(ip='127.0.0.1', port=1546), status='ESTABLISHED', pid=2812),\n",
       " sconn(fd=-1, family=<AddressFamily.AF_INET: 2>, type=<SocketKind.SOCK_STREAM: 1>, laddr=addr(ip='127.0.0.1', port=8513), raddr=addr(ip='127.0.0.1', port=8577), status='ESTABLISHED', pid=7268),\n",
       " sconn(fd=-1, family=<AddressFamily.AF_INET6: 23>, type=<SocketKind.SOCK_STREAM: 1>, laddr=addr(ip='::1', port=8888), raddr=(), status='LISTEN', pid=5380),\n",
       " sconn(fd=-1, family=<AddressFamily.AF_INET: 2>, type=<SocketKind.SOCK_STREAM: 1>, laddr=addr(ip='127.0.0.1', port=8537), raddr=addr(ip='127.0.0.1', port=8536), status='ESTABLISHED', pid=7268),\n",
       " sconn(fd=-1, family=<AddressFamily.AF_INET6: 23>, type=<SocketKind.SOCK_STREAM: 1>, laddr=addr(ip='::', port=1537), raddr=(), status='LISTEN', pid=816),\n",
       " sconn(fd=-1, family=<AddressFamily.AF_INET: 2>, type=<SocketKind.SOCK_STREAM: 1>, laddr=addr(ip='0.0.0.0', port=902), raddr=(), status='LISTEN', pid=2404),\n",
       " sconn(fd=-1, family=<AddressFamily.AF_INET: 2>, type=<SocketKind.SOCK_STREAM: 1>, laddr=addr(ip='127.0.0.1', port=8570), raddr=addr(ip='127.0.0.1', port=8569), status='ESTABLISHED', pid=4752),\n",
       " sconn(fd=-1, family=<AddressFamily.AF_INET: 2>, type=<SocketKind.SOCK_STREAM: 1>, laddr=addr(ip='127.0.0.1', port=12858), raddr=addr(ip='127.0.0.1', port=12859), status='ESTABLISHED', pid=3580),\n",
       " sconn(fd=-1, family=<AddressFamily.AF_INET: 2>, type=<SocketKind.SOCK_STREAM: 1>, laddr=addr(ip='127.0.0.1', port=14048), raddr=addr(ip='127.0.0.1', port=14049), status='ESTABLISHED', pid=9100),\n",
       " sconn(fd=-1, family=<AddressFamily.AF_INET6: 23>, type=<SocketKind.SOCK_DGRAM: 2>, laddr=addr(ip='::', port=5353), raddr=(), status='NONE', pid=8220),\n",
       " sconn(fd=-1, family=<AddressFamily.AF_INET6: 23>, type=<SocketKind.SOCK_STREAM: 1>, laddr=addr(ip='::1', port=7259), raddr=addr(ip='::1', port=8889), status='ESTABLISHED', pid=8220),\n",
       " sconn(fd=-1, family=<AddressFamily.AF_INET6: 23>, type=<SocketKind.SOCK_STREAM: 1>, laddr=addr(ip='::', port=445), raddr=(), status='LISTEN', pid=4),\n",
       " sconn(fd=-1, family=<AddressFamily.AF_INET6: 23>, type=<SocketKind.SOCK_DGRAM: 2>, laddr=addr(ip='::1', port=1900), raddr=(), status='NONE', pid=1164),\n",
       " sconn(fd=-1, family=<AddressFamily.AF_INET: 2>, type=<SocketKind.SOCK_STREAM: 1>, laddr=addr(ip='0.0.0.0', port=1536), raddr=(), status='LISTEN', pid=608),\n",
       " sconn(fd=-1, family=<AddressFamily.AF_INET: 2>, type=<SocketKind.SOCK_STREAM: 1>, laddr=addr(ip='127.0.0.1', port=8553), raddr=addr(ip='127.0.0.1', port=8552), status='ESTABLISHED', pid=7268),\n",
       " sconn(fd=-1, family=<AddressFamily.AF_INET: 2>, type=<SocketKind.SOCK_STREAM: 1>, laddr=addr(ip='127.0.0.1', port=8516), raddr=(), status='LISTEN', pid=7268),\n",
       " sconn(fd=-1, family=<AddressFamily.AF_INET: 2>, type=<SocketKind.SOCK_STREAM: 1>, laddr=addr(ip='127.0.0.1', port=8547), raddr=addr(ip='127.0.0.1', port=8546), status='ESTABLISHED', pid=7268),\n",
       " sconn(fd=-1, family=<AddressFamily.AF_INET: 2>, type=<SocketKind.SOCK_STREAM: 1>, laddr=addr(ip='127.0.0.1', port=8551), raddr=addr(ip='127.0.0.1', port=8550), status='ESTABLISHED', pid=7268),\n",
       " sconn(fd=-1, family=<AddressFamily.AF_INET6: 23>, type=<SocketKind.SOCK_STREAM: 1>, laddr=addr(ip='::1', port=8889), raddr=addr(ip='::1', port=8454), status='ESTABLISHED', pid=4752),\n",
       " sconn(fd=-1, family=<AddressFamily.AF_INET: 2>, type=<SocketKind.SOCK_STREAM: 1>, laddr=addr(ip='127.0.0.1', port=14046), raddr=addr(ip='127.0.0.1', port=14047), status='ESTABLISHED', pid=9100),\n",
       " sconn(fd=-1, family=<AddressFamily.AF_INET: 2>, type=<SocketKind.SOCK_STREAM: 1>, laddr=addr(ip='127.0.0.1', port=14059), raddr=addr(ip='127.0.0.1', port=14058), status='ESTABLISHED', pid=9100),\n",
       " sconn(fd=-1, family=<AddressFamily.AF_INET: 2>, type=<SocketKind.SOCK_STREAM: 1>, laddr=addr(ip='127.0.0.1', port=12871), raddr=addr(ip='127.0.0.1', port=12872), status='ESTABLISHED', pid=3580),\n",
       " sconn(fd=-1, family=<AddressFamily.AF_INET: 2>, type=<SocketKind.SOCK_STREAM: 1>, laddr=addr(ip='127.0.0.1', port=14063), raddr=addr(ip='127.0.0.1', port=14064), status='ESTABLISHED', pid=9100),\n",
       " sconn(fd=-1, family=<AddressFamily.AF_INET: 2>, type=<SocketKind.SOCK_STREAM: 1>, laddr=addr(ip='127.0.0.1', port=14073), raddr=addr(ip='127.0.0.1', port=14074), status='ESTABLISHED', pid=9100),\n",
       " sconn(fd=-1, family=<AddressFamily.AF_INET6: 23>, type=<SocketKind.SOCK_DGRAM: 2>, laddr=addr(ip='fe80::c851:b996:cd41:34b6', port=546), raddr=(), status='NONE', pid=816),\n",
       " sconn(fd=-1, family=<AddressFamily.AF_INET: 2>, type=<SocketKind.SOCK_STREAM: 1>, laddr=addr(ip='127.0.0.1', port=14045), raddr=addr(ip='127.0.0.1', port=14044), status='ESTABLISHED', pid=9100),\n",
       " sconn(fd=-1, family=<AddressFamily.AF_INET6: 23>, type=<SocketKind.SOCK_DGRAM: 2>, laddr=addr(ip='::', port=3389), raddr=(), status='NONE', pid=408),\n",
       " sconn(fd=-1, family=<AddressFamily.AF_INET: 2>, type=<SocketKind.SOCK_STREAM: 1>, laddr=addr(ip='127.0.0.1', port=8548), raddr=addr(ip='127.0.0.1', port=8549), status='ESTABLISHED', pid=7268),\n",
       " sconn(fd=-1, family=<AddressFamily.AF_INET: 2>, type=<SocketKind.SOCK_STREAM: 1>, laddr=addr(ip='127.0.0.1', port=12830), raddr=(), status='LISTEN', pid=3580),\n",
       " sconn(fd=-1, family=<AddressFamily.AF_INET: 2>, type=<SocketKind.SOCK_STREAM: 1>, laddr=addr(ip='127.0.0.1', port=14028), raddr=addr(ip='127.0.0.1', port=14029), status='ESTABLISHED', pid=4752),\n",
       " sconn(fd=-1, family=<AddressFamily.AF_INET: 2>, type=<SocketKind.SOCK_STREAM: 1>, laddr=addr(ip='127.0.0.1', port=14023), raddr=addr(ip='127.0.0.1', port=14079), status='ESTABLISHED', pid=9100),\n",
       " sconn(fd=-1, family=<AddressFamily.AF_INET: 2>, type=<SocketKind.SOCK_STREAM: 1>, laddr=addr(ip='127.0.0.1', port=12840), raddr=addr(ip='127.0.0.1', port=12839), status='ESTABLISHED', pid=5380),\n",
       " sconn(fd=-1, family=<AddressFamily.AF_INET: 2>, type=<SocketKind.SOCK_STREAM: 1>, laddr=addr(ip='127.0.0.1', port=12857), raddr=addr(ip='127.0.0.1', port=12856), status='ESTABLISHED', pid=3580),\n",
       " sconn(fd=-1, family=<AddressFamily.AF_INET: 2>, type=<SocketKind.SOCK_STREAM: 1>, laddr=addr(ip='127.0.0.1', port=12831), raddr=(), status='LISTEN', pid=3580),\n",
       " sconn(fd=-1, family=<AddressFamily.AF_INET: 2>, type=<SocketKind.SOCK_STREAM: 1>, laddr=addr(ip='127.0.0.1', port=8562), raddr=addr(ip='127.0.0.1', port=8561), status='ESTABLISHED', pid=7268),\n",
       " sconn(fd=-1, family=<AddressFamily.AF_INET: 2>, type=<SocketKind.SOCK_STREAM: 1>, laddr=addr(ip='127.0.0.1', port=8546), raddr=addr(ip='127.0.0.1', port=8547), status='ESTABLISHED', pid=7268),\n",
       " sconn(fd=-1, family=<AddressFamily.AF_INET: 2>, type=<SocketKind.SOCK_STREAM: 1>, laddr=addr(ip='0.0.0.0', port=33060), raddr=(), status='LISTEN', pid=2812),\n",
       " sconn(fd=-1, family=<AddressFamily.AF_INET: 2>, type=<SocketKind.SOCK_STREAM: 1>, laddr=addr(ip='127.0.0.1', port=14024), raddr=(), status='LISTEN', pid=9100),\n",
       " sconn(fd=-1, family=<AddressFamily.AF_INET6: 23>, type=<SocketKind.SOCK_STREAM: 1>, laddr=addr(ip='::', port=1540), raddr=(), status='LISTEN', pid=704),\n",
       " sconn(fd=-1, family=<AddressFamily.AF_INET: 2>, type=<SocketKind.SOCK_STREAM: 1>, laddr=addr(ip='127.0.0.1', port=12862), raddr=addr(ip='127.0.0.1', port=12863), status='ESTABLISHED', pid=3580),\n",
       " sconn(fd=-1, family=<AddressFamily.AF_INET6: 23>, type=<SocketKind.SOCK_STREAM: 1>, laddr=addr(ip='::', port=33060), raddr=(), status='LISTEN', pid=2812),\n",
       " sconn(fd=-1, family=<AddressFamily.AF_INET6: 23>, type=<SocketKind.SOCK_STREAM: 1>, laddr=addr(ip='::', port=443), raddr=(), status='LISTEN', pid=3692),\n",
       " sconn(fd=-1, family=<AddressFamily.AF_INET: 2>, type=<SocketKind.SOCK_STREAM: 1>, laddr=addr(ip='0.0.0.0', port=3306), raddr=(), status='LISTEN', pid=2812),\n",
       " sconn(fd=-1, family=<AddressFamily.AF_INET: 2>, type=<SocketKind.SOCK_STREAM: 1>, laddr=addr(ip='127.0.0.1', port=12891), raddr=addr(ip='127.0.0.1', port=12828), status='ESTABLISHED', pid=5380),\n",
       " sconn(fd=-1, family=<AddressFamily.AF_INET: 2>, type=<SocketKind.SOCK_STREAM: 1>, laddr=addr(ip='0.0.0.0', port=8092), raddr=(), status='LISTEN', pid=4),\n",
       " sconn(fd=-1, family=<AddressFamily.AF_INET: 2>, type=<SocketKind.SOCK_STREAM: 1>, laddr=addr(ip='127.0.0.1', port=12833), raddr=addr(ip='127.0.0.1', port=12834), status='ESTABLISHED', pid=5380),\n",
       " sconn(fd=-1, family=<AddressFamily.AF_INET: 2>, type=<SocketKind.SOCK_STREAM: 1>, laddr=addr(ip='0.0.0.0', port=21), raddr=(), status='LISTEN', pid=2080),\n",
       " sconn(fd=-1, family=<AddressFamily.AF_INET: 2>, type=<SocketKind.SOCK_STREAM: 1>, laddr=addr(ip='127.0.0.1', port=12843), raddr=addr(ip='127.0.0.1', port=12842), status='ESTABLISHED', pid=5380),\n",
       " sconn(fd=-1, family=<AddressFamily.AF_INET6: 23>, type=<SocketKind.SOCK_STREAM: 1>, laddr=addr(ip='::1', port=8307), raddr=(), status='LISTEN', pid=3692),\n",
       " sconn(fd=-1, family=<AddressFamily.AF_INET: 2>, type=<SocketKind.SOCK_STREAM: 1>, laddr=addr(ip='127.0.0.1', port=8527), raddr=addr(ip='127.0.0.1', port=8528), status='ESTABLISHED', pid=4752),\n",
       " sconn(fd=-1, family=<AddressFamily.AF_INET6: 23>, type=<SocketKind.SOCK_DGRAM: 2>, laddr=addr(ip='fe80::509:1f2:9192:8821', port=1900), raddr=(), status='NONE', pid=1164),\n",
       " sconn(fd=-1, family=<AddressFamily.AF_INET: 2>, type=<SocketKind.SOCK_STREAM: 1>, laddr=addr(ip='127.0.0.1', port=12878), raddr=addr(ip='127.0.0.1', port=12877), status='ESTABLISHED', pid=3580),\n",
       " sconn(fd=-1, family=<AddressFamily.AF_INET: 2>, type=<SocketKind.SOCK_STREAM: 1>, laddr=addr(ip='127.0.0.1', port=12837), raddr=addr(ip='127.0.0.1', port=12838), status='ESTABLISHED', pid=5380),\n",
       " sconn(fd=-1, family=<AddressFamily.AF_INET: 2>, type=<SocketKind.SOCK_STREAM: 1>, laddr=addr(ip='127.0.0.1', port=8575), raddr=addr(ip='127.0.0.1', port=8576), status='ESTABLISHED', pid=4752),\n",
       " sconn(fd=-1, family=<AddressFamily.AF_INET: 2>, type=<SocketKind.SOCK_STREAM: 1>, laddr=addr(ip='127.0.0.1', port=14050), raddr=addr(ip='127.0.0.1', port=14051), status='ESTABLISHED', pid=9100),\n",
       " sconn(fd=-1, family=<AddressFamily.AF_INET: 2>, type=<SocketKind.SOCK_STREAM: 1>, laddr=addr(ip='127.0.0.1', port=14084), raddr=addr(ip='127.0.0.1', port=14083), status='ESTABLISHED', pid=4752),\n",
       " sconn(fd=-1, family=<AddressFamily.AF_INET: 2>, type=<SocketKind.SOCK_DGRAM: 2>, laddr=addr(ip='169.254.136.33', port=1900), raddr=(), status='NONE', pid=1164),\n",
       " sconn(fd=-1, family=<AddressFamily.AF_INET6: 23>, type=<SocketKind.SOCK_DGRAM: 2>, laddr=addr(ip='fe80::509:1f2:9192:8821', port=546), raddr=(), status='NONE', pid=816),\n",
       " sconn(fd=-1, family=<AddressFamily.AF_INET: 2>, type=<SocketKind.SOCK_STREAM: 1>, laddr=addr(ip='127.0.0.1', port=12861), raddr=addr(ip='127.0.0.1', port=12860), status='ESTABLISHED', pid=3580),\n",
       " sconn(fd=-1, family=<AddressFamily.AF_INET6: 23>, type=<SocketKind.SOCK_STREAM: 1>, laddr=addr(ip='::', port=80), raddr=(), status='LISTEN', pid=4),\n",
       " sconn(fd=-1, family=<AddressFamily.AF_INET: 2>, type=<SocketKind.SOCK_STREAM: 1>, laddr=addr(ip='127.0.0.1', port=14027), raddr=(), status='LISTEN', pid=9100),\n",
       " sconn(fd=-1, family=<AddressFamily.AF_INET: 2>, type=<SocketKind.SOCK_DGRAM: 2>, laddr=addr(ip='127.0.0.1', port=54156), raddr=(), status='NONE', pid=1164),\n",
       " sconn(fd=-1, family=<AddressFamily.AF_INET: 2>, type=<SocketKind.SOCK_STREAM: 1>, laddr=addr(ip='127.0.0.1', port=8514), raddr=addr(ip='127.0.0.1', port=8580), status='ESTABLISHED', pid=7268),\n",
       " sconn(fd=-1, family=<AddressFamily.AF_INET: 2>, type=<SocketKind.SOCK_STREAM: 1>, laddr=addr(ip='127.0.0.1', port=12876), raddr=addr(ip='127.0.0.1', port=12875), status='ESTABLISHED', pid=3580),\n",
       " sconn(fd=-1, family=<AddressFamily.AF_INET: 2>, type=<SocketKind.SOCK_STREAM: 1>, laddr=addr(ip='127.0.0.1', port=12838), raddr=addr(ip='127.0.0.1', port=12837), status='ESTABLISHED', pid=5380),\n",
       " sconn(fd=-1, family=<AddressFamily.AF_INET: 2>, type=<SocketKind.SOCK_STREAM: 1>, laddr=addr(ip='127.0.0.1', port=8512), raddr=(), status='LISTEN', pid=7268),\n",
       " sconn(fd=-1, family=<AddressFamily.AF_INET: 2>, type=<SocketKind.SOCK_STREAM: 1>, laddr=addr(ip='127.0.0.1', port=14035), raddr=addr(ip='127.0.0.1', port=14034), status='ESTABLISHED', pid=4752),\n",
       " sconn(fd=-1, family=<AddressFamily.AF_INET6: 23>, type=<SocketKind.SOCK_STREAM: 1>, laddr=addr(ip='::1', port=8889), raddr=addr(ip='::1', port=8530), status='ESTABLISHED', pid=4752),\n",
       " sconn(fd=-1, family=<AddressFamily.AF_INET: 2>, type=<SocketKind.SOCK_STREAM: 1>, laddr=addr(ip='127.0.0.1', port=8515), raddr=addr(ip='127.0.0.1', port=8526), status='ESTABLISHED', pid=7268),\n",
       " sconn(fd=-1, family=<AddressFamily.AF_INET: 2>, type=<SocketKind.SOCK_STREAM: 1>, laddr=addr(ip='127.0.0.1', port=8521), raddr=addr(ip='127.0.0.1', port=8520), status='ESTABLISHED', pid=4752),\n",
       " sconn(fd=-1, family=<AddressFamily.AF_INET: 2>, type=<SocketKind.SOCK_STREAM: 1>, laddr=addr(ip='127.0.0.1', port=14029), raddr=addr(ip='127.0.0.1', port=14028), status='ESTABLISHED', pid=4752),\n",
       " sconn(fd=-1, family=<AddressFamily.AF_INET: 2>, type=<SocketKind.SOCK_STREAM: 1>, laddr=addr(ip='127.0.0.1', port=12867), raddr=addr(ip='127.0.0.1', port=12866), status='ESTABLISHED', pid=3580),\n",
       " sconn(fd=-1, family=<AddressFamily.AF_INET6: 23>, type=<SocketKind.SOCK_DGRAM: 2>, laddr=addr(ip='fe80::3529:c9ed:4716:db39', port=546), raddr=(), status='NONE', pid=816),\n",
       " sconn(fd=-1, family=<AddressFamily.AF_INET: 2>, type=<SocketKind.SOCK_STREAM: 1>, laddr=addr(ip='127.0.0.1', port=12828), raddr=(), status='LISTEN', pid=3580),\n",
       " sconn(fd=-1, family=<AddressFamily.AF_INET: 2>, type=<SocketKind.SOCK_STREAM: 1>, laddr=addr(ip='127.0.0.1', port=8542), raddr=addr(ip='127.0.0.1', port=8543), status='ESTABLISHED', pid=7268),\n",
       " sconn(fd=-1, family=<AddressFamily.AF_INET: 2>, type=<SocketKind.SOCK_STREAM: 1>, laddr=addr(ip='127.0.0.1', port=12856), raddr=addr(ip='127.0.0.1', port=12857), status='ESTABLISHED', pid=3580),\n",
       " sconn(fd=-1, family=<AddressFamily.AF_INET: 2>, type=<SocketKind.SOCK_STREAM: 1>, laddr=addr(ip='127.0.0.1', port=14051), raddr=addr(ip='127.0.0.1', port=14050), status='ESTABLISHED', pid=9100),\n",
       " sconn(fd=-1, family=<AddressFamily.AF_INET: 2>, type=<SocketKind.SOCK_STREAM: 1>, laddr=addr(ip='127.0.0.1', port=14004), raddr=addr(ip='127.0.0.1', port=14003), status='ESTABLISHED', pid=4752),\n",
       " sconn(fd=-1, family=<AddressFamily.AF_INET6: 23>, type=<SocketKind.SOCK_DGRAM: 2>, laddr=addr(ip='::', port=5353), raddr=(), status='NONE', pid=408),\n",
       " sconn(fd=-1, family=<AddressFamily.AF_INET: 2>, type=<SocketKind.SOCK_STREAM: 1>, laddr=addr(ip='192.168.0.110', port=9023), raddr=addr(ip='172.217.160.78', port=443), status='SYN_SENT', pid=8220),\n",
       " sconn(fd=-1, family=<AddressFamily.AF_INET: 2>, type=<SocketKind.SOCK_STREAM: 1>, laddr=addr(ip='127.0.0.1', port=8572), raddr=addr(ip='127.0.0.1', port=8573), status='ESTABLISHED', pid=4752),\n",
       " sconn(fd=-1, family=<AddressFamily.AF_INET: 2>, type=<SocketKind.SOCK_STREAM: 1>, laddr=addr(ip='127.0.0.1', port=14031), raddr=addr(ip='127.0.0.1', port=14030), status='ESTABLISHED', pid=4752),\n",
       " sconn(fd=-1, family=<AddressFamily.AF_INET: 2>, type=<SocketKind.SOCK_STREAM: 1>, laddr=addr(ip='127.0.0.1', port=12829), raddr=addr(ip='127.0.0.1', port=12894), status='ESTABLISHED', pid=3580),\n",
       " sconn(fd=-1, family=<AddressFamily.AF_INET: 2>, type=<SocketKind.SOCK_STREAM: 1>, laddr=addr(ip='127.0.0.1', port=8564), raddr=addr(ip='127.0.0.1', port=8563), status='ESTABLISHED', pid=7268),\n",
       " sconn(fd=-1, family=<AddressFamily.AF_INET: 2>, type=<SocketKind.SOCK_DGRAM: 2>, laddr=addr(ip='0.0.0.0', port=5353), raddr=(), status='NONE', pid=3760),\n",
       " sconn(fd=-1, family=<AddressFamily.AF_INET: 2>, type=<SocketKind.SOCK_STREAM: 1>, laddr=addr(ip='127.0.0.1', port=14060), raddr=addr(ip='127.0.0.1', port=14061), status='ESTABLISHED', pid=9100),\n",
       " sconn(fd=-1, family=<AddressFamily.AF_INET: 2>, type=<SocketKind.SOCK_STREAM: 1>, laddr=addr(ip='127.0.0.1', port=8558), raddr=addr(ip='127.0.0.1', port=8557), status='ESTABLISHED', pid=7268),\n",
       " sconn(fd=-1, family=<AddressFamily.AF_INET: 2>, type=<SocketKind.SOCK_STREAM: 1>, laddr=addr(ip='127.0.0.1', port=8545), raddr=addr(ip='127.0.0.1', port=8544), status='ESTABLISHED', pid=7268),\n",
       " sconn(fd=-1, family=<AddressFamily.AF_INET: 2>, type=<SocketKind.SOCK_STREAM: 1>, laddr=addr(ip='127.0.0.1', port=8522), raddr=addr(ip='127.0.0.1', port=8523), status='ESTABLISHED', pid=4752),\n",
       " sconn(fd=-1, family=<AddressFamily.AF_INET: 2>, type=<SocketKind.SOCK_STREAM: 1>, laddr=addr(ip='127.0.0.1', port=8552), raddr=addr(ip='127.0.0.1', port=8553), status='ESTABLISHED', pid=7268),\n",
       " sconn(fd=-1, family=<AddressFamily.AF_INET: 2>, type=<SocketKind.SOCK_STREAM: 1>, laddr=addr(ip='127.0.0.1', port=8523), raddr=addr(ip='127.0.0.1', port=8522), status='ESTABLISHED', pid=4752),\n",
       " sconn(fd=-1, family=<AddressFamily.AF_INET: 2>, type=<SocketKind.SOCK_STREAM: 1>, laddr=addr(ip='127.0.0.1', port=12870), raddr=addr(ip='127.0.0.1', port=12869), status='ESTABLISHED', pid=3580),\n",
       " sconn(fd=-1, family=<AddressFamily.AF_INET: 2>, type=<SocketKind.SOCK_STREAM: 1>, laddr=addr(ip='127.0.0.1', port=14044), raddr=addr(ip='127.0.0.1', port=14045), status='ESTABLISHED', pid=9100),\n",
       " sconn(fd=-1, family=<AddressFamily.AF_INET: 2>, type=<SocketKind.SOCK_STREAM: 1>, laddr=addr(ip='192.168.0.110', port=9028), raddr=addr(ip='172.217.160.78', port=443), status='SYN_SENT', pid=8220),\n",
       " sconn(fd=-1, family=<AddressFamily.AF_INET: 2>, type=<SocketKind.SOCK_STREAM: 1>, laddr=addr(ip='127.0.0.1', port=8550), raddr=addr(ip='127.0.0.1', port=8551), status='ESTABLISHED', pid=7268),\n",
       " sconn(fd=-1, family=<AddressFamily.AF_INET: 2>, type=<SocketKind.SOCK_STREAM: 1>, laddr=addr(ip='127.0.0.1', port=8566), raddr=addr(ip='127.0.0.1', port=8565), status='ESTABLISHED', pid=7268),\n",
       " sconn(fd=-1, family=<AddressFamily.AF_INET6: 23>, type=<SocketKind.SOCK_DGRAM: 2>, laddr=addr(ip='::', port=5355), raddr=(), status='NONE', pid=408),\n",
       " sconn(fd=-1, family=<AddressFamily.AF_INET: 2>, type=<SocketKind.SOCK_STREAM: 1>, laddr=addr(ip='127.0.0.1', port=12872), raddr=addr(ip='127.0.0.1', port=12871), status='ESTABLISHED', pid=3580),\n",
       " sconn(fd=-1, family=<AddressFamily.AF_INET: 2>, type=<SocketKind.SOCK_STREAM: 1>, laddr=addr(ip='127.0.0.1', port=12874), raddr=addr(ip='127.0.0.1', port=12873), status='ESTABLISHED', pid=3580),\n",
       " sconn(fd=-1, family=<AddressFamily.AF_INET: 2>, type=<SocketKind.SOCK_STREAM: 1>, laddr=addr(ip='0.0.0.0', port=1547), raddr=(), status='LISTEN', pid=684),\n",
       " sconn(fd=-1, family=<AddressFamily.AF_INET: 2>, type=<SocketKind.SOCK_STREAM: 1>, laddr=addr(ip='127.0.0.1', port=8541), raddr=addr(ip='127.0.0.1', port=8540), status='ESTABLISHED', pid=7268),\n",
       " sconn(fd=-1, family=<AddressFamily.AF_INET: 2>, type=<SocketKind.SOCK_STREAM: 1>, laddr=addr(ip='0.0.0.0', port=80), raddr=(), status='LISTEN', pid=4),\n",
       " sconn(fd=-1, family=<AddressFamily.AF_INET: 2>, type=<SocketKind.SOCK_STREAM: 1>, laddr=addr(ip='127.0.0.1', port=8568), raddr=addr(ip='127.0.0.1', port=8567), status='ESTABLISHED', pid=7268),\n",
       " sconn(fd=-1, family=<AddressFamily.AF_INET: 2>, type=<SocketKind.SOCK_STREAM: 1>, laddr=addr(ip='127.0.0.1', port=3306), raddr=addr(ip='127.0.0.1', port=7220), status='ESTABLISHED', pid=2812),\n",
       " sconn(fd=-1, family=<AddressFamily.AF_INET: 2>, type=<SocketKind.SOCK_STREAM: 1>, laddr=addr(ip='127.0.0.1', port=14076), raddr=addr(ip='127.0.0.1', port=14075), status='ESTABLISHED', pid=9100),\n",
       " sconn(fd=-1, family=<AddressFamily.AF_INET6: 23>, type=<SocketKind.SOCK_DGRAM: 2>, laddr=addr(ip='::', port=5353), raddr=(), status='NONE', pid=3760),\n",
       " sconn(fd=-1, family=<AddressFamily.AF_INET: 2>, type=<SocketKind.SOCK_STREAM: 1>, laddr=addr(ip='127.0.0.1', port=8526), raddr=addr(ip='127.0.0.1', port=8515), status='ESTABLISHED', pid=4752),\n",
       " sconn(fd=-1, family=<AddressFamily.AF_INET: 2>, type=<SocketKind.SOCK_STREAM: 1>, laddr=addr(ip='127.0.0.1', port=12850), raddr=addr(ip='127.0.0.1', port=12851), status='ESTABLISHED', pid=3580),\n",
       " sconn(fd=-1, family=<AddressFamily.AF_INET: 2>, type=<SocketKind.SOCK_STREAM: 1>, laddr=addr(ip='127.0.0.1', port=12836), raddr=addr(ip='127.0.0.1', port=12835), status='ESTABLISHED', pid=5380),\n",
       " sconn(fd=-1, family=<AddressFamily.AF_INET: 2>, type=<SocketKind.SOCK_STREAM: 1>, laddr=addr(ip='127.0.0.1', port=1580), raddr=addr(ip='127.0.0.1', port=1581), status='ESTABLISHED', pid=9100),\n",
       " sconn(fd=-1, family=<AddressFamily.AF_INET6: 23>, type=<SocketKind.SOCK_STREAM: 1>, laddr=addr(ip='::1', port=8511), raddr=addr(ip='::1', port=8889), status='ESTABLISHED', pid=8220),\n",
       " sconn(fd=-1, family=<AddressFamily.AF_INET: 2>, type=<SocketKind.SOCK_STREAM: 1>, laddr=addr(ip='127.0.0.1', port=12851), raddr=addr(ip='127.0.0.1', port=12850), status='ESTABLISHED', pid=3580),\n",
       " sconn(fd=-1, family=<AddressFamily.AF_INET: 2>, type=<SocketKind.SOCK_STREAM: 1>, laddr=addr(ip='127.0.0.1', port=12883), raddr=addr(ip='127.0.0.1', port=12884), status='ESTABLISHED', pid=5380),\n",
       " sconn(fd=-1, family=<AddressFamily.AF_INET: 2>, type=<SocketKind.SOCK_STREAM: 1>, laddr=addr(ip='192.168.0.110', port=8707), raddr=addr(ip='103.231.98.196', port=443), status='TIME_WAIT', pid=0),\n",
       " sconn(fd=-1, family=<AddressFamily.AF_INET: 2>, type=<SocketKind.SOCK_STREAM: 1>, laddr=addr(ip='127.0.0.1', port=12890), raddr=addr(ip='127.0.0.1', port=12889), status='ESTABLISHED', pid=5380),\n",
       " sconn(fd=-1, family=<AddressFamily.AF_INET: 2>, type=<SocketKind.SOCK_STREAM: 1>, laddr=addr(ip='0.0.0.0', port=1540), raddr=(), status='LISTEN', pid=704),\n",
       " sconn(fd=-1, family=<AddressFamily.AF_INET: 2>, type=<SocketKind.SOCK_STREAM: 1>, laddr=addr(ip='127.0.0.1', port=12865), raddr=addr(ip='127.0.0.1', port=12864), status='ESTABLISHED', pid=3580),\n",
       " sconn(fd=-1, family=<AddressFamily.AF_INET: 2>, type=<SocketKind.SOCK_STREAM: 1>, laddr=addr(ip='127.0.0.1', port=12869), raddr=addr(ip='127.0.0.1', port=12870), status='ESTABLISHED', pid=3580),\n",
       " sconn(fd=-1, family=<AddressFamily.AF_INET: 2>, type=<SocketKind.SOCK_STREAM: 1>, laddr=addr(ip='127.0.0.1', port=14025), raddr=(), status='LISTEN', pid=9100),\n",
       " sconn(fd=-1, family=<AddressFamily.AF_INET6: 23>, type=<SocketKind.SOCK_STREAM: 1>, laddr=addr(ip='::', port=3306), raddr=(), status='LISTEN', pid=2812),\n",
       " sconn(fd=-1, family=<AddressFamily.AF_INET: 2>, type=<SocketKind.SOCK_DGRAM: 2>, laddr=addr(ip='169.254.136.33', port=54154), raddr=(), status='NONE', pid=1164),\n",
       " sconn(fd=-1, family=<AddressFamily.AF_INET: 2>, type=<SocketKind.SOCK_STREAM: 1>, laddr=addr(ip='0.0.0.0', port=912), raddr=(), status='LISTEN', pid=2404),\n",
       " sconn(fd=-1, family=<AddressFamily.AF_INET6: 23>, type=<SocketKind.SOCK_STREAM: 1>, laddr=addr(ip='::1', port=8889), raddr=(), status='LISTEN', pid=4752),\n",
       " sconn(fd=-1, family=<AddressFamily.AF_INET: 2>, type=<SocketKind.SOCK_STREAM: 1>, laddr=addr(ip='192.168.0.110', port=8240), raddr=addr(ip='64.233.189.188', port=5228), status='ESTABLISHED', pid=8220),\n",
       " sconn(fd=-1, family=<AddressFamily.AF_INET: 2>, type=<SocketKind.SOCK_DGRAM: 2>, laddr=addr(ip='169.254.136.33', port=137), raddr=(), status='NONE', pid=4),\n",
       " sconn(fd=-1, family=<AddressFamily.AF_INET: 2>, type=<SocketKind.SOCK_STREAM: 1>, laddr=addr(ip='127.0.0.1', port=8563), raddr=addr(ip='127.0.0.1', port=8564), status='ESTABLISHED', pid=7268),\n",
       " sconn(fd=-1, family=<AddressFamily.AF_INET: 2>, type=<SocketKind.SOCK_STREAM: 1>, laddr=addr(ip='127.0.0.1', port=14077), raddr=addr(ip='127.0.0.1', port=14078), status='ESTABLISHED', pid=4752),\n",
       " sconn(fd=-1, family=<AddressFamily.AF_INET: 2>, type=<SocketKind.SOCK_STREAM: 1>, laddr=addr(ip='127.0.0.1', port=14032), raddr=addr(ip='127.0.0.1', port=14033), status='ESTABLISHED', pid=4752),\n",
       " sconn(fd=-1, family=<AddressFamily.AF_INET: 2>, type=<SocketKind.SOCK_STREAM: 1>, laddr=addr(ip='169.254.136.33', port=139), raddr=(), status='LISTEN', pid=4),\n",
       " sconn(fd=-1, family=<AddressFamily.AF_INET: 2>, type=<SocketKind.SOCK_STREAM: 1>, laddr=addr(ip='127.0.0.1', port=8580), raddr=addr(ip='127.0.0.1', port=8514), status='ESTABLISHED', pid=4752),\n",
       " sconn(fd=-1, family=<AddressFamily.AF_INET6: 23>, type=<SocketKind.SOCK_DGRAM: 2>, laddr=addr(ip='::1', port=54152), raddr=(), status='NONE', pid=1164),\n",
       " sconn(fd=-1, family=<AddressFamily.AF_INET: 2>, type=<SocketKind.SOCK_STREAM: 1>, laddr=addr(ip='127.0.0.1', port=12877), raddr=addr(ip='127.0.0.1', port=12878), status='ESTABLISHED', pid=3580),\n",
       " sconn(fd=-1, family=<AddressFamily.AF_INET: 2>, type=<SocketKind.SOCK_STREAM: 1>, laddr=addr(ip='127.0.0.1', port=14065), raddr=addr(ip='127.0.0.1', port=14066), status='ESTABLISHED', pid=9100),\n",
       " sconn(fd=-1, family=<AddressFamily.AF_INET: 2>, type=<SocketKind.SOCK_STREAM: 1>, laddr=addr(ip='127.0.0.1', port=12827), raddr=(), status='LISTEN', pid=3580),\n",
       " sconn(fd=-1, family=<AddressFamily.AF_INET: 2>, type=<SocketKind.SOCK_STREAM: 1>, laddr=addr(ip='127.0.0.1', port=12827), raddr=addr(ip='127.0.0.1', port=12885), status='ESTABLISHED', pid=3580),\n",
       " sconn(fd=-1, family=<AddressFamily.AF_INET: 2>, type=<SocketKind.SOCK_STREAM: 1>, laddr=addr(ip='127.0.0.1', port=12888), raddr=addr(ip='127.0.0.1', port=12830), status='ESTABLISHED', pid=5380),\n",
       " sconn(fd=-1, family=<AddressFamily.AF_INET: 2>, type=<SocketKind.SOCK_STREAM: 1>, laddr=addr(ip='127.0.0.1', port=14066), raddr=addr(ip='127.0.0.1', port=14065), status='ESTABLISHED', pid=9100),\n",
       " sconn(fd=-1, family=<AddressFamily.AF_INET: 2>, type=<SocketKind.SOCK_STREAM: 1>, laddr=addr(ip='127.0.0.1', port=12863), raddr=addr(ip='127.0.0.1', port=12862), status='ESTABLISHED', pid=3580),\n",
       " sconn(fd=-1, family=<AddressFamily.AF_INET: 2>, type=<SocketKind.SOCK_STREAM: 1>, laddr=addr(ip='127.0.0.1', port=12830), raddr=addr(ip='127.0.0.1', port=12841), status='ESTABLISHED', pid=3580),\n",
       " sconn(fd=-1, family=<AddressFamily.AF_INET: 2>, type=<SocketKind.SOCK_DGRAM: 2>, laddr=addr(ip='192.168.19.2', port=2177), raddr=(), status='NONE', pid=1164),\n",
       " sconn(fd=-1, family=<AddressFamily.AF_INET: 2>, type=<SocketKind.SOCK_STREAM: 1>, laddr=addr(ip='127.0.0.1', port=14087), raddr=addr(ip='127.0.0.1', port=14086), status='ESTABLISHED', pid=4752),\n",
       " sconn(fd=-1, family=<AddressFamily.AF_INET: 2>, type=<SocketKind.SOCK_STREAM: 1>, laddr=addr(ip='192.168.0.110', port=8699), raddr=addr(ip='203.208.50.102', port=443), status='ESTABLISHED', pid=8220),\n",
       " sconn(fd=-1, family=<AddressFamily.AF_INET: 2>, type=<SocketKind.SOCK_STREAM: 1>, laddr=addr(ip='127.0.0.1', port=14026), raddr=addr(ip='127.0.0.1', port=14036), status='ESTABLISHED', pid=9100),\n",
       " sconn(fd=-1, family=<AddressFamily.AF_INET: 2>, type=<SocketKind.SOCK_STREAM: 1>, laddr=addr(ip='127.0.0.1', port=12839), raddr=addr(ip='127.0.0.1', port=12840), status='ESTABLISHED', pid=5380),\n",
       " sconn(fd=-1, family=<AddressFamily.AF_INET: 2>, type=<SocketKind.SOCK_STREAM: 1>, laddr=addr(ip='192.168.0.110', port=9026), raddr=addr(ip='172.217.160.78', port=443), status='SYN_SENT', pid=8220),\n",
       " sconn(fd=-1, family=<AddressFamily.AF_INET: 2>, type=<SocketKind.SOCK_STREAM: 1>, laddr=addr(ip='127.0.0.1', port=12866), raddr=addr(ip='127.0.0.1', port=12867), status='ESTABLISHED', pid=3580),\n",
       " sconn(fd=-1, family=<AddressFamily.AF_INET: 2>, type=<SocketKind.SOCK_STREAM: 1>, laddr=addr(ip='127.0.0.1', port=12852), raddr=addr(ip='127.0.0.1', port=12853), status='ESTABLISHED', pid=3580),\n",
       " sconn(fd=-1, family=<AddressFamily.AF_INET: 2>, type=<SocketKind.SOCK_STREAM: 1>, laddr=addr(ip='127.0.0.1', port=8517), raddr=addr(ip='127.0.0.1', port=8518), status='ESTABLISHED', pid=4752),\n",
       " sconn(fd=-1, family=<AddressFamily.AF_INET6: 23>, type=<SocketKind.SOCK_DGRAM: 2>, laddr=addr(ip='fe80::3529:c9ed:4716:db39', port=2177), raddr=(), status='NONE', pid=1164),\n",
       " sconn(fd=-1, family=<AddressFamily.AF_INET: 2>, type=<SocketKind.SOCK_STREAM: 1>, laddr=addr(ip='127.0.0.1', port=14086), raddr=addr(ip='127.0.0.1', port=14087), status='ESTABLISHED', pid=4752),\n",
       " sconn(fd=-1, family=<AddressFamily.AF_INET: 2>, type=<SocketKind.SOCK_STREAM: 1>, laddr=addr(ip='0.0.0.0', port=8091), raddr=(), status='LISTEN', pid=4),\n",
       " sconn(fd=-1, family=<AddressFamily.AF_INET: 2>, type=<SocketKind.SOCK_DGRAM: 2>, laddr=addr(ip='192.168.0.110', port=137), raddr=(), status='NONE', pid=4),\n",
       " sconn(fd=-1, family=<AddressFamily.AF_INET: 2>, type=<SocketKind.SOCK_STREAM: 1>, laddr=addr(ip='127.0.0.1', port=8525), raddr=addr(ip='127.0.0.1', port=8524), status='ESTABLISHED', pid=4752),\n",
       " sconn(fd=-1, family=<AddressFamily.AF_INET: 2>, type=<SocketKind.SOCK_DGRAM: 2>, laddr=addr(ip='192.168.19.2', port=1900), raddr=(), status='NONE', pid=1164),\n",
       " sconn(fd=-1, family=<AddressFamily.AF_INET: 2>, type=<SocketKind.SOCK_STREAM: 1>, laddr=addr(ip='127.0.0.1', port=8524), raddr=addr(ip='127.0.0.1', port=8525), status='ESTABLISHED', pid=4752),\n",
       " sconn(fd=-1, family=<AddressFamily.AF_INET: 2>, type=<SocketKind.SOCK_STREAM: 1>, laddr=addr(ip='127.0.0.1', port=14078), raddr=addr(ip='127.0.0.1', port=14077), status='ESTABLISHED', pid=4752),\n",
       " sconn(fd=-1, family=<AddressFamily.AF_INET: 2>, type=<SocketKind.SOCK_STREAM: 1>, laddr=addr(ip='127.0.0.1', port=12873), raddr=addr(ip='127.0.0.1', port=12874), status='ESTABLISHED', pid=3580),\n",
       " sconn(fd=-1, family=<AddressFamily.AF_INET: 2>, type=<SocketKind.SOCK_STREAM: 1>, laddr=addr(ip='127.0.0.1', port=12887), raddr=addr(ip='127.0.0.1', port=12886), status='ESTABLISHED', pid=5380),\n",
       " sconn(fd=-1, family=<AddressFamily.AF_INET: 2>, type=<SocketKind.SOCK_STREAM: 1>, laddr=addr(ip='127.0.0.1', port=8567), raddr=addr(ip='127.0.0.1', port=8568), status='ESTABLISHED', pid=7268),\n",
       " sconn(fd=-1, family=<AddressFamily.AF_INET: 2>, type=<SocketKind.SOCK_STREAM: 1>, laddr=addr(ip='127.0.0.1', port=8513), raddr=(), status='LISTEN', pid=7268),\n",
       " sconn(fd=-1, family=<AddressFamily.AF_INET6: 23>, type=<SocketKind.SOCK_DGRAM: 2>, laddr=addr(ip='fe80::509:1f2:9192:8821', port=2177), raddr=(), status='NONE', pid=1164),\n",
       " sconn(fd=-1, family=<AddressFamily.AF_INET: 2>, type=<SocketKind.SOCK_STREAM: 1>, laddr=addr(ip='127.0.0.1', port=12868), raddr=(), status='LISTEN', pid=3580),\n",
       " sconn(fd=-1, family=<AddressFamily.AF_INET: 2>, type=<SocketKind.SOCK_STREAM: 1>, laddr=addr(ip='192.168.0.110', port=9025), raddr=addr(ip='172.217.160.78', port=443), status='SYN_SENT', pid=8220),\n",
       " sconn(fd=-1, family=<AddressFamily.AF_INET6: 23>, type=<SocketKind.SOCK_DGRAM: 2>, laddr=addr(ip='fe80::509:1f2:9192:8821', port=54150), raddr=(), status='NONE', pid=1164),\n",
       " sconn(fd=-1, family=<AddressFamily.AF_INET: 2>, type=<SocketKind.SOCK_STREAM: 1>, laddr=addr(ip='127.0.0.1', port=8561), raddr=addr(ip='127.0.0.1', port=8562), status='ESTABLISHED', pid=7268),\n",
       " sconn(fd=-1, family=<AddressFamily.AF_INET6: 23>, type=<SocketKind.SOCK_STREAM: 1>, laddr=addr(ip='::', port=1536), raddr=(), status='LISTEN', pid=608),\n",
       " sconn(fd=-1, family=<AddressFamily.AF_INET6: 23>, type=<SocketKind.SOCK_STREAM: 1>, laddr=addr(ip='::1', port=8889), raddr=addr(ip='::1', port=7259), status='ESTABLISHED', pid=4752),\n",
       " sconn(fd=-1, family=<AddressFamily.AF_INET6: 23>, type=<SocketKind.SOCK_STREAM: 1>, laddr=addr(ip='::', port=21), raddr=(), status='LISTEN', pid=2080),\n",
       " sconn(fd=-1, family=<AddressFamily.AF_INET: 2>, type=<SocketKind.SOCK_STREAM: 1>, laddr=addr(ip='127.0.0.1', port=14067), raddr=addr(ip='127.0.0.1', port=14068), status='ESTABLISHED', pid=9100),\n",
       " sconn(fd=-1, family=<AddressFamily.AF_INET: 2>, type=<SocketKind.SOCK_STREAM: 1>, laddr=addr(ip='0.0.0.0', port=1537), raddr=(), status='LISTEN', pid=816),\n",
       " sconn(fd=-1, family=<AddressFamily.AF_INET6: 23>, type=<SocketKind.SOCK_STREAM: 1>, laddr=addr(ip='::', port=1539), raddr=(), status='LISTEN', pid=1892),\n",
       " sconn(fd=-1, family=<AddressFamily.AF_INET: 2>, type=<SocketKind.SOCK_STREAM: 1>, laddr=addr(ip='127.0.0.1', port=12854), raddr=addr(ip='127.0.0.1', port=12855), status='ESTABLISHED', pid=3580),\n",
       " sconn(fd=-1, family=<AddressFamily.AF_INET: 2>, type=<SocketKind.SOCK_STREAM: 1>, laddr=addr(ip='127.0.0.1', port=8539), raddr=addr(ip='127.0.0.1', port=8538), status='ESTABLISHED', pid=7268),\n",
       " sconn(fd=-1, family=<AddressFamily.AF_INET: 2>, type=<SocketKind.SOCK_STREAM: 1>, laddr=addr(ip='0.0.0.0', port=1539), raddr=(), status='LISTEN', pid=1892),\n",
       " sconn(fd=-1, family=<AddressFamily.AF_INET: 2>, type=<SocketKind.SOCK_STREAM: 1>, laddr=addr(ip='127.0.0.1', port=12841), raddr=addr(ip='127.0.0.1', port=12830), status='ESTABLISHED', pid=5380),\n",
       " sconn(fd=-1, family=<AddressFamily.AF_INET: 2>, type=<SocketKind.SOCK_STREAM: 1>, laddr=addr(ip='127.0.0.1', port=8573), raddr=addr(ip='127.0.0.1', port=8572), status='ESTABLISHED', pid=4752),\n",
       " sconn(fd=-1, family=<AddressFamily.AF_INET: 2>, type=<SocketKind.SOCK_STREAM: 1>, laddr=addr(ip='127.0.0.1', port=8543), raddr=addr(ip='127.0.0.1', port=8542), status='ESTABLISHED', pid=7268),\n",
       " sconn(fd=-1, family=<AddressFamily.AF_INET: 2>, type=<SocketKind.SOCK_STREAM: 1>, laddr=addr(ip='127.0.0.1', port=8576), raddr=addr(ip='127.0.0.1', port=8575), status='ESTABLISHED', pid=4752),\n",
       " sconn(fd=-1, family=<AddressFamily.AF_INET6: 23>, type=<SocketKind.SOCK_STREAM: 1>, laddr=addr(ip='::', port=1547), raddr=(), status='LISTEN', pid=684),\n",
       " sconn(fd=-1, family=<AddressFamily.AF_INET: 2>, type=<SocketKind.SOCK_STREAM: 1>, laddr=addr(ip='127.0.0.1', port=8685), raddr=addr(ip='127.0.0.1', port=8684), status='ESTABLISHED', pid=7268),\n",
       " sconn(fd=-1, family=<AddressFamily.AF_INET: 2>, type=<SocketKind.SOCK_STREAM: 1>, laddr=addr(ip='127.0.0.1', port=14080), raddr=addr(ip='127.0.0.1', port=14081), status='ESTABLISHED', pid=4752),\n",
       " sconn(fd=-1, family=<AddressFamily.AF_INET: 2>, type=<SocketKind.SOCK_STREAM: 1>, laddr=addr(ip='127.0.0.1', port=8888), raddr=(), status='LISTEN', pid=5380),\n",
       " sconn(fd=-1, family=<AddressFamily.AF_INET: 2>, type=<SocketKind.SOCK_STREAM: 1>, laddr=addr(ip='127.0.0.1', port=14072), raddr=addr(ip='127.0.0.1', port=14071), status='ESTABLISHED', pid=9100),\n",
       " sconn(fd=-1, family=<AddressFamily.AF_INET: 2>, type=<SocketKind.SOCK_STREAM: 1>, laddr=addr(ip='127.0.0.1', port=12894), raddr=addr(ip='127.0.0.1', port=12829), status='ESTABLISHED', pid=5380),\n",
       " sconn(fd=-1, family=<AddressFamily.AF_INET: 2>, type=<SocketKind.SOCK_STREAM: 1>, laddr=addr(ip='0.0.0.0', port=445), raddr=(), status='LISTEN', pid=4),\n",
       " sconn(fd=-1, family=<AddressFamily.AF_INET: 2>, type=<SocketKind.SOCK_STREAM: 1>, laddr=addr(ip='127.0.0.1', port=14068), raddr=addr(ip='127.0.0.1', port=14067), status='ESTABLISHED', pid=9100),\n",
       " sconn(fd=-1, family=<AddressFamily.AF_INET: 2>, type=<SocketKind.SOCK_STREAM: 1>, laddr=addr(ip='127.0.0.1', port=14075), raddr=addr(ip='127.0.0.1', port=14076), status='ESTABLISHED', pid=9100),\n",
       " sconn(fd=-1, family=<AddressFamily.AF_INET: 2>, type=<SocketKind.SOCK_STREAM: 1>, laddr=addr(ip='127.0.0.1', port=8307), raddr=(), status='LISTEN', pid=3692),\n",
       " sconn(fd=-1, family=<AddressFamily.AF_INET: 2>, type=<SocketKind.SOCK_STREAM: 1>, laddr=addr(ip='127.0.0.1', port=14070), raddr=addr(ip='127.0.0.1', port=14069), status='ESTABLISHED', pid=9100),\n",
       " sconn(fd=-1, family=<AddressFamily.AF_INET: 2>, type=<SocketKind.SOCK_STREAM: 1>, laddr=addr(ip='127.0.0.1', port=12829), raddr=(), status='LISTEN', pid=3580),\n",
       " sconn(fd=-1, family=<AddressFamily.AF_INET: 2>, type=<SocketKind.SOCK_STREAM: 1>, laddr=addr(ip='127.0.0.1', port=8514), raddr=(), status='LISTEN', pid=7268),\n",
       " sconn(fd=-1, family=<AddressFamily.AF_INET: 2>, type=<SocketKind.SOCK_STREAM: 1>, laddr=addr(ip='0.0.0.0', port=3000), raddr=(), status='LISTEN', pid=8356),\n",
       " sconn(fd=-1, family=<AddressFamily.AF_INET: 2>, type=<SocketKind.SOCK_STREAM: 1>, laddr=addr(ip='192.168.0.110', port=7182), raddr=addr(ip='52.139.250.253', port=443), status='ESTABLISHED', pid=7432),\n",
       " sconn(fd=-1, family=<AddressFamily.AF_INET: 2>, type=<SocketKind.SOCK_STREAM: 1>, laddr=addr(ip='127.0.0.1', port=14049), raddr=addr(ip='127.0.0.1', port=14048), status='ESTABLISHED', pid=9100),\n",
       " sconn(fd=-1, family=<AddressFamily.AF_INET: 2>, type=<SocketKind.SOCK_STREAM: 1>, laddr=addr(ip='127.0.0.1', port=8569), raddr=addr(ip='127.0.0.1', port=8570), status='ESTABLISHED', pid=4752),\n",
       " sconn(fd=-1, family=<AddressFamily.AF_INET: 2>, type=<SocketKind.SOCK_DGRAM: 2>, laddr=addr(ip='0.0.0.0', port=5353), raddr=(), status='NONE', pid=408),\n",
       " sconn(fd=-1, family=<AddressFamily.AF_INET6: 23>, type=<SocketKind.SOCK_STREAM: 1>, laddr=addr(ip='::', port=1538), raddr=(), status='LISTEN', pid=428),\n",
       " sconn(fd=-1, family=<AddressFamily.AF_INET: 2>, type=<SocketKind.SOCK_DGRAM: 2>, laddr=addr(ip='127.0.0.1', port=1900), raddr=(), status='NONE', pid=1164),\n",
       " sconn(fd=-1, family=<AddressFamily.AF_INET: 2>, type=<SocketKind.SOCK_DGRAM: 2>, laddr=addr(ip='0.0.0.0', port=5355), raddr=(), status='NONE', pid=408),\n",
       " sconn(fd=-1, family=<AddressFamily.AF_INET: 2>, type=<SocketKind.SOCK_STREAM: 1>, laddr=addr(ip='127.0.0.1', port=14053), raddr=addr(ip='127.0.0.1', port=14052), status='ESTABLISHED', pid=9100),\n",
       " sconn(fd=-1, family=<AddressFamily.AF_INET: 2>, type=<SocketKind.SOCK_STREAM: 1>, laddr=addr(ip='127.0.0.1', port=8529), raddr=addr(ip='127.0.0.1', port=8513), status='ESTABLISHED', pid=4752),\n",
       " sconn(fd=-1, family=<AddressFamily.AF_INET: 2>, type=<SocketKind.SOCK_STREAM: 1>, laddr=addr(ip='127.0.0.1', port=7220), raddr=addr(ip='127.0.0.1', port=3306), status='ESTABLISHED', pid=8356),\n",
       " sconn(fd=-1, family=<AddressFamily.AF_INET: 2>, type=<SocketKind.SOCK_STREAM: 1>, laddr=addr(ip='127.0.0.1', port=14069), raddr=addr(ip='127.0.0.1', port=14070), status='ESTABLISHED', pid=9100),\n",
       " sconn(fd=-1, family=<AddressFamily.AF_INET6: 23>, type=<SocketKind.SOCK_DGRAM: 2>, laddr=addr(ip='fe80::c851:b996:cd41:34b6', port=1900), raddr=(), status='NONE', pid=1164),\n",
       " sconn(fd=-1, family=<AddressFamily.AF_INET: 2>, type=<SocketKind.SOCK_STREAM: 1>, laddr=addr(ip='127.0.0.1', port=12864), raddr=addr(ip='127.0.0.1', port=12865), status='ESTABLISHED', pid=3580),\n",
       " sconn(fd=-1, family=<AddressFamily.AF_INET: 2>, type=<SocketKind.SOCK_STREAM: 1>, laddr=addr(ip='127.0.0.1', port=12893), raddr=addr(ip='127.0.0.1', port=12892), status='ESTABLISHED', pid=5380),\n",
       " sconn(fd=-1, family=<AddressFamily.AF_INET: 2>, type=<SocketKind.SOCK_STREAM: 1>, laddr=addr(ip='127.0.0.1', port=12835), raddr=addr(ip='127.0.0.1', port=12836), status='ESTABLISHED', pid=5380),\n",
       " sconn(fd=-1, family=<AddressFamily.AF_INET: 2>, type=<SocketKind.SOCK_STREAM: 1>, laddr=addr(ip='127.0.0.1', port=12884), raddr=addr(ip='127.0.0.1', port=12883), status='ESTABLISHED', pid=5380),\n",
       " sconn(fd=-1, family=<AddressFamily.AF_INET: 2>, type=<SocketKind.SOCK_STREAM: 1>, laddr=addr(ip='127.0.0.1', port=1001), raddr=(), status='LISTEN', pid=4),\n",
       " sconn(fd=-1, family=<AddressFamily.AF_INET: 2>, type=<SocketKind.SOCK_STREAM: 1>, laddr=addr(ip='127.0.0.1', port=14024), raddr=addr(ip='127.0.0.1', port=14085), status='ESTABLISHED', pid=9100),\n",
       " sconn(fd=-1, family=<AddressFamily.AF_INET: 2>, type=<SocketKind.SOCK_STREAM: 1>, laddr=addr(ip='127.0.0.1', port=12687), raddr=addr(ip='127.0.0.1', port=12688), status='ESTABLISHED', pid=5380),\n",
       " sconn(fd=-1, family=<AddressFamily.AF_INET: 2>, type=<SocketKind.SOCK_STREAM: 1>, laddr=addr(ip='127.0.0.1', port=14033), raddr=addr(ip='127.0.0.1', port=14032), status='ESTABLISHED', pid=4752),\n",
       " sconn(fd=-1, family=<AddressFamily.AF_INET6: 23>, type=<SocketKind.SOCK_DGRAM: 2>, laddr=addr(ip='fe80::3529:c9ed:4716:db39', port=54151), raddr=(), status='NONE', pid=1164),\n",
       " sconn(fd=-1, family=<AddressFamily.AF_INET: 2>, type=<SocketKind.SOCK_STREAM: 1>, laddr=addr(ip='127.0.0.1', port=8513), raddr=addr(ip='127.0.0.1', port=8529), status='ESTABLISHED', pid=7268),\n",
       " sconn(fd=-1, family=<AddressFamily.AF_INET: 2>, type=<SocketKind.SOCK_STREAM: 1>, laddr=addr(ip='127.0.0.1', port=14025), raddr=addr(ip='127.0.0.1', port=14088), status='ESTABLISHED', pid=9100),\n",
       " sconn(fd=-1, family=<AddressFamily.AF_INET6: 23>, type=<SocketKind.SOCK_DGRAM: 2>, laddr=addr(ip='fe80::c851:b996:cd41:34b6', port=54149), raddr=(), status='NONE', pid=1164),\n",
       " sconn(fd=-1, family=<AddressFamily.AF_INET: 2>, type=<SocketKind.SOCK_STREAM: 1>, laddr=addr(ip='127.0.0.1', port=14038), raddr=addr(ip='127.0.0.1', port=14037), status='ESTABLISHED', pid=4752),\n",
       " sconn(fd=-1, family=<AddressFamily.AF_INET: 2>, type=<SocketKind.SOCK_STREAM: 1>, laddr=addr(ip='127.0.0.1', port=8512), raddr=addr(ip='127.0.0.1', port=8571), status='ESTABLISHED', pid=7268),\n",
       " sconn(fd=-1, family=<AddressFamily.AF_INET: 2>, type=<SocketKind.SOCK_STREAM: 1>, laddr=addr(ip='0.0.0.0', port=1538), raddr=(), status='LISTEN', pid=428),\n",
       " sconn(fd=-1, family=<AddressFamily.AF_INET: 2>, type=<SocketKind.SOCK_STREAM: 1>, laddr=addr(ip='127.0.0.1', port=1546), raddr=addr(ip='127.0.0.1', port=1545), status='ESTABLISHED', pid=2812),\n",
       " sconn(fd=-1, family=<AddressFamily.AF_INET6: 23>, type=<SocketKind.SOCK_DGRAM: 2>, laddr=addr(ip='fe80::3529:c9ed:4716:db39', port=1900), raddr=(), status='NONE', pid=1164),\n",
       " sconn(fd=-1, family=<AddressFamily.AF_INET: 2>, type=<SocketKind.SOCK_STREAM: 1>, laddr=addr(ip='127.0.0.1', port=14083), raddr=addr(ip='127.0.0.1', port=14084), status='ESTABLISHED', pid=4752),\n",
       " sconn(fd=-1, family=<AddressFamily.AF_INET: 2>, type=<SocketKind.SOCK_STREAM: 1>, laddr=addr(ip='127.0.0.1', port=12875), raddr=addr(ip='127.0.0.1', port=12876), status='ESTABLISHED', pid=3580),\n",
       " sconn(fd=-1, family=<AddressFamily.AF_INET: 2>, type=<SocketKind.SOCK_STREAM: 1>, laddr=addr(ip='127.0.0.1', port=12844), raddr=addr(ip='127.0.0.1', port=12828), status='ESTABLISHED', pid=5380),\n",
       " sconn(fd=-1, family=<AddressFamily.AF_INET: 2>, type=<SocketKind.SOCK_STREAM: 1>, laddr=addr(ip='127.0.0.1', port=12879), raddr=addr(ip='127.0.0.1', port=12880), status='ESTABLISHED', pid=3580),\n",
       " sconn(fd=-1, family=<AddressFamily.AF_INET: 2>, type=<SocketKind.SOCK_STREAM: 1>, laddr=addr(ip='127.0.0.1', port=8557), raddr=addr(ip='127.0.0.1', port=8558), status='ESTABLISHED', pid=7268),\n",
       " sconn(fd=-1, family=<AddressFamily.AF_INET: 2>, type=<SocketKind.SOCK_STREAM: 1>, laddr=addr(ip='127.0.0.1', port=14057), raddr=addr(ip='127.0.0.1', port=14056), status='ESTABLISHED', pid=9100),\n",
       " sconn(fd=-1, family=<AddressFamily.AF_INET: 2>, type=<SocketKind.SOCK_STREAM: 1>, laddr=addr(ip='127.0.0.1', port=8571), raddr=addr(ip='127.0.0.1', port=8512), status='ESTABLISHED', pid=4752),\n",
       " sconn(fd=-1, family=<AddressFamily.AF_INET6: 23>, type=<SocketKind.SOCK_STREAM: 1>, laddr=addr(ip='::', port=3000), raddr=(), status='LISTEN', pid=8356),\n",
       " sconn(fd=-1, family=<AddressFamily.AF_INET: 2>, type=<SocketKind.SOCK_STREAM: 1>, laddr=addr(ip='127.0.0.1', port=8555), raddr=addr(ip='127.0.0.1', port=8556), status='ESTABLISHED', pid=7268),\n",
       " sconn(fd=-1, family=<AddressFamily.AF_INET: 2>, type=<SocketKind.SOCK_STREAM: 1>, laddr=addr(ip='127.0.0.1', port=12880), raddr=addr(ip='127.0.0.1', port=12879), status='ESTABLISHED', pid=3580),\n",
       " sconn(fd=-1, family=<AddressFamily.AF_INET: 2>, type=<SocketKind.SOCK_STREAM: 1>, laddr=addr(ip='127.0.0.1', port=14056), raddr=addr(ip='127.0.0.1', port=14057), status='ESTABLISHED', pid=9100),\n",
       " sconn(fd=-1, family=<AddressFamily.AF_INET: 2>, type=<SocketKind.SOCK_STREAM: 1>, laddr=addr(ip='127.0.0.1', port=14088), raddr=addr(ip='127.0.0.1', port=14025), status='ESTABLISHED', pid=4752),\n",
       " sconn(fd=-1, family=<AddressFamily.AF_INET: 2>, type=<SocketKind.SOCK_STREAM: 1>, laddr=addr(ip='127.0.0.1', port=12860), raddr=addr(ip='127.0.0.1', port=12861), status='ESTABLISHED', pid=3580),\n",
       " sconn(fd=-1, family=<AddressFamily.AF_INET: 2>, type=<SocketKind.SOCK_STREAM: 1>, laddr=addr(ip='127.0.0.1', port=14026), raddr=(), status='LISTEN', pid=9100),\n",
       " sconn(fd=-1, family=<AddressFamily.AF_INET6: 23>, type=<SocketKind.SOCK_STREAM: 1>, laddr=addr(ip='::', port=1315), raddr=(), status='LISTEN', pid=4),\n",
       " sconn(fd=-1, family=<AddressFamily.AF_INET: 2>, type=<SocketKind.SOCK_STREAM: 1>, laddr=addr(ip='127.0.0.1', port=12828), raddr=addr(ip='127.0.0.1', port=12891), status='ESTABLISHED', pid=3580),\n",
       " sconn(fd=-1, family=<AddressFamily.AF_INET: 2>, type=<SocketKind.SOCK_STREAM: 1>, laddr=addr(ip='127.0.0.1', port=12828), raddr=addr(ip='127.0.0.1', port=12844), status='ESTABLISHED', pid=3580),\n",
       " sconn(fd=-1, family=<AddressFamily.AF_INET: 2>, type=<SocketKind.SOCK_STREAM: 1>, laddr=addr(ip='127.0.0.1', port=14036), raddr=addr(ip='127.0.0.1', port=14026), status='ESTABLISHED', pid=4752),\n",
       " sconn(fd=-1, family=<AddressFamily.AF_INET: 2>, type=<SocketKind.SOCK_DGRAM: 2>, laddr=addr(ip='0.0.0.0', port=68), raddr=(), status='NONE', pid=816),\n",
       " sconn(fd=-1, family=<AddressFamily.AF_INET: 2>, type=<SocketKind.SOCK_STREAM: 1>, laddr=addr(ip='127.0.0.1', port=12885), raddr=addr(ip='127.0.0.1', port=12827), status='ESTABLISHED', pid=5380),\n",
       " sconn(fd=-1, family=<AddressFamily.AF_INET: 2>, type=<SocketKind.SOCK_STREAM: 1>, laddr=addr(ip='127.0.0.1', port=14003), raddr=addr(ip='127.0.0.1', port=14004), status='ESTABLISHED', pid=4752),\n",
       " sconn(fd=-1, family=<AddressFamily.AF_INET: 2>, type=<SocketKind.SOCK_STREAM: 1>, laddr=addr(ip='127.0.0.1', port=14023), raddr=(), status='LISTEN', pid=9100),\n",
       " sconn(fd=-1, family=<AddressFamily.AF_INET: 2>, type=<SocketKind.SOCK_STREAM: 1>, laddr=addr(ip='127.0.0.1', port=8565), raddr=addr(ip='127.0.0.1', port=8566), status='ESTABLISHED', pid=7268),\n",
       " sconn(fd=-1, family=<AddressFamily.AF_INET: 2>, type=<SocketKind.SOCK_STREAM: 1>, laddr=addr(ip='127.0.0.1', port=8574), raddr=addr(ip='127.0.0.1', port=8515), status='ESTABLISHED', pid=4752),\n",
       " sconn(fd=-1, family=<AddressFamily.AF_INET: 2>, type=<SocketKind.SOCK_STREAM: 1>, laddr=addr(ip='127.0.0.1', port=8560), raddr=addr(ip='127.0.0.1', port=8559), status='ESTABLISHED', pid=7268),\n",
       " sconn(fd=-1, family=<AddressFamily.AF_INET: 2>, type=<SocketKind.SOCK_STREAM: 1>, laddr=addr(ip='127.0.0.1', port=8579), raddr=addr(ip='127.0.0.1', port=8578), status='ESTABLISHED', pid=4752),\n",
       " sconn(fd=-1, family=<AddressFamily.AF_INET6: 23>, type=<SocketKind.SOCK_STREAM: 1>, laddr=addr(ip='::', port=8092), raddr=(), status='LISTEN', pid=4),\n",
       " sconn(fd=-1, family=<AddressFamily.AF_INET: 2>, type=<SocketKind.SOCK_STREAM: 1>, laddr=addr(ip='127.0.0.1', port=8515), raddr=(), status='LISTEN', pid=7268),\n",
       " sconn(fd=-1, family=<AddressFamily.AF_INET: 2>, type=<SocketKind.SOCK_STREAM: 1>, laddr=addr(ip='0.0.0.0', port=1314), raddr=(), status='LISTEN', pid=4),\n",
       " sconn(fd=-1, family=<AddressFamily.AF_INET: 2>, type=<SocketKind.SOCK_STREAM: 1>, laddr=addr(ip='127.0.0.1', port=14079), raddr=addr(ip='127.0.0.1', port=14023), status='ESTABLISHED', pid=4752),\n",
       " sconn(fd=-1, family=<AddressFamily.AF_INET: 2>, type=<SocketKind.SOCK_STREAM: 1>, laddr=addr(ip='127.0.0.1', port=12834), raddr=addr(ip='127.0.0.1', port=12833), status='ESTABLISHED', pid=5380),\n",
       " sconn(fd=-1, family=<AddressFamily.AF_INET: 2>, type=<SocketKind.SOCK_DGRAM: 2>, laddr=addr(ip='192.168.0.110', port=54153), raddr=(), status='NONE', pid=1164),\n",
       " sconn(fd=-1, family=<AddressFamily.AF_INET: 2>, type=<SocketKind.SOCK_STREAM: 1>, laddr=addr(ip='127.0.0.1', port=8559), raddr=addr(ip='127.0.0.1', port=8560), status='ESTABLISHED', pid=7268),\n",
       " sconn(fd=-1, family=<AddressFamily.AF_INET: 2>, type=<SocketKind.SOCK_STREAM: 1>, laddr=addr(ip='127.0.0.1', port=14024), raddr=addr(ip='127.0.0.1', port=14039), status='ESTABLISHED', pid=9100),\n",
       " sconn(fd=-1, family=<AddressFamily.AF_INET: 2>, type=<SocketKind.SOCK_DGRAM: 2>, laddr=addr(ip='192.168.0.110', port=1900), raddr=(), status='NONE', pid=1164),\n",
       " sconn(fd=-1, family=<AddressFamily.AF_INET: 2>, type=<SocketKind.SOCK_STREAM: 1>, laddr=addr(ip='127.0.0.1', port=8536), raddr=addr(ip='127.0.0.1', port=8537), status='ESTABLISHED', pid=7268),\n",
       " sconn(fd=-1, family=<AddressFamily.AF_INET: 2>, type=<SocketKind.SOCK_STREAM: 1>, laddr=addr(ip='127.0.0.1', port=12886), raddr=addr(ip='127.0.0.1', port=12887), status='ESTABLISHED', pid=5380),\n",
       " sconn(fd=-1, family=<AddressFamily.AF_INET: 2>, type=<SocketKind.SOCK_STREAM: 1>, laddr=addr(ip='0.0.0.0', port=135), raddr=(), status='LISTEN', pid=912),\n",
       " sconn(fd=-1, family=<AddressFamily.AF_INET: 2>, type=<SocketKind.SOCK_DGRAM: 2>, laddr=addr(ip='192.168.0.110', port=138), raddr=(), status='NONE', pid=4),\n",
       " sconn(fd=-1, family=<AddressFamily.AF_INET: 2>, type=<SocketKind.SOCK_STREAM: 1>, laddr=addr(ip='127.0.0.1', port=14085), raddr=addr(ip='127.0.0.1', port=14024), status='ESTABLISHED', pid=4752),\n",
       " sconn(fd=-1, family=<AddressFamily.AF_INET: 2>, type=<SocketKind.SOCK_STREAM: 1>, laddr=addr(ip='127.0.0.1', port=12859), raddr=addr(ip='127.0.0.1', port=12858), status='ESTABLISHED', pid=3580),\n",
       " sconn(fd=-1, family=<AddressFamily.AF_INET6: 23>, type=<SocketKind.SOCK_STREAM: 1>, laddr=addr(ip='::1', port=8889), raddr=addr(ip='::1', port=8511), status='ESTABLISHED', pid=4752),\n",
       " sconn(fd=-1, family=<AddressFamily.AF_INET: 2>, type=<SocketKind.SOCK_DGRAM: 2>, laddr=addr(ip='169.254.136.33', port=138), raddr=(), status='NONE', pid=4),\n",
       " sconn(fd=-1, family=<AddressFamily.AF_INET: 2>, type=<SocketKind.SOCK_STREAM: 1>, laddr=addr(ip='127.0.0.1', port=14082), raddr=addr(ip='127.0.0.1', port=14026), status='ESTABLISHED', pid=4752),\n",
       " sconn(fd=-1, family=<AddressFamily.AF_INET: 2>, type=<SocketKind.SOCK_STREAM: 1>, laddr=addr(ip='127.0.0.1', port=12855), raddr=addr(ip='127.0.0.1', port=12854), status='ESTABLISHED', pid=3580),\n",
       " sconn(fd=-1, family=<AddressFamily.AF_INET: 2>, type=<SocketKind.SOCK_STREAM: 1>, laddr=addr(ip='127.0.0.1', port=14081), raddr=addr(ip='127.0.0.1', port=14080), status='ESTABLISHED', pid=4752),\n",
       " sconn(fd=-1, family=<AddressFamily.AF_INET: 2>, type=<SocketKind.SOCK_STREAM: 1>, laddr=addr(ip='127.0.0.1', port=14074), raddr=addr(ip='127.0.0.1', port=14073), status='ESTABLISHED', pid=9100),\n",
       " sconn(fd=-1, family=<AddressFamily.AF_INET: 2>, type=<SocketKind.SOCK_DGRAM: 2>, laddr=addr(ip='192.168.19.2', port=54155), raddr=(), status='NONE', pid=1164),\n",
       " sconn(fd=-1, family=<AddressFamily.AF_INET: 2>, type=<SocketKind.SOCK_STREAM: 1>, laddr=addr(ip='127.0.0.1', port=8515), raddr=addr(ip='127.0.0.1', port=8574), status='ESTABLISHED', pid=7268),\n",
       " sconn(fd=-1, family=<AddressFamily.AF_INET: 2>, type=<SocketKind.SOCK_STREAM: 1>, laddr=addr(ip='0.0.0.0', port=1315), raddr=(), status='LISTEN', pid=4),\n",
       " sconn(fd=-1, family=<AddressFamily.AF_INET6: 23>, type=<SocketKind.SOCK_DGRAM: 2>, laddr=addr(ip='fe80::10b6:f494:2336:27d5', port=546), raddr=(), status='NONE', pid=816),\n",
       " sconn(fd=-1, family=<AddressFamily.AF_INET: 2>, type=<SocketKind.SOCK_DGRAM: 2>, laddr=addr(ip='169.254.136.33', port=2177), raddr=(), status='NONE', pid=1164),\n",
       " sconn(fd=-1, family=<AddressFamily.AF_INET: 2>, type=<SocketKind.SOCK_STREAM: 1>, laddr=addr(ip='127.0.0.1', port=8556), raddr=addr(ip='127.0.0.1', port=8555), status='ESTABLISHED', pid=7268),\n",
       " sconn(fd=-1, family=<AddressFamily.AF_INET6: 23>, type=<SocketKind.SOCK_STREAM: 1>, laddr=addr(ip='::', port=1314), raddr=(), status='LISTEN', pid=4),\n",
       " sconn(fd=-1, family=<AddressFamily.AF_INET: 2>, type=<SocketKind.SOCK_DGRAM: 2>, laddr=addr(ip='192.168.19.2', port=138), raddr=(), status='NONE', pid=4),\n",
       " sconn(fd=-1, family=<AddressFamily.AF_INET: 2>, type=<SocketKind.SOCK_STREAM: 1>, laddr=addr(ip='127.0.0.1', port=12889), raddr=addr(ip='127.0.0.1', port=12890), status='ESTABLISHED', pid=5380),\n",
       " sconn(fd=-1, family=<AddressFamily.AF_INET: 2>, type=<SocketKind.SOCK_STREAM: 1>, laddr=addr(ip='127.0.0.1', port=8518), raddr=addr(ip='127.0.0.1', port=8517), status='ESTABLISHED', pid=4752),\n",
       " sconn(fd=-1, family=<AddressFamily.AF_INET: 2>, type=<SocketKind.SOCK_STREAM: 1>, laddr=addr(ip='0.0.0.0', port=443), raddr=(), status='LISTEN', pid=3692)]"
      ]
     },
     "execution_count": 15,
     "metadata": {},
     "output_type": "execute_result"
    }
   ],
   "source": [
    "psutil.net_connections()"
   ]
  },
  {
   "cell_type": "code",
   "execution_count": 16,
   "metadata": {},
   "outputs": [
    {
     "data": {
      "text/plain": [
       "[0,\n",
       " 4,\n",
       " 328,\n",
       " 408,\n",
       " 428,\n",
       " 444,\n",
       " 500,\n",
       " 504,\n",
       " 608,\n",
       " 616,\n",
       " 628,\n",
       " 684,\n",
       " 704,\n",
       " 768,\n",
       " 784,\n",
       " 816,\n",
       " 852,\n",
       " 868,\n",
       " 912,\n",
       " 1000,\n",
       " 1164,\n",
       " 1332,\n",
       " 1452,\n",
       " 1468,\n",
       " 1536,\n",
       " 1764,\n",
       " 1808,\n",
       " 1820,\n",
       " 1876,\n",
       " 1880,\n",
       " 1892,\n",
       " 1908,\n",
       " 2068,\n",
       " 2080,\n",
       " 2092,\n",
       " 2112,\n",
       " 2204,\n",
       " 2224,\n",
       " 2248,\n",
       " 2284,\n",
       " 2324,\n",
       " 2344,\n",
       " 2352,\n",
       " 2372,\n",
       " 2404,\n",
       " 2424,\n",
       " 2460,\n",
       " 2472,\n",
       " 2480,\n",
       " 2540,\n",
       " 2600,\n",
       " 2788,\n",
       " 2812,\n",
       " 2820,\n",
       " 2836,\n",
       " 3564,\n",
       " 3580,\n",
       " 3692,\n",
       " 3752,\n",
       " 3760,\n",
       " 3800,\n",
       " 3828,\n",
       " 3852,\n",
       " 3884,\n",
       " 4036,\n",
       " 4148,\n",
       " 4156,\n",
       " 4176,\n",
       " 4192,\n",
       " 4340,\n",
       " 4472,\n",
       " 4492,\n",
       " 4520,\n",
       " 4608,\n",
       " 4672,\n",
       " 4688,\n",
       " 4752,\n",
       " 4856,\n",
       " 4940,\n",
       " 5152,\n",
       " 5280,\n",
       " 5308,\n",
       " 5380,\n",
       " 5416,\n",
       " 5528,\n",
       " 5544,\n",
       " 5552,\n",
       " 5564,\n",
       " 5668,\n",
       " 5740,\n",
       " 5992,\n",
       " 6032,\n",
       " 6108,\n",
       " 6120,\n",
       " 6156,\n",
       " 6252,\n",
       " 6508,\n",
       " 6564,\n",
       " 6620,\n",
       " 6800,\n",
       " 6880,\n",
       " 6896,\n",
       " 6936,\n",
       " 6996,\n",
       " 7268,\n",
       " 7336,\n",
       " 7364,\n",
       " 7432,\n",
       " 7484,\n",
       " 7792,\n",
       " 7944,\n",
       " 8044,\n",
       " 8220,\n",
       " 8252,\n",
       " 8332,\n",
       " 8356,\n",
       " 8372,\n",
       " 8392,\n",
       " 8492,\n",
       " 8660,\n",
       " 8684,\n",
       " 8688,\n",
       " 8968,\n",
       " 9100,\n",
       " 9132]"
      ]
     },
     "execution_count": 16,
     "metadata": {},
     "output_type": "execute_result"
    }
   ],
   "source": [
    " psutil.pids() # 所有进程ID"
   ]
  },
  {
   "cell_type": "code",
   "execution_count": 34,
   "metadata": {},
   "outputs": [
    {
     "data": {
      "text/plain": [
       "'jupyter.exe'"
      ]
     },
     "execution_count": 34,
     "metadata": {},
     "output_type": "execute_result"
    }
   ],
   "source": [
    "p = psutil.Process(7792) # 获取指定进程ID=3776，其实就是当前Python交互环境\n",
    "p.name() # 进程名称"
   ]
  },
  {
   "cell_type": "code",
   "execution_count": 33,
   "metadata": {},
   "outputs": [
    {
     "data": {
      "text/plain": [
       "'G:\\\\python'"
      ]
     },
     "execution_count": 33,
     "metadata": {},
     "output_type": "execute_result"
    }
   ],
   "source": [
    "p.cwd() # 进程工作目录"
   ]
  },
  {
   "cell_type": "code",
   "execution_count": 35,
   "metadata": {},
   "outputs": [
    {
     "data": {
      "text/plain": [
       "'E:\\\\Anaconda3\\\\Scripts\\\\jupyter.exe'"
      ]
     },
     "execution_count": 35,
     "metadata": {},
     "output_type": "execute_result"
    }
   ],
   "source": [
    " p.exe() # 进程exe路径"
   ]
  },
  {
   "cell_type": "code",
   "execution_count": 36,
   "metadata": {},
   "outputs": [
    {
     "data": {
      "text/plain": [
       "['jupyter', 'notebook']"
      ]
     },
     "execution_count": 36,
     "metadata": {},
     "output_type": "execute_result"
    }
   ],
   "source": [
    " p.cmdline() # 进程启动的命令行"
   ]
  },
  {
   "cell_type": "code",
   "execution_count": 37,
   "metadata": {},
   "outputs": [
    {
     "data": {
      "text/plain": [
       "8492"
      ]
     },
     "execution_count": 37,
     "metadata": {},
     "output_type": "execute_result"
    }
   ],
   "source": [
    " p.ppid() # 父进程ID"
   ]
  },
  {
   "cell_type": "code",
   "execution_count": 38,
   "metadata": {},
   "outputs": [
    {
     "data": {
      "text/plain": [
       "psutil.Process(pid=8492, name='cmd.exe', started='2020-09-25 10:25:42')"
      ]
     },
     "execution_count": 38,
     "metadata": {},
     "output_type": "execute_result"
    }
   ],
   "source": [
    "p.parent() # 父进程"
   ]
  },
  {
   "cell_type": "code",
   "execution_count": 39,
   "metadata": {},
   "outputs": [
    {
     "data": {
      "text/plain": [
       "[psutil.Process(pid=1332, name='python.exe', started='2020-09-25 10:26:14')]"
      ]
     },
     "execution_count": 39,
     "metadata": {},
     "output_type": "execute_result"
    }
   ],
   "source": [
    "p.children() # 子进程列表"
   ]
  },
  {
   "cell_type": "code",
   "execution_count": 40,
   "metadata": {},
   "outputs": [
    {
     "data": {
      "text/plain": [
       "'running'"
      ]
     },
     "execution_count": 40,
     "metadata": {},
     "output_type": "execute_result"
    }
   ],
   "source": [
    "p.status() # 进程状态"
   ]
  },
  {
   "cell_type": "code",
   "execution_count": 41,
   "metadata": {},
   "outputs": [
    {
     "data": {
      "text/plain": [
       "'DESKTOP-TIGDIH4\\\\Administrator'"
      ]
     },
     "execution_count": 41,
     "metadata": {},
     "output_type": "execute_result"
    }
   ],
   "source": [
    " p.username() # 进程用户名"
   ]
  },
  {
   "cell_type": "code",
   "execution_count": 42,
   "metadata": {},
   "outputs": [
    {
     "data": {
      "text/plain": [
       "1601000774.0"
      ]
     },
     "execution_count": 42,
     "metadata": {},
     "output_type": "execute_result"
    }
   ],
   "source": [
    "p.create_time() # 进程创建时间"
   ]
  },
  {
   "cell_type": "code",
   "execution_count": 44,
   "metadata": {},
   "outputs": [
    {
     "data": {
      "text/plain": [
       "pcputimes(user=0.0, system=0.015625, children_user=0.0, children_system=0.0)"
      ]
     },
     "execution_count": 44,
     "metadata": {},
     "output_type": "execute_result"
    }
   ],
   "source": [
    " p.cpu_times() # 进程使用的CPU时间"
   ]
  },
  {
   "cell_type": "code",
   "execution_count": 45,
   "metadata": {},
   "outputs": [
    {
     "data": {
      "text/plain": [
       "pmem(rss=1126400, vms=1265664, num_page_faults=1455, peak_wset=4640768, wset=1126400, peak_paged_pool=152840, paged_pool=152568, peak_nonpaged_pool=6784, nonpaged_pool=5840, pagefile=1265664, peak_pagefile=1355776, private=1265664)"
      ]
     },
     "execution_count": 45,
     "metadata": {},
     "output_type": "execute_result"
    }
   ],
   "source": [
    "p.memory_info() # 进程使用的内存"
   ]
  },
  {
   "cell_type": "code",
   "execution_count": 46,
   "metadata": {},
   "outputs": [
    {
     "data": {
      "text/plain": [
       "[]"
      ]
     },
     "execution_count": 46,
     "metadata": {},
     "output_type": "execute_result"
    }
   ],
   "source": [
    "p.open_files() # 进程打开的文件"
   ]
  },
  {
   "cell_type": "code",
   "execution_count": 47,
   "metadata": {},
   "outputs": [
    {
     "data": {
      "text/plain": [
       "[]"
      ]
     },
     "execution_count": 47,
     "metadata": {},
     "output_type": "execute_result"
    }
   ],
   "source": [
    "p.connections() # 进程相关网络连接"
   ]
  },
  {
   "cell_type": "code",
   "execution_count": 48,
   "metadata": {},
   "outputs": [
    {
     "data": {
      "text/plain": [
       "1"
      ]
     },
     "execution_count": 48,
     "metadata": {},
     "output_type": "execute_result"
    }
   ],
   "source": [
    "p.num_threads() # 进程的线程数量"
   ]
  },
  {
   "cell_type": "code",
   "execution_count": 49,
   "metadata": {},
   "outputs": [
    {
     "data": {
      "text/plain": [
       "[pthread(id=4412, user_time=0.0, system_time=0.0)]"
      ]
     },
     "execution_count": 49,
     "metadata": {},
     "output_type": "execute_result"
    }
   ],
   "source": [
    "p.threads() # 所有线程信息"
   ]
  },
  {
   "cell_type": "code",
   "execution_count": 50,
   "metadata": {},
   "outputs": [
    {
     "data": {
      "text/plain": [
       "{'ALLUSERSPROFILE': 'C:\\\\ProgramData',\n",
       " 'APPDATA': 'C:\\\\Users\\\\Administrator\\\\AppData\\\\Roaming',\n",
       " 'CHOCOLATEYINSTALL': 'C:\\\\ProgramData\\\\chocolatey',\n",
       " 'CHOCOLATEYLASTPATHUPDATE': '132084235915037789',\n",
       " 'COMMONPROGRAMFILES': 'C:\\\\Program Files\\\\Common Files',\n",
       " 'COMMONPROGRAMFILES(X86)': 'C:\\\\Program Files (x86)\\\\Common Files',\n",
       " 'COMMONPROGRAMW6432': 'C:\\\\Program Files\\\\Common Files',\n",
       " 'COMPUTERNAME': 'DESKTOP-TIGDIH4',\n",
       " 'COMSPEC': 'C:\\\\WINDOWS\\\\system32\\\\cmd.exe',\n",
       " 'FPS_BROWSER_APP_PROFILE_STRING': 'Internet Explorer',\n",
       " 'FPS_BROWSER_USER_PROFILE_STRING': 'Default',\n",
       " 'HOMEDRIVE': 'C:',\n",
       " 'HOMEPATH': '\\\\Users\\\\Administrator',\n",
       " 'LOCALAPPDATA': 'C:\\\\Users\\\\Administrator\\\\AppData\\\\Local',\n",
       " 'LOGONSERVER': '\\\\\\\\DESKTOP-TIGDIH4',\n",
       " 'NODE_PATH': 'E:\\\\Program Files (x86)\\\\nodejs\\\\node_global\\\\node_modules',\n",
       " 'NUMBER_OF_PROCESSORS': '4',\n",
       " 'OS': 'Windows_NT',\n",
       " 'PATH': 'E:\\\\;E:\\\\Anaconda3;E:\\\\Anaconda3\\\\Library\\\\mingw-w64\\\\bin;E:\\\\Anaconda3\\\\Library\\\\usr\\\\bin;E:\\\\Anaconda3\\\\Library\\\\bin;E:\\\\Anaconda3\\\\Scripts;C:\\\\Python27\\\\;C:\\\\Python27\\\\Scripts;C:\\\\WINDOWS\\\\system32;C:\\\\WINDOWS;C:\\\\WINDOWS\\\\System32\\\\Wbem;C:\\\\WINDOWS\\\\System32\\\\WindowsPowerShell\\\\v1.0\\\\;C:\\\\ProgramData\\\\chocolatey\\\\bin;C:\\\\Program Files\\\\Microsoft SQL Server\\\\130\\\\Tools\\\\Binn\\\\;D:\\\\快捷方式;C:\\\\Program Files\\\\Git\\\\cmd;E:\\\\mongodb\\\\bin;E:\\\\Program Files (x86)\\\\nodejs\\\\;E:\\\\Program Files (x86)\\\\nodejs\\\\node_global;C:\\\\Program Files\\\\Microsoft\\\\Web Platform Installer\\\\;C:\\\\Program Files\\\\TortoiseSVN\\\\bin;E:\\\\python;E:\\\\mySql\\\\mysql-8.0.19-winx64\\\\bin;E:\\\\mingw64\\\\bin;E:\\\\Microsoft VS Code\\\\bin;C:\\\\Users\\\\Administrator\\\\AppData\\\\Roaming\\\\npm;E:\\\\PyCharm 2019.2.6\\\\bin',\n",
       " 'PATHEXT': '.COM;.EXE;.BAT;.CMD;.VBS;.VBE;.JS;.JSE;.WSF;.WSH;.MSC',\n",
       " 'PROCESSOR_ARCHITECTURE': 'AMD64',\n",
       " 'PROCESSOR_IDENTIFIER': 'Intel64 Family 6 Model 61 Stepping 4, GenuineIntel',\n",
       " 'PROCESSOR_LEVEL': '6',\n",
       " 'PROCESSOR_REVISION': '3d04',\n",
       " 'PROGRAMDATA': 'C:\\\\ProgramData',\n",
       " 'PROGRAMFILES': 'C:\\\\Program Files',\n",
       " 'PROGRAMFILES(X86)': 'C:\\\\Program Files (x86)',\n",
       " 'PROGRAMW6432': 'C:\\\\Program Files',\n",
       " 'PROMPT': '$P$G',\n",
       " 'PSMODULEPATH': 'C:\\\\WINDOWS\\\\system32\\\\WindowsPowerShell\\\\v1.0\\\\Modules\\\\',\n",
       " 'PUBLIC': 'C:\\\\Users\\\\Public',\n",
       " 'PYCHARM': 'E:\\\\PyCharm 2019.2.6\\\\bin;',\n",
       " 'PYTHON_HOME3': 'E:\\\\python',\n",
       " 'SESSIONNAME': 'Console',\n",
       " 'SYSTEMDRIVE': 'C:',\n",
       " 'SYSTEMROOT': 'C:\\\\WINDOWS',\n",
       " 'TEMP': 'C:\\\\Users\\\\ADMINI~1\\\\AppData\\\\Local\\\\Temp',\n",
       " 'TMP': 'C:\\\\Users\\\\ADMINI~1\\\\AppData\\\\Local\\\\Temp',\n",
       " 'USERDOMAIN': 'DESKTOP-TIGDIH4',\n",
       " 'USERDOMAIN_ROAMINGPROFILE': 'DESKTOP-TIGDIH4',\n",
       " 'USERNAME': 'Administrator',\n",
       " 'USERPROFILE': 'C:\\\\Users\\\\Administrator',\n",
       " 'WINDIR': 'C:\\\\WINDOWS',\n",
       " 'WXDRIVE_START_ARGS': '--wxdrive-setting=0 --disable-gpu --disable-software-rasterizer --enable-features=NetworkServiceInProcess'}"
      ]
     },
     "execution_count": 50,
     "metadata": {},
     "output_type": "execute_result"
    }
   ],
   "source": [
    " p.environ() # 进程环境变量"
   ]
  },
  {
   "cell_type": "code",
   "execution_count": 51,
   "metadata": {},
   "outputs": [],
   "source": [
    " p.terminate() # 结束进程"
   ]
  },
  {
   "cell_type": "code",
   "execution_count": 52,
   "metadata": {},
   "outputs": [
    {
     "name": "stdout",
     "output_type": "stream",
     "text": [
      "USER         PID  %MEM     VSZ     RSS  NICE STATUS  START   TIME  CMDLINE\n",
      "SYSTEM         0   0.0    0.0B    4.0K        runni  Sep24  53:12  System Idle Process\n",
      "SYSTEM         4   4.1    1.2M  331.9M        runni  Sep24  41:37  System\n",
      "             328   0.0  340.0K  220.0K        runni  Sep24  00:00  smss.exe\n",
      "             408   0.2   10.7M   15.2M        runni  Sep24  01:13  svchost.exe\n",
      "             428   0.4   17.9M   31.9M        runni  Sep24  00:59  svchost.exe\n",
      "             444   0.0    2.1M    3.9M        runni  Sep24  00:00  LenovoUpdate.exe\n",
      "             500   1.1   92.6M   92.7M        runni  Sep24  08:12  svchost.exe\n",
      "             504   0.0    1.3M    1.6M        runni  Sep24  00:02  csrss.exe\n",
      "             608   0.0  952.0K  628.0K        runni  Sep24  00:00  wininit.exe\n",
      "Administr    616   1.6  100.6M  126.3M    32  runni  Sep25  03:12  C:\\Program Files (x86)\\Google\\Chrome\\Application\\chro\n",
      "             628   0.2    2.3M   13.3M        runni  Sep24  01:04  csrss.exe\n",
      "             684   0.1    2.8M    4.8M        runni  Sep24  00:06  services.exe\n",
      "             704   0.1    4.7M    9.2M        runni  Sep24  00:11  lsass.exe\n",
      "Administr    716   0.7   20.8M   52.9M    32  runni  10:49  00:17  C:\\WINDOWS\\System32\\Taskmgr.exe /2\n",
      "             768   0.1    2.2M    4.6M        runni  Sep24  00:00  winlogon.exe\n",
      "Administr    784   0.0    7.1M    2.0M    32  runni  Sep24  00:00  C:\\Users\\ADMINI~1\\AppData\\Local\\Temp\\vscode-update-us\n",
      "             816   0.2   14.9M   18.9M        runni  Sep24  00:13  svchost.exe\n",
      "             852   0.1    5.5M   10.3M        runni  Sep24  00:35  svchost.exe\n",
      "             868   0.2    7.5M   13.7M        runni  Sep24  00:07  svchost.exe\n",
      "             912   0.1    3.9M    5.9M        runni  Sep24  00:25  svchost.exe\n",
      "            1000   0.7   50.5M   54.2M        runni  Sep24  04:43  dwm.exe\n",
      "            1164   0.1    3.9M    7.0M        runni  Sep24  00:07  svchost.exe\n",
      "            1452   0.0    1.8M    3.5M        runni  Sep24  00:00  igfxCUIService.exe\n",
      "            1468   0.0  880.0K  772.0K        runni  Sep24  00:00  dasHost.exe\n",
      "Administr   1536   0.9   40.3M   73.0M    32  stopp  Sep24  00:21  C:\\Windows\\SystemApps\\ShellExperienceHost_cw5n1h2txye\n",
      "            1764   0.2   14.3M   18.4M        runni  Sep24  00:28  svchost.exe\n",
      "Administr   1808   0.0    5.4M    1.8M    32  runni  Sep24  00:00  C:\\Program Files\\Realtek\\Audio\\HDA\\RAVBg64.exe /LENOV\n",
      "Administr   1820   0.0    1.8M    1.0M    32  runni  Sep24  00:21  \\\\?\\E:\\Microsoft VS Code\\resources\\app\\node_modules.a\n",
      "Administr   1876   0.0    5.0M    2.2M    32  runni  Sep24  00:00  c:\\Users\\Administrator\\.vscode\\extensions\\ms-vscode.c\n",
      "Administr   1880   1.0   57.6M   84.5M    32  stopp  Sep24  01:58  C:\\WINDOWS\\SystemApps\\Microsoft.Windows.Cortana_cw5n1\n",
      "            1892   0.1    6.1M    5.3M        runni  Sep24  00:00  spoolsv.exe\n",
      "Administr   1908   0.0    2.7M    3.7M    32  runni  Sep24  00:01  C:\\Program Files\\Apoint2K\\Apoint.exe\n",
      "            2068   0.0    3.2M    1.8M        runni  Sep24  00:00  svchost.exe\n",
      "            2080   0.0    4.0M    3.3M        runni  Sep24  00:00  svchost.exe\n",
      "Administr   2092   0.2    4.7M   13.4M    32  runni  Sep24  00:02  sihost.exe\n",
      "            2112   0.0    2.2M    2.2M        runni  Sep24  00:01  AGMService.exe\n",
      "            2204   0.0    6.7M    1.6M        runni  Sep24  00:00  mysqld.exe\n",
      "            2224   0.0  872.0K    1.1M        runni  Sep24  00:00  HidMonitorSvc.exe\n",
      "Administr   2248   0.0    9.8M  908.0K    32  runni  Sep24  00:00  \\??\\C:\\WINDOWS\\system32\\conhost.exe 0x4\n",
      "            2284   0.1   17.1M   10.2M        runni  Sep24  00:04  QQProtect.exe\n",
      "            2324   0.0    1.7M    2.1M        runni  Sep24  00:00  FNPLicensingService.exe\n",
      "            2344   0.0  860.0K    1.9M        runni  Sep24  00:00  ibtsiva.exe\n",
      "            2352   0.1    4.7M    9.1M        runni  Sep24  00:13  svchost.exe\n",
      "Administr   2372   0.3   26.1M   24.7M    32  runni  Sep24  00:21  node E:\\Program Files (x86)\\nodejs\\node_global\\node_m\n",
      "            2404   0.1    8.6M    5.6M        runni  Sep24  00:37  vmware-authd.exe\n",
      "            2424   0.1    3.8M    4.7M        runni  Sep24  00:00  svchost.exe\n",
      "            2460   2.3  151.1M  189.6M        runni  Sep24  09:29  MsMpEng.exe\n",
      "            2472   0.0    1.6M    1.5M        runni  Sep24  00:00  sqlwriter.exe\n",
      "Administr   2480   0.1    6.8M    9.0M    32  runni  Sep24  01:48  taskhostw.exe {222A245B-E637-4AE9-A93F-A59CA119A75E}\n",
      "            2540   0.4   51.6M   32.7M        runni  Sep24  03:50  SearchIndexer.exe\n",
      "Administr   2600   0.1    6.9M    9.8M    32  runni  Sep24  00:01  taskhostw.exe Time\n",
      "            2788   0.1    2.5M    4.1M        runni  Sep24  00:00  vmware-usbarbitrator64.exe\n",
      "            2812   0.2  509.0M   13.0M        runni  Sep24  00:26  mysqld.exe\n",
      "            2820   0.0  880.0K  924.0K        runni  Sep24  00:00  conhost.exe\n",
      "Administr   2836   0.0    7.9M    1.2M    32  runni  Sep25  00:00  E:\\Anaconda3\\python.exe E:\\Anaconda3\\cwp.py E:\\Anacon\n",
      "Administr   3552   0.1    3.2M   10.2M    32  runni  10:56  00:00  E:\\Program Files (x86)\\sogoupinyin\\8.3.0.9576\\SGDownl\n",
      "            3564   0.0    1.1M    1.7M        runni  Sep24  00:00  unsecapp.exe\n",
      "Administr   3580   0.0   42.2M    1.7M    32  runni  Sep25  00:01  E:/Anaconda3\\python.exe -m ipykernel_launcher -f C:\\U\n",
      "            3692   0.2   34.1M   18.8M        runni  Sep24  00:07  vmware-hostd.exe\n",
      "Administr   3752   0.0    1.2M    1.1M    32  runni  Sep25  00:00  E:\\Anaconda3\\Scripts\\jupyter-notebook.EXE\n",
      "Administr   3760   2.4  127.2M  194.4M    32  runni  Sep25  08:44  C:\\Program Files (x86)\\Google\\Chrome\\Application\\chro\n",
      "Administr   3800   0.2    4.3M   13.3M    32  runni  Sep24  00:00  C:\\Windows\\System32\\InputMethod\\CHS\\ChsIME.exe -Embed\n",
      "Administr   3828   0.0    9.4M    2.9M    32  runni  Sep24  00:00  e:\\Microsoft VS Code\\resources\\app\\out\\vs\\platform\\fi\n",
      "Administr   3852   0.0    6.3M    2.0M    32  runni  Sep24  00:00  E:\\Microsoft VS Code\\Code.exe --no-rate-limit --no-up\n",
      "Administr   3884   0.1   22.7M    4.4M    32  runni  Sep24  00:11  C:\\Users\\ADMINI~1\\AppData\\Local\\Temp\\is-Q2OLN.tmp\\Cod\n",
      "Administr   4036   0.5   28.2M   43.0M    64  runni  10:33  00:09  C:\\Program Files (x86)\\Google\\Chrome\\Application\\chro\n",
      "Administr   4148   0.1    3.7M    4.8M    32  runni  Sep24  00:00  igfxEM.exe\n",
      "Administr   4156   0.0    2.0M    1.7M    32  runni  Sep24  00:00  igfxHK.exe\n",
      "Administr   4176   0.0    3.0M    3.8M    32  runni  Sep24  00:00  igfxTray.exe\n",
      "Administr   4192   0.0    4.0M    2.1M    32  runni  Sep24  00:14  \\??\\C:\\WINDOWS\\system32\\conhost.exe 0x4\n",
      "Administr   4340   0.0    1.5M    1.3M    32  runni  Sep24  00:20  C:\\Program Files\\Apoint2K\\ApMsgFwd.exe -s{05FA8492-C0\n",
      "Administr   4472   0.0  904.0K    1.5M    32  runni  Sep24  00:00  C:\\Program Files\\Apoint2K\\HidFind.exe\n",
      "Administr   4492   0.0    1.4M    1.8M    32  runni  Sep24  00:00  Apntex.exe\n",
      "Administr   4520   0.0   10.1M    2.0M    32  runni  Sep24  00:00  \\??\\C:\\WINDOWS\\system32\\conhost.exe 0x4\n",
      "Administr   4608   0.0    5.3M    1.9M    32  runni  Sep24  00:00  C:\\Program Files\\Realtek\\Audio\\HDA\\RAVBg64.exe /LENOV\n",
      "Administr   4672   0.3   11.2M   25.3M    32  runni  Sep24  00:10  C:\\Windows\\System32\\RuntimeBroker.exe -Embedding\n",
      "            4688   0.1    7.5M   10.9M        runni  Sep25  00:00  vmnetdhcp.exe\n",
      "Administr   4752   0.4   57.8M   30.6M    32  runni  Sep25  00:05  E:\\Anaconda3\\python.exe E:\\Anaconda3\\Scripts\\jupyter-\n",
      "Administr   4856   0.5   70.8M   42.2M    32  runni  Sep24  00:01  C:\\WINDOWS\\System32\\WindowsPowerShell\\v1.0\\powershell\n",
      "Administr   4940   0.2    6.0M   12.4M    32  runni  Sep25  00:00  C:\\Program Files (x86)\\Google\\Chrome\\Application\\chro\n",
      "Administr   5152   0.1    7.0M    7.2M    32  runni  Sep24  00:00  C:\\WINDOWS\\SysWOW64\\IME\\SogouPY\\SogouImeBroker.exe -E\n",
      "Administr   5280   0.0    4.7M    2.1M    32  runni  Sep24  00:00  C:\\WINDOWS\\SysWOW64\\IME\\SogouPY\\SogouImeLoader.exe\n",
      "Administr   5308   0.1   16.5M    6.3M    32  runni  Sep24  00:00  E:\\Microsoft VS Code\\Code.exe e:\\Microsoft VS Code\\re\n",
      "Administr   5380   0.1   52.5M    4.6M    32  runni  Sep25  00:03  E:\\Anaconda3\\python.exe E:\\Anaconda3\\Scripts\\jupyter-\n",
      "Administr   5416   0.5   47.4M   43.0M    32  runni  Sep24  01:54  E:\\Microsoft VS Code\\Code.exe\n",
      "            5524   0.1    1.2M    5.9M        runni  10:55  00:00  SearchFilterHost.exe\n",
      "Administr   5528   0.0    6.7M    2.9M    32  runni  Sep24  00:00  C:\\Program Files\\TortoiseSVN\\bin\\TSVNCache.exe\n",
      "Administr   5544   0.4  111.7M   33.4M    32  runni  Sep24  00:15  E:\\Microsoft VS Code\\Code.exe --inspect-port=0 e:\\Mic\n"
     ]
    },
    {
     "name": "stdout",
     "output_type": "stream",
     "text": [
      "Administr   5552   0.1    8.8M    9.2M    32  runni  Sep24  00:00  E:\\vmware\\vmware-tray.exe\n",
      "            5564   0.1    6.9M   11.8M        runni  Sep24  01:48  WmiPrvSE.exe\n",
      "Administr   5668   0.0    2.1M    1.6M    32  runni  Sep24  00:00  C:\\WINDOWS\\system32\\svchost.exe -k UnistackSvcGroup\n",
      "Administr   5740   0.0    5.3M    2.3M    32  runni  Sep24  00:14  \\??\\C:\\WINDOWS\\system32\\conhost.exe 0x4\n",
      "Administr   5924   0.1    1.3M    6.6M    32  runni  10:52  00:00  taskeng.exe {EE55AAF3-5BA8-49E5-8B03-9217D9EF6B05}\n",
      "Administr   5992   0.3   43.3M   21.2M    32  runni  Sep24  02:39  E:\\Program Files (x86)\\sogoupinyin\\8.3.0.9576\\SogouCl\n",
      "Administr   6032   0.0    3.6M    3.1M    32  runni  Sep24  00:00  C:\\Program Files\\Realtek\\Audio\\HDA\\RAVCpl64.exe -s\n",
      "Administr   6108   0.0    5.3M    1.8M    32  runni  Sep24  00:00  C:\\Program Files\\Realtek\\Audio\\HDA\\RAVBg64.exe /FORPC\n",
      "Administr   6120   0.5   52.1M   41.1M    32  runni  Sep24  01:33  E:\\Microsoft VS Code\\Code.exe --type=renderer --disab\n",
      "Administr   6156   1.1   74.2M   92.2M    64  runni  Sep25  09:51  C:\\Program Files (x86)\\Google\\Chrome\\Application\\chro\n",
      "Administr   6252   1.3  159.1M  101.8M    32  runni  Sep24  00:51  E:\\Microsoft VS Code\\Code.exe --type=gpu-process --fi\n",
      "Administr   6408   0.3    8.0M   22.0M    32  runni  10:56  00:00  E:\\Program Files (x86)\\sogoupinyin\\8.3.0.9576\\PinyinU\n",
      "Administr   6564   0.5   71.2M   41.7M    32  runni  Sep24  00:01  C:\\WINDOWS\\System32\\WindowsPowerShell\\v1.0\\powershell\n",
      "Administr   6620   0.3   18.0M   20.3M    32  runni  Sep25  00:12  \\??\\C:\\WINDOWS\\system32\\conhost.exe 0x4\n",
      "Administr   6800   0.0    9.8M  892.0K    32  runni  Sep24  00:00  \\??\\C:\\WINDOWS\\system32\\conhost.exe 0x4\n",
      "Administr   6880   0.0    9.2M    3.2M    32  runni  Sep24  00:02  c:\\Users\\Administrator\\.vscode\\extensions\\ms-vscode.c\n",
      "Administr   6896   0.0    1.8M    1.1M    32  runni  Sep24  00:21  \\\\?\\E:\\Microsoft VS Code\\resources\\app\\node_modules.a\n",
      "Administr   6936   1.5  143.8M  118.4M    32  runni  Sep24  01:25  E:\\Microsoft VS Code\\Code.exe --type=renderer --disab\n",
      "Administr   6996   0.2   11.0M   12.7M    32  runni  Sep24  00:06  E:\\Microsoft VS Code\\Code.exe --type=utility --field-\n",
      "Administr   7268   0.7   45.1M   53.0M    32  runni  10:34  00:02  E:/Anaconda3\\python.exe -m ipykernel_launcher -f C:\\U\n",
      "Administr   7336   0.2   12.2M   19.9M    64  runni  10:36  00:00  C:\\Program Files (x86)\\Google\\Chrome\\Application\\chro\n",
      "Administr   7364   0.0    1.6M    1.4M    32  runni  Sep25  00:00  C:\\Program Files (x86)\\Google\\Chrome\\Application\\chro\n",
      "Administr   7396   0.3   10.8M   27.2M    32  runni  10:56  00:03  E:\\Program Files (x86)\\sogoupinyin\\8.3.0.9576\\SGTool.\n",
      "Administr   7432   1.7   89.6M  134.1M    32  runni  Sep24  04:27  C:\\Windows\\explorer.exe /LOADSAVEDWINDOWS\n",
      "            7484   0.1    2.6M    6.8M        runni  Sep25  00:00  vmnat.exe\n",
      "Administr   7944   0.2   21.2M   16.2M    32  runni  Sep25  00:12  \\??\\C:\\WINDOWS\\system32\\conhost.exe 0x4\n",
      "            8044   0.0    1.1M    3.2M        runni  Sep25  00:00  fontdrvhost.exe\n",
      "Administr   8220   0.3   22.0M   26.5M    32  runni  Sep25  00:50  C:\\Program Files (x86)\\Google\\Chrome\\Application\\chro\n",
      "Administr   8252   2.2  213.9M  179.6M    32  runni  Sep25  10:18  C:\\Program Files (x86)\\Google\\Chrome\\Application\\chro\n",
      "Administr   8308   0.4   18.5M   30.3M    32  runni  10:56  00:00  C:\\Program Files (x86)\\Google\\Chrome\\Application\\chro\n",
      "Administr   8332   1.4   99.9M  115.8M    64  runni  Sep25  02:41  C:\\Program Files (x86)\\Google\\Chrome\\Application\\chro\n",
      "Administr   8356   0.4   20.7M   30.3M    32  runni  10:07  00:07  node E:\\Program Files (x86)\\nodejs\\node_global\\node_m\n",
      "Administr   8372   0.3   30.8M   27.1M    32  runni  Sep25  00:03  C:\\Program Files (x86)\\Google\\Chrome\\Application\\chro\n",
      "            8392   0.1    3.9M   11.8M        runni  Sep25  00:00  ChsIME.exe\n",
      "Administr   8492   0.0    1.6M    1.2M    32  runni  Sep25  00:00  C:\\Windows\\System32\\cmd.exe\n",
      "Administr   8684   0.0    1.4M    1.7M    32  runni  Sep25  00:00  C:\\Program Files (x86)\\Google\\Chrome\\Application\\chro\n",
      "Administr   8688   1.0   55.2M   77.4M    64  runni  10:32  00:22  C:\\Program Files (x86)\\Google\\Chrome\\Application\\chro\n",
      "            8968   0.1    1.9M    6.0M        runni  10:40  00:00  SearchProtocolHost.exe\n",
      "Administr   9100   0.3   57.9M   25.9M    32  runni  Sep25  00:02  E:/Anaconda3\\python.exe -m ipykernel_launcher -f C:\\U\n",
      "Administr   9132   0.4   26.5M   35.2M    64  runni  Sep25  00:04  C:\\Program Files (x86)\\Google\\Chrome\\Application\\chro\n"
     ]
    }
   ],
   "source": [
    " psutil.test()"
   ]
  },
  {
   "cell_type": "code",
   "execution_count": null,
   "metadata": {},
   "outputs": [],
   "source": []
  }
 ],
 "metadata": {
  "kernelspec": {
   "display_name": "Python 3",
   "language": "python",
   "name": "python3"
  },
  "language_info": {
   "codemirror_mode": {
    "name": "ipython",
    "version": 3
   },
   "file_extension": ".py",
   "mimetype": "text/x-python",
   "name": "python",
   "nbconvert_exporter": "python",
   "pygments_lexer": "ipython3",
   "version": "3.7.6"
  }
 },
 "nbformat": 4,
 "nbformat_minor": 4
}
